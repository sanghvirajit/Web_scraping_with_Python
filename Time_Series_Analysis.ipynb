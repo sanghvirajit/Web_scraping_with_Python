{
 "cells": [
  {
   "cell_type": "code",
   "execution_count": 1,
   "metadata": {},
   "outputs": [
    {
     "name": "stderr",
     "output_type": "stream",
     "text": [
      "\n",
      "Bad key \"text.kerning_factor\" on line 4 in\n",
      "C:\\Users\\Rajit_Sanghvi\\Anaconda3\\lib\\site-packages\\matplotlib\\mpl-data\\stylelib\\_classic_test_patch.mplstyle.\n",
      "You probably need to get an updated matplotlibrc file from\n",
      "http://github.com/matplotlib/matplotlib/blob/master/matplotlibrc.template\n",
      "or from the matplotlib source distribution\n"
     ]
    }
   ],
   "source": [
    "import numpy as np\n",
    "import pandas as pd\n",
    "\n",
    "import matplotlib.pyplot as plt\n",
    "import seaborn as sn"
   ]
  },
  {
   "cell_type": "code",
   "execution_count": 2,
   "metadata": {},
   "outputs": [
    {
     "data": {
      "text/html": [
       "<div>\n",
       "<style scoped>\n",
       "    .dataframe tbody tr th:only-of-type {\n",
       "        vertical-align: middle;\n",
       "    }\n",
       "\n",
       "    .dataframe tbody tr th {\n",
       "        vertical-align: top;\n",
       "    }\n",
       "\n",
       "    .dataframe thead th {\n",
       "        text-align: right;\n",
       "    }\n",
       "</style>\n",
       "<table border=\"1\" class=\"dataframe\">\n",
       "  <thead>\n",
       "    <tr style=\"text-align: right;\">\n",
       "      <th></th>\n",
       "      <th>Open</th>\n",
       "      <th>High</th>\n",
       "      <th>Low</th>\n",
       "      <th>Close</th>\n",
       "      <th>Adj Close</th>\n",
       "      <th>Volume</th>\n",
       "    </tr>\n",
       "    <tr>\n",
       "      <th>Date</th>\n",
       "      <th></th>\n",
       "      <th></th>\n",
       "      <th></th>\n",
       "      <th></th>\n",
       "      <th></th>\n",
       "      <th></th>\n",
       "    </tr>\n",
       "  </thead>\n",
       "  <tbody>\n",
       "    <tr>\n",
       "      <th>2020-09-08</th>\n",
       "      <td>113.949997</td>\n",
       "      <td>118.989998</td>\n",
       "      <td>112.680000</td>\n",
       "      <td>112.820000</td>\n",
       "      <td>112.098999</td>\n",
       "      <td>231366600</td>\n",
       "    </tr>\n",
       "    <tr>\n",
       "      <th>2020-09-09</th>\n",
       "      <td>117.260002</td>\n",
       "      <td>119.139999</td>\n",
       "      <td>115.260002</td>\n",
       "      <td>117.320000</td>\n",
       "      <td>116.570236</td>\n",
       "      <td>176940500</td>\n",
       "    </tr>\n",
       "    <tr>\n",
       "      <th>2020-09-10</th>\n",
       "      <td>120.360001</td>\n",
       "      <td>120.500000</td>\n",
       "      <td>112.500000</td>\n",
       "      <td>113.489998</td>\n",
       "      <td>112.764717</td>\n",
       "      <td>182274400</td>\n",
       "    </tr>\n",
       "    <tr>\n",
       "      <th>2020-09-11</th>\n",
       "      <td>114.570000</td>\n",
       "      <td>115.230003</td>\n",
       "      <td>110.000000</td>\n",
       "      <td>112.000000</td>\n",
       "      <td>111.284241</td>\n",
       "      <td>180860300</td>\n",
       "    </tr>\n",
       "    <tr>\n",
       "      <th>2020-09-14</th>\n",
       "      <td>114.720001</td>\n",
       "      <td>115.930000</td>\n",
       "      <td>112.800003</td>\n",
       "      <td>115.360001</td>\n",
       "      <td>114.622765</td>\n",
       "      <td>140150100</td>\n",
       "    </tr>\n",
       "  </tbody>\n",
       "</table>\n",
       "</div>"
      ],
      "text/plain": [
       "                  Open        High         Low       Close   Adj Close  \\\n",
       "Date                                                                     \n",
       "2020-09-08  113.949997  118.989998  112.680000  112.820000  112.098999   \n",
       "2020-09-09  117.260002  119.139999  115.260002  117.320000  116.570236   \n",
       "2020-09-10  120.360001  120.500000  112.500000  113.489998  112.764717   \n",
       "2020-09-11  114.570000  115.230003  110.000000  112.000000  111.284241   \n",
       "2020-09-14  114.720001  115.930000  112.800003  115.360001  114.622765   \n",
       "\n",
       "               Volume  \n",
       "Date                   \n",
       "2020-09-08  231366600  \n",
       "2020-09-09  176940500  \n",
       "2020-09-10  182274400  \n",
       "2020-09-11  180860300  \n",
       "2020-09-14  140150100  "
      ]
     },
     "execution_count": 2,
     "metadata": {},
     "output_type": "execute_result"
    }
   ],
   "source": [
    "df = pd.read_csv(\"AAPL.csv\", parse_dates=[\"Date\"], index_col=\"Date\")\n",
    "df.head()"
   ]
  },
  {
   "cell_type": "code",
   "execution_count": 3,
   "metadata": {},
   "outputs": [
    {
     "data": {
      "text/html": [
       "<div>\n",
       "<style scoped>\n",
       "    .dataframe tbody tr th:only-of-type {\n",
       "        vertical-align: middle;\n",
       "    }\n",
       "\n",
       "    .dataframe tbody tr th {\n",
       "        vertical-align: top;\n",
       "    }\n",
       "\n",
       "    .dataframe thead th {\n",
       "        text-align: right;\n",
       "    }\n",
       "</style>\n",
       "<table border=\"1\" class=\"dataframe\">\n",
       "  <thead>\n",
       "    <tr style=\"text-align: right;\">\n",
       "      <th></th>\n",
       "      <th>Open</th>\n",
       "      <th>High</th>\n",
       "      <th>Low</th>\n",
       "      <th>Close</th>\n",
       "      <th>Volume</th>\n",
       "    </tr>\n",
       "    <tr>\n",
       "      <th>Date</th>\n",
       "      <th></th>\n",
       "      <th></th>\n",
       "      <th></th>\n",
       "      <th></th>\n",
       "      <th></th>\n",
       "    </tr>\n",
       "  </thead>\n",
       "  <tbody>\n",
       "    <tr>\n",
       "      <th>2020-09-08</th>\n",
       "      <td>113.949997</td>\n",
       "      <td>118.989998</td>\n",
       "      <td>112.680000</td>\n",
       "      <td>112.820000</td>\n",
       "      <td>231366600</td>\n",
       "    </tr>\n",
       "    <tr>\n",
       "      <th>2020-09-09</th>\n",
       "      <td>117.260002</td>\n",
       "      <td>119.139999</td>\n",
       "      <td>115.260002</td>\n",
       "      <td>117.320000</td>\n",
       "      <td>176940500</td>\n",
       "    </tr>\n",
       "    <tr>\n",
       "      <th>2020-09-10</th>\n",
       "      <td>120.360001</td>\n",
       "      <td>120.500000</td>\n",
       "      <td>112.500000</td>\n",
       "      <td>113.489998</td>\n",
       "      <td>182274400</td>\n",
       "    </tr>\n",
       "    <tr>\n",
       "      <th>2020-09-11</th>\n",
       "      <td>114.570000</td>\n",
       "      <td>115.230003</td>\n",
       "      <td>110.000000</td>\n",
       "      <td>112.000000</td>\n",
       "      <td>180860300</td>\n",
       "    </tr>\n",
       "    <tr>\n",
       "      <th>2020-09-14</th>\n",
       "      <td>114.720001</td>\n",
       "      <td>115.930000</td>\n",
       "      <td>112.800003</td>\n",
       "      <td>115.360001</td>\n",
       "      <td>140150100</td>\n",
       "    </tr>\n",
       "  </tbody>\n",
       "</table>\n",
       "</div>"
      ],
      "text/plain": [
       "                  Open        High         Low       Close     Volume\n",
       "Date                                                                 \n",
       "2020-09-08  113.949997  118.989998  112.680000  112.820000  231366600\n",
       "2020-09-09  117.260002  119.139999  115.260002  117.320000  176940500\n",
       "2020-09-10  120.360001  120.500000  112.500000  113.489998  182274400\n",
       "2020-09-11  114.570000  115.230003  110.000000  112.000000  180860300\n",
       "2020-09-14  114.720001  115.930000  112.800003  115.360001  140150100"
      ]
     },
     "execution_count": 3,
     "metadata": {},
     "output_type": "execute_result"
    }
   ],
   "source": [
    "df = df.drop(['Adj Close'], axis=1)\n",
    "df.head()"
   ]
  },
  {
   "cell_type": "code",
   "execution_count": 4,
   "metadata": {
    "scrolled": true
   },
   "outputs": [
    {
     "data": {
      "text/plain": [
       "DatetimeIndex(['2020-09-08', '2020-09-09', '2020-09-10', '2020-09-11',\n",
       "               '2020-09-14', '2020-09-15', '2020-09-16', '2020-09-17',\n",
       "               '2020-09-18', '2020-09-21',\n",
       "               ...\n",
       "               '2021-08-24', '2021-08-25', '2021-08-26', '2021-08-27',\n",
       "               '2021-08-30', '2021-08-31', '2021-09-01', '2021-09-02',\n",
       "               '2021-09-03', '2021-09-07'],\n",
       "              dtype='datetime64[ns]', name='Date', length=252, freq=None)"
      ]
     },
     "execution_count": 4,
     "metadata": {},
     "output_type": "execute_result"
    }
   ],
   "source": [
    "df.index"
   ]
  },
  {
   "cell_type": "markdown",
   "metadata": {},
   "source": [
    "## Time Series Analysis"
   ]
  },
  {
   "cell_type": "markdown",
   "metadata": {},
   "source": [
    "DateTime as index is useful to get dataframe easily for furthur analysis"
   ]
  },
  {
   "cell_type": "code",
   "execution_count": 5,
   "metadata": {},
   "outputs": [
    {
     "data": {
      "text/plain": [
       "Date\n",
       "2020-09-08    112.820000\n",
       "2020-09-09    117.320000\n",
       "2020-09-10    113.489998\n",
       "2020-09-11    112.000000\n",
       "2020-09-14    115.360001\n",
       "2020-09-15    115.540001\n",
       "2020-09-16    112.129997\n",
       "2020-09-17    110.339996\n",
       "2020-09-18    106.839996\n",
       "2020-09-21    110.080002\n",
       "2020-09-22    111.809998\n",
       "2020-09-23    107.120003\n",
       "2020-09-24    108.220001\n",
       "2020-09-25    112.279999\n",
       "2020-09-28    114.959999\n",
       "2020-09-29    114.089996\n",
       "2020-09-30    115.809998\n",
       "Name: Close, dtype: float64"
      ]
     },
     "execution_count": 5,
     "metadata": {},
     "output_type": "execute_result"
    }
   ],
   "source": [
    "df[\"2020-09\"].Close"
   ]
  },
  {
   "cell_type": "code",
   "execution_count": 6,
   "metadata": {},
   "outputs": [
    {
     "data": {
      "text/plain": [
       "112.3652932352941"
      ]
     },
     "execution_count": 6,
     "metadata": {},
     "output_type": "execute_result"
    }
   ],
   "source": [
    "df[\"2020-09\"].Close.mean()"
   ]
  },
  {
   "cell_type": "code",
   "execution_count": 7,
   "metadata": {},
   "outputs": [
    {
     "data": {
      "text/plain": [
       "118.61987643209874"
      ]
     },
     "execution_count": 7,
     "metadata": {},
     "output_type": "execute_result"
    }
   ],
   "source": [
    "df[\"2020-08\":\"2020-12\"].Close.mean()"
   ]
  },
  {
   "cell_type": "markdown",
   "metadata": {},
   "source": [
    "## Resampling - To get monthly/Quarterly data rather than daily frequency"
   ]
  },
  {
   "cell_type": "code",
   "execution_count": 8,
   "metadata": {},
   "outputs": [
    {
     "data": {
      "text/plain": [
       "Date\n",
       "2020-09-30    112.365293\n",
       "2020-10-31    116.413182\n",
       "2020-11-30    116.825999\n",
       "2020-12-31    127.290455\n",
       "2021-01-31    133.036842\n",
       "2021-02-28    131.531579\n",
       "2021-03-31    121.871304\n",
       "2021-04-30    131.812858\n",
       "2021-05-31    126.784000\n",
       "2021-06-30    129.958636\n",
       "2021-07-31    145.139524\n",
       "2021-08-31    148.177727\n",
       "2021-09-30    154.287498\n",
       "Freq: M, Name: Close, dtype: float64"
      ]
     },
     "execution_count": 8,
     "metadata": {},
     "output_type": "execute_result"
    }
   ],
   "source": [
    "df.Close.resample('M').mean()"
   ]
  },
  {
   "cell_type": "code",
   "execution_count": 9,
   "metadata": {},
   "outputs": [
    {
     "data": {
      "text/plain": [
       "<matplotlib.axes._subplots.AxesSubplot at 0x2aceea9ff28>"
      ]
     },
     "execution_count": 9,
     "metadata": {},
     "output_type": "execute_result"
    },
    {
     "data": {
      "image/png": "[encoded data removed]",
      "text/plain": [
       "<Figure size 432x288 with 1 Axes>"
      ]
     },
     "metadata": {
      "needs_background": "light"
     },
     "output_type": "display_data"
    }
   ],
   "source": [
    "%matplotlib inline\n",
    "df.Close.resample('M').mean().plot()"
   ]
  },
  {
   "cell_type": "code",
   "execution_count": 10,
   "metadata": {},
   "outputs": [
    {
     "data": {
      "text/plain": [
       "<matplotlib.axes._subplots.AxesSubplot at 0x2acf0b81cf8>"
      ]
     },
     "execution_count": 10,
     "metadata": {},
     "output_type": "execute_result"
    },
    {
     "data": {
      "image/png": "[encoded data removed]",
      "text/plain": [
       "<Figure size 432x288 with 1 Axes>"
      ]
     },
     "metadata": {
      "needs_background": "light"
     },
     "output_type": "display_data"
    }
   ],
   "source": [
    "%matplotlib inline\n",
    "df.Open.resample('M').mean().plot()\n",
    "df.Close.resample('M').mean().plot()"
   ]
  },
  {
   "cell_type": "code",
   "execution_count": 11,
   "metadata": {},
   "outputs": [
    {
     "data": {
      "text/plain": [
       "<matplotlib.axes._subplots.AxesSubplot at 0x2acf0be32b0>"
      ]
     },
     "execution_count": 11,
     "metadata": {},
     "output_type": "execute_result"
    },
    {
     "data": {
      "image/png": "[encoded data removed]",
      "text/plain": [
       "<Figure size 432x288 with 1 Axes>"
      ]
     },
     "metadata": {
      "needs_background": "light"
     },
     "output_type": "display_data"
    }
   ],
   "source": [
    "%matplotlib inline\n",
    "df.Open.resample('Q').mean().plot()\n",
    "df.Close.resample('Q').mean().plot()"
   ]
  },
  {
   "cell_type": "code",
   "execution_count": 12,
   "metadata": {},
   "outputs": [
    {
     "data": {
      "text/plain": [
       "<matplotlib.axes._subplots.AxesSubplot at 0x2acf0c392b0>"
      ]
     },
     "execution_count": 12,
     "metadata": {},
     "output_type": "execute_result"
    },
    {
     "data": {
      "image/png": "[encoded data removed]",
      "text/plain": [
       "<Figure size 432x288 with 1 Axes>"
      ]
     },
     "metadata": {
      "needs_background": "light"
     },
     "output_type": "display_data"
    }
   ],
   "source": [
    "df.Close.plot()"
   ]
  },
  {
   "cell_type": "code",
   "execution_count": 13,
   "metadata": {},
   "outputs": [
    {
     "data": {
      "text/plain": [
       "Date\n",
       "2020-09-08    112.820000\n",
       "2020-09-09    117.320000\n",
       "2020-09-10    113.489998\n",
       "2020-09-11    112.000000\n",
       "2020-09-14    115.360001\n",
       "                 ...    \n",
       "2021-08-31    151.830002\n",
       "2021-09-01    152.509995\n",
       "2021-09-02    153.649994\n",
       "2021-09-03    154.300003\n",
       "2021-09-07    156.690002\n",
       "Name: Close, Length: 252, dtype: float64"
      ]
     },
     "execution_count": 13,
     "metadata": {},
     "output_type": "execute_result"
    }
   ],
   "source": [
    "df_new = df.Close\n",
    "df_new"
   ]
  },
  {
   "cell_type": "code",
   "execution_count": 21,
   "metadata": {
    "scrolled": false
   },
   "outputs": [
    {
     "name": "stdout",
     "output_type": "stream",
     "text": [
      "Requirement already satisfied: plotly in c:\\users\\rajit_sanghvi\\anaconda3\\lib\\site-packages (5.1.0)\n",
      "Requirement already satisfied: tenacity>=6.2.0 in c:\\users\\rajit_sanghvi\\anaconda3\\lib\\site-packages (from plotly) (8.0.1)\n",
      "Requirement already satisfied: six in c:\\users\\rajit_sanghvi\\anaconda3\\lib\\site-packages (from plotly) (1.14.0)\n"
     ]
    },
    {
     "name": "stderr",
     "output_type": "stream",
     "text": [
      "WARNING: You are using pip version 21.0.1; however, version 21.2.4 is available.\n",
      "You should consider upgrading via the 'c:\\users\\rajit_sanghvi\\anaconda3\\python.exe -m pip install --upgrade pip' command.\n"
     ]
    },
    {
     "data": {
      "application/vnd.plotly.v1+json": {
       "config": {
        "plotlyServerURL": "https://plot.ly"
       },
       "data": [
        {
         "close": [
          112.82,
          117.32,
          113.489998,
          112,
          115.360001,
          115.540001,
          112.129997,
          110.339996,
          106.839996,
          110.08000200000001,
          111.809998,
          107.120003,
          108.220001,
          112.279999,
          114.959999,
          114.089996,
          115.809998,
          116.790001,
          113.019997,
          116.5,
          113.160004,
          115.08000200000001,
          114.970001,
          116.970001,
          124.400002,
          121.099998,
          121.190002,
          120.709999,
          119.019997,
          115.980003,
          117.510002,
          116.870003,
          115.75,
          115.040001,
          115.050003,
          116.599998,
          111.199997,
          115.32,
          108.860001,
          108.769997,
          110.440002,
          114.949997,
          119.029999,
          118.690002,
          116.32,
          115.970001,
          119.489998,
          119.209999,
          119.260002,
          120.300003,
          119.389999,
          118.029999,
          118.639999,
          117.339996,
          113.849998,
          115.16999799999999,
          116.029999,
          116.589996,
          119.050003,
          122.720001,
          123.08000200000001,
          122.940002,
          122.25,
          123.75,
          124.379997,
          121.779999,
          123.239998,
          122.410004,
          121.779999,
          127.879997,
          127.809998,
          128.699997,
          126.660004,
          128.229996,
          131.880005,
          130.96000700000002,
          131.970001,
          136.690002,
          134.869995,
          133.720001,
          132.690002,
          129.41000400000001,
          131.009995,
          126.599998,
          130.919998,
          132.050003,
          128.979996,
          128.800003,
          130.889999,
          128.91000400000001,
          127.139999,
          127.83000200000001,
          132.029999,
          136.869995,
          139.070007,
          142.919998,
          143.16000400000001,
          142.059998,
          137.08999599999999,
          131.96000700000002,
          134.139999,
          134.990005,
          133.940002,
          137.389999,
          136.759995,
          136.91000400000001,
          136.009995,
          135.389999,
          135.130005,
          135.369995,
          133.190002,
          130.83999599999999,
          129.71000700000002,
          129.869995,
          126,
          125.860001,
          125.349998,
          120.989998,
          121.260002,
          127.790001,
          125.120003,
          122.059998,
          120.129997,
          121.41999799999999,
          116.360001,
          121.089996,
          119.980003,
          121.959999,
          121.029999,
          123.989998,
          125.57,
          124.760002,
          120.529999,
          119.989998,
          123.389999,
          122.540001,
          120.089996,
          120.589996,
          121.209999,
          121.389999,
          119.900002,
          122.150002,
          123,
          125.900002,
          126.209999,
          127.900002,
          130.360001,
          133,
          131.240005,
          134.429993,
          132.029999,
          134.5,
          134.16000400000001,
          134.83999599999999,
          133.110001,
          133.5,
          131.940002,
          134.320007,
          134.720001,
          134.389999,
          133.580002,
          133.479996,
          131.46000700000002,
          132.53999299999998,
          127.849998,
          128.100006,
          129.740005,
          130.21000700000002,
          126.849998,
          125.910004,
          122.769997,
          124.970001,
          127.449997,
          126.269997,
          124.849998,
          124.690002,
          127.309998,
          125.43,
          127.099998,
          126.900002,
          126.849998,
          125.279999,
          124.610001,
          124.279999,
          125.059998,
          123.540001,
          125.889999,
          125.900002,
          126.739998,
          127.129997,
          126.110001,
          127.349998,
          130.479996,
          129.639999,
          130.149994,
          131.78999299999998,
          130.46000700000002,
          132.300003,
          133.979996,
          133.699997,
          133.41000400000001,
          133.110001,
          134.779999,
          136.330002,
          136.96000700000002,
          137.270004,
          139.96000700000002,
          142.020004,
          144.570007,
          143.240005,
          145.110001,
          144.5,
          145.639999,
          149.149994,
          148.479996,
          146.389999,
          142.449997,
          146.149994,
          145.399994,
          146.800003,
          148.559998,
          148.990005,
          146.770004,
          144.979996,
          145.639999,
          145.860001,
          145.520004,
          147.360001,
          146.949997,
          147.059998,
          146.139999,
          146.08999599999999,
          145.600006,
          145.860001,
          148.889999,
          149.100006,
          151.119995,
          150.190002,
          146.360001,
          146.699997,
          148.190002,
          149.71000700000002,
          149.619995,
          148.360001,
          147.53999299999998,
          148.600006,
          153.119995,
          151.830002,
          152.509995,
          153.649994,
          154.300003,
          156.690002
         ],
         "high": [
          118.989998,
          119.139999,
          120.5,
          115.230003,
          115.93,
          118.83000200000001,
          116,
          112.199997,
          110.879997,
          110.190002,
          112.860001,
          112.110001,
          110.25,
          112.440002,
          115.32,
          115.309998,
          117.260002,
          117.720001,
          115.370003,
          116.650002,
          116.120003,
          115.550003,
          116.400002,
          117,
          125.18,
          125.389999,
          123.029999,
          121.199997,
          121.550003,
          120.41999799999999,
          118.980003,
          118.709999,
          118.040001,
          116.550003,
          116.550003,
          117.279999,
          115.43,
          116.93,
          111.989998,
          110.68,
          111.489998,
          115.589996,
          119.620003,
          119.199997,
          121.989998,
          117.589996,
          119.629997,
          120.529999,
          119.66999799999999,
          120.989998,
          120.66999799999999,
          119.82,
          119.059998,
          118.769997,
          117.620003,
          115.849998,
          116.75,
          117.489998,
          120.970001,
          123.470001,
          123.370003,
          123.779999,
          122.860001,
          124.57,
          124.980003,
          125.949997,
          123.870003,
          122.760002,
          123.349998,
          127.900002,
          128.369995,
          129.580002,
          129.100006,
          128.309998,
          134.41000400000001,
          132.429993,
          133.46000700000002,
          137.33999599999999,
          138.78999299999998,
          135.990005,
          134.740005,
          133.610001,
          131.740005,
          131.050003,
          131.630005,
          132.630005,
          130.169998,
          129.690002,
          131.449997,
          131,
          130.220001,
          128.71000700000002,
          132.490005,
          139.669998,
          139.850006,
          145.08999599999999,
          144.300003,
          144.300003,
          141.990005,
          136.740005,
          135.380005,
          136.309998,
          135.770004,
          137.399994,
          137.419998,
          136.96000700000002,
          137.880005,
          136.990005,
          136.389999,
          135.529999,
          136.009995,
          132.220001,
          130,
          130.71000700000002,
          129.720001,
          126.709999,
          125.559998,
          126.459999,
          124.849998,
          127.93,
          128.720001,
          125.709999,
          123.599998,
          121.940002,
          121,
          122.059998,
          122.16999799999999,
          123.209999,
          121.16999799999999,
          124,
          127.220001,
          125.860001,
          123.18,
          121.43,
          123.870003,
          124.239998,
          122.900002,
          121.660004,
          121.480003,
          122.58000200000001,
          120.400002,
          123.519997,
          124.18,
          126.160004,
          127.129997,
          127.91999799999999,
          130.389999,
          133.03999299999998,
          132.850006,
          134.66000400000001,
          135,
          135,
          134.669998,
          135.470001,
          135.529999,
          133.75,
          134.149994,
          135.119995,
          135.059998,
          135.41000400000001,
          135.020004,
          137.070007,
          133.559998,
          134.070007,
          131.490005,
          130.449997,
          129.75,
          131.259995,
          129.53999299999998,
          126.269997,
          124.639999,
          126.150002,
          127.889999,
          126.93,
          126.989998,
          124.91999799999999,
          127.720001,
          128,
          127.940002,
          128.320007,
          127.389999,
          127.639999,
          125.800003,
          125.349998,
          125.239998,
          124.849998,
          126.160004,
          126.32,
          128.46000700000002,
          127.75,
          128.190002,
          127.440002,
          130.53999299999998,
          130.600006,
          130.889999,
          132.550003,
          131.509995,
          132.41000400000001,
          134.080002,
          134.320007,
          134.639999,
          133.889999,
          135.25,
          136.490005,
          137.41000400000001,
          137.330002,
          140,
          143.149994,
          144.889999,
          144.059998,
          145.649994,
          146.320007,
          147.46000700000002,
          149.570007,
          150,
          149.759995,
          144.070007,
          147.100006,
          146.130005,
          148.199997,
          148.720001,
          149.830002,
          149.21000700000002,
          146.970001,
          146.550003,
          146.330002,
          146.949997,
          148.03999299999998,
          147.78999299999998,
          147.83999599999999,
          147.110001,
          146.699997,
          147.71000700000002,
          146.720001,
          149.050003,
          149.440002,
          151.190002,
          151.679993,
          150.720001,
          148,
          148.5,
          150.190002,
          150.860001,
          150.320007,
          149.119995,
          148.75,
          153.490005,
          152.800003,
          154.979996,
          154.720001,
          154.630005,
          157.259995
         ],
         "low": [
          112.68,
          115.260002,
          112.5,
          110,
          112.800003,
          113.610001,
          112.040001,
          108.709999,
          106.089996,
          103.099998,
          109.160004,
          106.769997,
          105,
          107.66999799999999,
          112.779999,
          113.57,
          113.620003,
          115.83000200000001,
          112.220001,
          113.550003,
          112.25,
          114.129997,
          114.589996,
          114.91999799999999,
          119.279999,
          119.650002,
          119.620003,
          118.150002,
          118.809998,
          115.660004,
          115.629997,
          116.449997,
          114.589996,
          114.279999,
          112.879997,
          114.540001,
          111.099998,
          112.199997,
          107.720001,
          107.32,
          108.730003,
          112.349998,
          116.870003,
          116.129997,
          116.050003,
          114.129997,
          116.440002,
          118.57,
          117.870003,
          118.150002,
          118.959999,
          118,
          116.809998,
          117.290001,
          113.75,
          112.589996,
          115.16999799999999,
          116.220001,
          116.809998,
          120.010002,
          120.889999,
          122.209999,
          121.519997,
          122.25,
          123.089996,
          121,
          120.150002,
          120.550003,
          121.540001,
          124.129997,
          126.559998,
          128.03999299999998,
          126.120003,
          123.449997,
          129.649994,
          130.779999,
          131.100006,
          133.509995,
          134.33999599999999,
          133.399994,
          131.720001,
          126.760002,
          128.429993,
          126.379997,
          127.860001,
          130.229996,
          128.5,
          126.860001,
          128.490005,
          128.759995,
          127,
          126.940002,
          128.550003,
          133.58999599999999,
          135.020004,
          136.53999299999998,
          141.369995,
          140.41000400000001,
          136.699997,
          130.21000700000002,
          130.929993,
          134.610001,
          133.610001,
          134.58999599999999,
          135.860001,
          134.919998,
          135.850006,
          134.399994,
          133.770004,
          133.690002,
          132.78999299999998,
          129.470001,
          127.410004,
          128.800003,
          125.599998,
          118.389999,
          122.230003,
          120.540001,
          121.199997,
          122.790001,
          125.010002,
          121.839996,
          118.620003,
          117.57,
          116.209999,
          118.790001,
          119.449997,
          121.260002,
          119.160004,
          120.41999799999999,
          124.720001,
          122.339996,
          120.32,
          119.68,
          120.260002,
          122.139999,
          120.07,
          119,
          118.91999799999999,
          120.730003,
          118.860001,
          121.150002,
          122.489998,
          123.07,
          125.650002,
          125.139999,
          128.520004,
          129.470001,
          130.630005,
          131.929993,
          131.66000400000001,
          133.639999,
          133.279999,
          133.33999599999999,
          131.809998,
          131.300003,
          131.41000400000001,
          132.16000400000001,
          133.559998,
          134.110001,
          133.080002,
          132.449997,
          131.070007,
          131.830002,
          126.699997,
          127.970001,
          127.129997,
          129.479996,
          126.809998,
          122.769997,
          122.25,
          124.260002,
          125.849998,
          125.16999799999999,
          124.779999,
          122.860001,
          125.099998,
          125.209999,
          125.940002,
          126.32,
          126.41999799999999,
          125.08000200000001,
          124.550003,
          123.940002,
          124.050003,
          123.129997,
          123.849998,
          124.83000200000001,
          126.209999,
          126.519997,
          125.940002,
          126.099998,
          127.07,
          129.389999,
          128.46000700000002,
          129.649994,
          130.240005,
          129.21000700000002,
          131.619995,
          133.229996,
          132.929993,
          132.809998,
          133.350006,
          134.350006,
          135.869995,
          135.759995,
          137.75,
          140.070007,
          142.66000400000001,
          140.669998,
          142.649994,
          144,
          143.630005,
          147.679993,
          147.08999599999999,
          145.880005,
          141.669998,
          142.96000700000002,
          144.630005,
          145.809998,
          146.919998,
          147.699997,
          145.550003,
          142.53999299999998,
          144.580002,
          144.110001,
          145.25,
          145.179993,
          146.279999,
          146.169998,
          145.630005,
          145.520004,
          145.300003,
          145.529999,
          145.83999599999999,
          148.270004,
          146.470001,
          149.08999599999999,
          146.149994,
          144.5,
          146.779999,
          147.889999,
          149.149994,
          147.800003,
          147.509995,
          146.830002,
          148.610001,
          151.28999299999998,
          152.33999599999999,
          152.399994,
          153.08999599999999,
          154.389999
         ],
         "name": "Candlestick",
         "open": [
          113.949997,
          117.260002,
          120.360001,
          114.57,
          114.720001,
          118.33000200000001,
          115.230003,
          109.720001,
          110.400002,
          104.540001,
          112.68,
          111.620003,
          105.16999799999999,
          108.43,
          115.010002,
          114.550003,
          113.790001,
          117.639999,
          112.889999,
          113.910004,
          115.699997,
          114.620003,
          116.25,
          115.279999,
          120.059998,
          125.269997,
          121,
          118.720001,
          121.279999,
          119.959999,
          116.199997,
          116.66999799999999,
          117.449997,
          116.389999,
          114.010002,
          115.489998,
          115.050003,
          112.370003,
          111.059998,
          109.110001,
          109.660004,
          114.139999,
          117.949997,
          118.32,
          120.5,
          115.550003,
          117.190002,
          119.620003,
          119.440002,
          118.91999799999999,
          119.550003,
          118.610001,
          117.589996,
          118.639999,
          117.18,
          113.910004,
          115.550003,
          116.57,
          116.970001,
          121.010002,
          122.019997,
          123.519997,
          122.599998,
          122.309998,
          124.370003,
          124.529999,
          120.5,
          122.43,
          122.599998,
          124.339996,
          127.410004,
          128.899994,
          128.96000700000002,
          125.019997,
          131.610001,
          132.16000400000001,
          131.320007,
          133.990005,
          138.050003,
          135.580002,
          134.080002,
          133.520004,
          128.889999,
          127.720001,
          128.360001,
          132.429993,
          129.190002,
          128.5,
          128.759995,
          130.800003,
          128.779999,
          127.779999,
          128.66000400000001,
          133.800003,
          136.279999,
          143.070007,
          143.600006,
          143.429993,
          139.520004,
          135.830002,
          133.75,
          135.729996,
          135.759995,
          136.300003,
          137.350006,
          136.029999,
          136.619995,
          136.479996,
          135.899994,
          134.350006,
          135.490005,
          131.25,
          129.199997,
          130.240005,
          128.009995,
          123.760002,
          124.940002,
          124.68,
          122.589996,
          123.75,
          128.41000400000001,
          124.809998,
          121.75,
          120.980003,
          120.93,
          119.029999,
          121.690002,
          122.540001,
          120.400002,
          121.410004,
          125.699997,
          124.050003,
          122.879997,
          119.900002,
          120.33000200000001,
          123.33000200000001,
          122.82,
          119.540001,
          120.349998,
          121.650002,
          120.110001,
          121.650002,
          123.660004,
          123.870003,
          126.5,
          125.83000200000001,
          128.949997,
          129.800003,
          132.520004,
          132.440002,
          134.940002,
          133.820007,
          134.300003,
          133.509995,
          135.020004,
          132.360001,
          133.03999299999998,
          132.16000400000001,
          134.830002,
          135.009995,
          134.309998,
          136.470001,
          131.779999,
          132.03999299999998,
          131.190002,
          129.199997,
          127.889999,
          130.850006,
          129.41000400000001,
          123.5,
          123.400002,
          124.58000200000001,
          126.25,
          126.82,
          126.559998,
          123.160004,
          125.230003,
          127.82,
          126.010002,
          127.82,
          126.959999,
          126.440002,
          125.57,
          125.08000200000001,
          124.279999,
          124.68,
          124.07,
          126.16999799999999,
          126.599998,
          127.209999,
          127.019997,
          126.529999,
          127.82,
          129.940002,
          130.369995,
          129.800003,
          130.71000700000002,
          130.300003,
          132.130005,
          133.770004,
          134.449997,
          133.46000700000002,
          133.41000400000001,
          134.800003,
          136.169998,
          136.600006,
          137.899994,
          140.070007,
          143.53999299999998,
          141.580002,
          142.75,
          146.21000700000002,
          144.029999,
          148.100006,
          149.240005,
          148.46000700000002,
          143.75,
          143.46000700000002,
          145.529999,
          145.940002,
          147.550003,
          148.270004,
          149.119995,
          144.809998,
          144.690002,
          144.380005,
          146.360001,
          145.809998,
          147.270004,
          146.979996,
          146.350006,
          146.199997,
          146.440002,
          146.050003,
          146.190002,
          148.970001,
          148.53999299999998,
          150.229996,
          149.800003,
          145.029999,
          147.440002,
          148.309998,
          149.449997,
          149.809998,
          148.350006,
          147.479996,
          149,
          152.66000400000001,
          152.830002,
          153.869995,
          153.759995,
          154.970001
         ],
         "type": "candlestick",
         "x": [
          "2020-09-08T00:00:00",
          "2020-09-09T00:00:00",
          "2020-09-10T00:00:00",
          "2020-09-11T00:00:00",
          "2020-09-14T00:00:00",
          "2020-09-15T00:00:00",
          "2020-09-16T00:00:00",
          "2020-09-17T00:00:00",
          "2020-09-18T00:00:00",
          "2020-09-21T00:00:00",
          "2020-09-22T00:00:00",
          "2020-09-23T00:00:00",
          "2020-09-24T00:00:00",
          "2020-09-25T00:00:00",
          "2020-09-28T00:00:00",
          "2020-09-29T00:00:00",
          "2020-09-30T00:00:00",
          "2020-10-01T00:00:00",
          "2020-10-02T00:00:00",
          "2020-10-05T00:00:00",
          "2020-10-06T00:00:00",
          "2020-10-07T00:00:00",
          "2020-10-08T00:00:00",
          "2020-10-09T00:00:00",
          "2020-10-12T00:00:00",
          "2020-10-13T00:00:00",
          "2020-10-14T00:00:00",
          "2020-10-15T00:00:00",
          "2020-10-16T00:00:00",
          "2020-10-19T00:00:00",
          "2020-10-20T00:00:00",
          "2020-10-21T00:00:00",
          "2020-10-22T00:00:00",
          "2020-10-23T00:00:00",
          "2020-10-26T00:00:00",
          "2020-10-27T00:00:00",
          "2020-10-28T00:00:00",
          "2020-10-29T00:00:00",
          "2020-10-30T00:00:00",
          "2020-11-02T00:00:00",
          "2020-11-03T00:00:00",
          "2020-11-04T00:00:00",
          "2020-11-05T00:00:00",
          "2020-11-06T00:00:00",
          "2020-11-09T00:00:00",
          "2020-11-10T00:00:00",
          "2020-11-11T00:00:00",
          "2020-11-12T00:00:00",
          "2020-11-13T00:00:00",
          "2020-11-16T00:00:00",
          "2020-11-17T00:00:00",
          "2020-11-18T00:00:00",
          "2020-11-19T00:00:00",
          "2020-11-20T00:00:00",
          "2020-11-23T00:00:00",
          "2020-11-24T00:00:00",
          "2020-11-25T00:00:00",
          "2020-11-27T00:00:00",
          "2020-11-30T00:00:00",
          "2020-12-01T00:00:00",
          "2020-12-02T00:00:00",
          "2020-12-03T00:00:00",
          "2020-12-04T00:00:00",
          "2020-12-07T00:00:00",
          "2020-12-08T00:00:00",
          "2020-12-09T00:00:00",
          "2020-12-10T00:00:00",
          "2020-12-11T00:00:00",
          "2020-12-14T00:00:00",
          "2020-12-15T00:00:00",
          "2020-12-16T00:00:00",
          "2020-12-17T00:00:00",
          "2020-12-18T00:00:00",
          "2020-12-21T00:00:00",
          "2020-12-22T00:00:00",
          "2020-12-23T00:00:00",
          "2020-12-24T00:00:00",
          "2020-12-28T00:00:00",
          "2020-12-29T00:00:00",
          "2020-12-30T00:00:00",
          "2020-12-31T00:00:00",
          "2021-01-04T00:00:00",
          "2021-01-05T00:00:00",
          "2021-01-06T00:00:00",
          "2021-01-07T00:00:00",
          "2021-01-08T00:00:00",
          "2021-01-11T00:00:00",
          "2021-01-12T00:00:00",
          "2021-01-13T00:00:00",
          "2021-01-14T00:00:00",
          "2021-01-15T00:00:00",
          "2021-01-19T00:00:00",
          "2021-01-20T00:00:00",
          "2021-01-21T00:00:00",
          "2021-01-22T00:00:00",
          "2021-01-25T00:00:00",
          "2021-01-26T00:00:00",
          "2021-01-27T00:00:00",
          "2021-01-28T00:00:00",
          "2021-01-29T00:00:00",
          "2021-02-01T00:00:00",
          "2021-02-02T00:00:00",
          "2021-02-03T00:00:00",
          "2021-02-04T00:00:00",
          "2021-02-05T00:00:00",
          "2021-02-08T00:00:00",
          "2021-02-09T00:00:00",
          "2021-02-10T00:00:00",
          "2021-02-11T00:00:00",
          "2021-02-12T00:00:00",
          "2021-02-16T00:00:00",
          "2021-02-17T00:00:00",
          "2021-02-18T00:00:00",
          "2021-02-19T00:00:00",
          "2021-02-22T00:00:00",
          "2021-02-23T00:00:00",
          "2021-02-24T00:00:00",
          "2021-02-25T00:00:00",
          "2021-02-26T00:00:00",
          "2021-03-01T00:00:00",
          "2021-03-02T00:00:00",
          "2021-03-03T00:00:00",
          "2021-03-04T00:00:00",
          "2021-03-05T00:00:00",
          "2021-03-08T00:00:00",
          "2021-03-09T00:00:00",
          "2021-03-10T00:00:00",
          "2021-03-11T00:00:00",
          "2021-03-12T00:00:00",
          "2021-03-15T00:00:00",
          "2021-03-16T00:00:00",
          "2021-03-17T00:00:00",
          "2021-03-18T00:00:00",
          "2021-03-19T00:00:00",
          "2021-03-22T00:00:00",
          "2021-03-23T00:00:00",
          "2021-03-24T00:00:00",
          "2021-03-25T00:00:00",
          "2021-03-26T00:00:00",
          "2021-03-29T00:00:00",
          "2021-03-30T00:00:00",
          "2021-03-31T00:00:00",
          "2021-04-01T00:00:00",
          "2021-04-05T00:00:00",
          "2021-04-06T00:00:00",
          "2021-04-07T00:00:00",
          "2021-04-08T00:00:00",
          "2021-04-09T00:00:00",
          "2021-04-12T00:00:00",
          "2021-04-13T00:00:00",
          "2021-04-14T00:00:00",
          "2021-04-15T00:00:00",
          "2021-04-16T00:00:00",
          "2021-04-19T00:00:00",
          "2021-04-20T00:00:00",
          "2021-04-21T00:00:00",
          "2021-04-22T00:00:00",
          "2021-04-23T00:00:00",
          "2021-04-26T00:00:00",
          "2021-04-27T00:00:00",
          "2021-04-28T00:00:00",
          "2021-04-29T00:00:00",
          "2021-04-30T00:00:00",
          "2021-05-03T00:00:00",
          "2021-05-04T00:00:00",
          "2021-05-05T00:00:00",
          "2021-05-06T00:00:00",
          "2021-05-07T00:00:00",
          "2021-05-10T00:00:00",
          "2021-05-11T00:00:00",
          "2021-05-12T00:00:00",
          "2021-05-13T00:00:00",
          "2021-05-14T00:00:00",
          "2021-05-17T00:00:00",
          "2021-05-18T00:00:00",
          "2021-05-19T00:00:00",
          "2021-05-20T00:00:00",
          "2021-05-21T00:00:00",
          "2021-05-24T00:00:00",
          "2021-05-25T00:00:00",
          "2021-05-26T00:00:00",
          "2021-05-27T00:00:00",
          "2021-05-28T00:00:00",
          "2021-06-01T00:00:00",
          "2021-06-02T00:00:00",
          "2021-06-03T00:00:00",
          "2021-06-04T00:00:00",
          "2021-06-07T00:00:00",
          "2021-06-08T00:00:00",
          "2021-06-09T00:00:00",
          "2021-06-10T00:00:00",
          "2021-06-11T00:00:00",
          "2021-06-14T00:00:00",
          "2021-06-15T00:00:00",
          "2021-06-16T00:00:00",
          "2021-06-17T00:00:00",
          "2021-06-18T00:00:00",
          "2021-06-21T00:00:00",
          "2021-06-22T00:00:00",
          "2021-06-23T00:00:00",
          "2021-06-24T00:00:00",
          "2021-06-25T00:00:00",
          "2021-06-28T00:00:00",
          "2021-06-29T00:00:00",
          "2021-06-30T00:00:00",
          "2021-07-01T00:00:00",
          "2021-07-02T00:00:00",
          "2021-07-06T00:00:00",
          "2021-07-07T00:00:00",
          "2021-07-08T00:00:00",
          "2021-07-09T00:00:00",
          "2021-07-12T00:00:00",
          "2021-07-13T00:00:00",
          "2021-07-14T00:00:00",
          "2021-07-15T00:00:00",
          "2021-07-16T00:00:00",
          "2021-07-19T00:00:00",
          "2021-07-20T00:00:00",
          "2021-07-21T00:00:00",
          "2021-07-22T00:00:00",
          "2021-07-23T00:00:00",
          "2021-07-26T00:00:00",
          "2021-07-27T00:00:00",
          "2021-07-28T00:00:00",
          "2021-07-29T00:00:00",
          "2021-07-30T00:00:00",
          "2021-08-02T00:00:00",
          "2021-08-03T00:00:00",
          "2021-08-04T00:00:00",
          "2021-08-05T00:00:00",
          "2021-08-06T00:00:00",
          "2021-08-09T00:00:00",
          "2021-08-10T00:00:00",
          "2021-08-11T00:00:00",
          "2021-08-12T00:00:00",
          "2021-08-13T00:00:00",
          "2021-08-16T00:00:00",
          "2021-08-17T00:00:00",
          "2021-08-18T00:00:00",
          "2021-08-19T00:00:00",
          "2021-08-20T00:00:00",
          "2021-08-23T00:00:00",
          "2021-08-24T00:00:00",
          "2021-08-25T00:00:00",
          "2021-08-26T00:00:00",
          "2021-08-27T00:00:00",
          "2021-08-30T00:00:00",
          "2021-08-31T00:00:00",
          "2021-09-01T00:00:00",
          "2021-09-02T00:00:00",
          "2021-09-03T00:00:00",
          "2021-09-07T00:00:00"
         ]
        },
        {
         "line": {
          "color": "Blue"
         },
         "name": "Mean Closing",
         "type": "scatter",
         "x": [
          "2020-09-08T00:00:00",
          "2020-09-09T00:00:00",
          "2020-09-10T00:00:00",
          "2020-09-11T00:00:00",
          "2020-09-14T00:00:00",
          "2020-09-15T00:00:00",
          "2020-09-16T00:00:00",
          "2020-09-17T00:00:00",
          "2020-09-18T00:00:00",
          "2020-09-21T00:00:00",
          "2020-09-22T00:00:00",
          "2020-09-23T00:00:00",
          "2020-09-24T00:00:00",
          "2020-09-25T00:00:00",
          "2020-09-28T00:00:00",
          "2020-09-29T00:00:00",
          "2020-09-30T00:00:00",
          "2020-10-01T00:00:00",
          "2020-10-02T00:00:00",
          "2020-10-05T00:00:00",
          "2020-10-06T00:00:00",
          "2020-10-07T00:00:00",
          "2020-10-08T00:00:00",
          "2020-10-09T00:00:00",
          "2020-10-12T00:00:00",
          "2020-10-13T00:00:00",
          "2020-10-14T00:00:00",
          "2020-10-15T00:00:00",
          "2020-10-16T00:00:00",
          "2020-10-19T00:00:00",
          "2020-10-20T00:00:00",
          "2020-10-21T00:00:00",
          "2020-10-22T00:00:00",
          "2020-10-23T00:00:00",
          "2020-10-26T00:00:00",
          "2020-10-27T00:00:00",
          "2020-10-28T00:00:00",
          "2020-10-29T00:00:00",
          "2020-10-30T00:00:00",
          "2020-11-02T00:00:00",
          "2020-11-03T00:00:00",
          "2020-11-04T00:00:00",
          "2020-11-05T00:00:00",
          "2020-11-06T00:00:00",
          "2020-11-09T00:00:00",
          "2020-11-10T00:00:00",
          "2020-11-11T00:00:00",
          "2020-11-12T00:00:00",
          "2020-11-13T00:00:00",
          "2020-11-16T00:00:00",
          "2020-11-17T00:00:00",
          "2020-11-18T00:00:00",
          "2020-11-19T00:00:00",
          "2020-11-20T00:00:00",
          "2020-11-23T00:00:00",
          "2020-11-24T00:00:00",
          "2020-11-25T00:00:00",
          "2020-11-27T00:00:00",
          "2020-11-30T00:00:00",
          "2020-12-01T00:00:00",
          "2020-12-02T00:00:00",
          "2020-12-03T00:00:00",
          "2020-12-04T00:00:00",
          "2020-12-07T00:00:00",
          "2020-12-08T00:00:00",
          "2020-12-09T00:00:00",
          "2020-12-10T00:00:00",
          "2020-12-11T00:00:00",
          "2020-12-14T00:00:00",
          "2020-12-15T00:00:00",
          "2020-12-16T00:00:00",
          "2020-12-17T00:00:00",
          "2020-12-18T00:00:00",
          "2020-12-21T00:00:00",
          "2020-12-22T00:00:00",
          "2020-12-23T00:00:00",
          "2020-12-24T00:00:00",
          "2020-12-28T00:00:00",
          "2020-12-29T00:00:00",
          "2020-12-30T00:00:00",
          "2020-12-31T00:00:00",
          "2021-01-04T00:00:00",
          "2021-01-05T00:00:00",
          "2021-01-06T00:00:00",
          "2021-01-07T00:00:00",
          "2021-01-08T00:00:00",
          "2021-01-11T00:00:00",
          "2021-01-12T00:00:00",
          "2021-01-13T00:00:00",
          "2021-01-14T00:00:00",
          "2021-01-15T00:00:00",
          "2021-01-19T00:00:00",
          "2021-01-20T00:00:00",
          "2021-01-21T00:00:00",
          "2021-01-22T00:00:00",
          "2021-01-25T00:00:00",
          "2021-01-26T00:00:00",
          "2021-01-27T00:00:00",
          "2021-01-28T00:00:00",
          "2021-01-29T00:00:00",
          "2021-02-01T00:00:00",
          "2021-02-02T00:00:00",
          "2021-02-03T00:00:00",
          "2021-02-04T00:00:00",
          "2021-02-05T00:00:00",
          "2021-02-08T00:00:00",
          "2021-02-09T00:00:00",
          "2021-02-10T00:00:00",
          "2021-02-11T00:00:00",
          "2021-02-12T00:00:00",
          "2021-02-16T00:00:00",
          "2021-02-17T00:00:00",
          "2021-02-18T00:00:00",
          "2021-02-19T00:00:00",
          "2021-02-22T00:00:00",
          "2021-02-23T00:00:00",
          "2021-02-24T00:00:00",
          "2021-02-25T00:00:00",
          "2021-02-26T00:00:00",
          "2021-03-01T00:00:00",
          "2021-03-02T00:00:00",
          "2021-03-03T00:00:00",
          "2021-03-04T00:00:00",
          "2021-03-05T00:00:00",
          "2021-03-08T00:00:00",
          "2021-03-09T00:00:00",
          "2021-03-10T00:00:00",
          "2021-03-11T00:00:00",
          "2021-03-12T00:00:00",
          "2021-03-15T00:00:00",
          "2021-03-16T00:00:00",
          "2021-03-17T00:00:00",
          "2021-03-18T00:00:00",
          "2021-03-19T00:00:00",
          "2021-03-22T00:00:00",
          "2021-03-23T00:00:00",
          "2021-03-24T00:00:00",
          "2021-03-25T00:00:00",
          "2021-03-26T00:00:00",
          "2021-03-29T00:00:00",
          "2021-03-30T00:00:00",
          "2021-03-31T00:00:00",
          "2021-04-01T00:00:00",
          "2021-04-05T00:00:00",
          "2021-04-06T00:00:00",
          "2021-04-07T00:00:00",
          "2021-04-08T00:00:00",
          "2021-04-09T00:00:00",
          "2021-04-12T00:00:00",
          "2021-04-13T00:00:00",
          "2021-04-14T00:00:00",
          "2021-04-15T00:00:00",
          "2021-04-16T00:00:00",
          "2021-04-19T00:00:00",
          "2021-04-20T00:00:00",
          "2021-04-21T00:00:00",
          "2021-04-22T00:00:00",
          "2021-04-23T00:00:00",
          "2021-04-26T00:00:00",
          "2021-04-27T00:00:00",
          "2021-04-28T00:00:00",
          "2021-04-29T00:00:00",
          "2021-04-30T00:00:00",
          "2021-05-03T00:00:00",
          "2021-05-04T00:00:00",
          "2021-05-05T00:00:00",
          "2021-05-06T00:00:00",
          "2021-05-07T00:00:00",
          "2021-05-10T00:00:00",
          "2021-05-11T00:00:00",
          "2021-05-12T00:00:00",
          "2021-05-13T00:00:00",
          "2021-05-14T00:00:00",
          "2021-05-17T00:00:00",
          "2021-05-18T00:00:00",
          "2021-05-19T00:00:00",
          "2021-05-20T00:00:00",
          "2021-05-21T00:00:00",
          "2021-05-24T00:00:00",
          "2021-05-25T00:00:00",
          "2021-05-26T00:00:00",
          "2021-05-27T00:00:00",
          "2021-05-28T00:00:00",
          "2021-06-01T00:00:00",
          "2021-06-02T00:00:00",
          "2021-06-03T00:00:00",
          "2021-06-04T00:00:00",
          "2021-06-07T00:00:00",
          "2021-06-08T00:00:00",
          "2021-06-09T00:00:00",
          "2021-06-10T00:00:00",
          "2021-06-11T00:00:00",
          "2021-06-14T00:00:00",
          "2021-06-15T00:00:00",
          "2021-06-16T00:00:00",
          "2021-06-17T00:00:00",
          "2021-06-18T00:00:00",
          "2021-06-21T00:00:00",
          "2021-06-22T00:00:00",
          "2021-06-23T00:00:00",
          "2021-06-24T00:00:00",
          "2021-06-25T00:00:00",
          "2021-06-28T00:00:00",
          "2021-06-29T00:00:00",
          "2021-06-30T00:00:00",
          "2021-07-01T00:00:00",
          "2021-07-02T00:00:00",
          "2021-07-06T00:00:00",
          "2021-07-07T00:00:00",
          "2021-07-08T00:00:00",
          "2021-07-09T00:00:00",
          "2021-07-12T00:00:00",
          "2021-07-13T00:00:00",
          "2021-07-14T00:00:00",
          "2021-07-15T00:00:00",
          "2021-07-16T00:00:00",
          "2021-07-19T00:00:00",
          "2021-07-20T00:00:00",
          "2021-07-21T00:00:00",
          "2021-07-22T00:00:00",
          "2021-07-23T00:00:00",
          "2021-07-26T00:00:00",
          "2021-07-27T00:00:00",
          "2021-07-28T00:00:00",
          "2021-07-29T00:00:00",
          "2021-07-30T00:00:00",
          "2021-08-02T00:00:00",
          "2021-08-03T00:00:00",
          "2021-08-04T00:00:00",
          "2021-08-05T00:00:00",
          "2021-08-06T00:00:00",
          "2021-08-09T00:00:00",
          "2021-08-10T00:00:00",
          "2021-08-11T00:00:00",
          "2021-08-12T00:00:00",
          "2021-08-13T00:00:00",
          "2021-08-16T00:00:00",
          "2021-08-17T00:00:00",
          "2021-08-18T00:00:00",
          "2021-08-19T00:00:00",
          "2021-08-20T00:00:00",
          "2021-08-23T00:00:00",
          "2021-08-24T00:00:00",
          "2021-08-25T00:00:00",
          "2021-08-26T00:00:00",
          "2021-08-27T00:00:00",
          "2021-08-30T00:00:00",
          "2021-08-31T00:00:00",
          "2021-09-01T00:00:00",
          "2021-09-02T00:00:00",
          "2021-09-03T00:00:00",
          "2021-09-07T00:00:00"
         ],
         "y": [
          112.82,
          117.32,
          113.489998,
          112,
          115.360001,
          115.540001,
          112.129997,
          110.339996,
          106.839996,
          110.08000200000001,
          111.809998,
          107.120003,
          108.220001,
          112.279999,
          114.959999,
          114.089996,
          115.809998,
          116.790001,
          113.019997,
          116.5,
          113.160004,
          115.08000200000001,
          114.970001,
          116.970001,
          124.400002,
          121.099998,
          121.190002,
          120.709999,
          119.019997,
          115.980003,
          117.510002,
          116.870003,
          115.75,
          115.040001,
          115.050003,
          116.599998,
          111.199997,
          115.32,
          108.860001,
          108.769997,
          110.440002,
          114.949997,
          119.029999,
          118.690002,
          116.32,
          115.970001,
          119.489998,
          119.209999,
          119.260002,
          120.300003,
          119.389999,
          118.029999,
          118.639999,
          117.339996,
          113.849998,
          115.16999799999999,
          116.029999,
          116.589996,
          119.050003,
          122.720001,
          123.08000200000001,
          122.940002,
          122.25,
          123.75,
          124.379997,
          121.779999,
          123.239998,
          122.410004,
          121.779999,
          127.879997,
          127.809998,
          128.699997,
          126.660004,
          128.229996,
          131.880005,
          130.96000700000002,
          131.970001,
          136.690002,
          134.869995,
          133.720001,
          132.690002,
          129.41000400000001,
          131.009995,
          126.599998,
          130.919998,
          132.050003,
          128.979996,
          128.800003,
          130.889999,
          128.91000400000001,
          127.139999,
          127.83000200000001,
          132.029999,
          136.869995,
          139.070007,
          142.919998,
          143.16000400000001,
          142.059998,
          137.08999599999999,
          131.96000700000002,
          134.139999,
          134.990005,
          133.940002,
          137.389999,
          136.759995,
          136.91000400000001,
          136.009995,
          135.389999,
          135.130005,
          135.369995,
          133.190002,
          130.83999599999999,
          129.71000700000002,
          129.869995,
          126,
          125.860001,
          125.349998,
          120.989998,
          121.260002,
          127.790001,
          125.120003,
          122.059998,
          120.129997,
          121.41999799999999,
          116.360001,
          121.089996,
          119.980003,
          121.959999,
          121.029999,
          123.989998,
          125.57,
          124.760002,
          120.529999,
          119.989998,
          123.389999,
          122.540001,
          120.089996,
          120.589996,
          121.209999,
          121.389999,
          119.900002,
          122.150002,
          123,
          125.900002,
          126.209999,
          127.900002,
          130.360001,
          133,
          131.240005,
          134.429993,
          132.029999,
          134.5,
          134.16000400000001,
          134.83999599999999,
          133.110001,
          133.5,
          131.940002,
          134.320007,
          134.720001,
          134.389999,
          133.580002,
          133.479996,
          131.46000700000002,
          132.53999299999998,
          127.849998,
          128.100006,
          129.740005,
          130.21000700000002,
          126.849998,
          125.910004,
          122.769997,
          124.970001,
          127.449997,
          126.269997,
          124.849998,
          124.690002,
          127.309998,
          125.43,
          127.099998,
          126.900002,
          126.849998,
          125.279999,
          124.610001,
          124.279999,
          125.059998,
          123.540001,
          125.889999,
          125.900002,
          126.739998,
          127.129997,
          126.110001,
          127.349998,
          130.479996,
          129.639999,
          130.149994,
          131.78999299999998,
          130.46000700000002,
          132.300003,
          133.979996,
          133.699997,
          133.41000400000001,
          133.110001,
          134.779999,
          136.330002,
          136.96000700000002,
          137.270004,
          139.96000700000002,
          142.020004,
          144.570007,
          143.240005,
          145.110001,
          144.5,
          145.639999,
          149.149994,
          148.479996,
          146.389999,
          142.449997,
          146.149994,
          145.399994,
          146.800003,
          148.559998,
          148.990005,
          146.770004,
          144.979996,
          145.639999,
          145.860001,
          145.520004,
          147.360001,
          146.949997,
          147.059998,
          146.139999,
          146.08999599999999,
          145.600006,
          145.860001,
          148.889999,
          149.100006,
          151.119995,
          150.190002,
          146.360001,
          146.699997,
          148.190002,
          149.71000700000002,
          149.619995,
          148.360001,
          147.53999299999998,
          148.600006,
          153.119995,
          151.830002,
          152.509995,
          153.649994,
          154.300003,
          156.690002
         ]
        }
       ],
       "layout": {
        "template": {
         "data": {
          "bar": [
           {
            "error_x": {
             "color": "#2a3f5f"
            },
            "error_y": {
             "color": "#2a3f5f"
            },
            "marker": {
             "line": {
              "color": "#E5ECF6",
              "width": 0.5
             },
             "pattern": {
              "fillmode": "overlay",
              "size": 10,
              "solidity": 0.2
             }
            },
            "type": "bar"
           }
          ],
          "barpolar": [
           {
            "marker": {
             "line": {
              "color": "#E5ECF6",
              "width": 0.5
             },
             "pattern": {
              "fillmode": "overlay",
              "size": 10,
              "solidity": 0.2
             }
            },
            "type": "barpolar"
           }
          ],
          "carpet": [
           {
            "aaxis": {
             "endlinecolor": "#2a3f5f",
             "gridcolor": "white",
             "linecolor": "white",
             "minorgridcolor": "white",
             "startlinecolor": "#2a3f5f"
            },
            "baxis": {
             "endlinecolor": "#2a3f5f",
             "gridcolor": "white",
             "linecolor": "white",
             "minorgridcolor": "white",
             "startlinecolor": "#2a3f5f"
            },
            "type": "carpet"
           }
          ],
          "choropleth": [
           {
            "colorbar": {
             "outlinewidth": 0,
             "ticks": ""
            },
            "type": "choropleth"
           }
          ],
          "contour": [
           {
            "colorbar": {
             "outlinewidth": 0,
             "ticks": ""
            },
            "colorscale": [
             [
              0,
              "#0d0887"
             ],
             [
              0.1111111111111111,
              "#46039f"
             ],
             [
              0.2222222222222222,
              "#7201a8"
             ],
             [
              0.3333333333333333,
              "#9c179e"
             ],
             [
              0.4444444444444444,
              "#bd3786"
             ],
             [
              0.5555555555555556,
              "#d8576b"
             ],
             [
              0.6666666666666666,
              "#ed7953"
             ],
             [
              0.7777777777777778,
              "#fb9f3a"
             ],
             [
              0.8888888888888888,
              "#fdca26"
             ],
             [
              1,
              "#f0f921"
             ]
            ],
            "type": "contour"
           }
          ],
          "contourcarpet": [
           {
            "colorbar": {
             "outlinewidth": 0,
             "ticks": ""
            },
            "type": "contourcarpet"
           }
          ],
          "heatmap": [
           {
            "colorbar": {
             "outlinewidth": 0,
             "ticks": ""
            },
            "colorscale": [
             [
              0,
              "#0d0887"
             ],
             [
              0.1111111111111111,
              "#46039f"
             ],
             [
              0.2222222222222222,
              "#7201a8"
             ],
             [
              0.3333333333333333,
              "#9c179e"
             ],
             [
              0.4444444444444444,
              "#bd3786"
             ],
             [
              0.5555555555555556,
              "#d8576b"
             ],
             [
              0.6666666666666666,
              "#ed7953"
             ],
             [
              0.7777777777777778,
              "#fb9f3a"
             ],
             [
              0.8888888888888888,
              "#fdca26"
             ],
             [
              1,
              "#f0f921"
             ]
            ],
            "type": "heatmap"
           }
          ],
          "heatmapgl": [
           {
            "colorbar": {
             "outlinewidth": 0,
             "ticks": ""
            },
            "colorscale": [
             [
              0,
              "#0d0887"
             ],
             [
              0.1111111111111111,
              "#46039f"
             ],
             [
              0.2222222222222222,
              "#7201a8"
             ],
             [
              0.3333333333333333,
              "#9c179e"
             ],
             [
              0.4444444444444444,
              "#bd3786"
             ],
             [
              0.5555555555555556,
              "#d8576b"
             ],
             [
              0.6666666666666666,
              "#ed7953"
             ],
             [
              0.7777777777777778,
              "#fb9f3a"
             ],
             [
              0.8888888888888888,
              "#fdca26"
             ],
             [
              1,
              "#f0f921"
             ]
            ],
            "type": "heatmapgl"
           }
          ],
          "histogram": [
           {
            "marker": {
             "pattern": {
              "fillmode": "overlay",
              "size": 10,
              "solidity": 0.2
             }
            },
            "type": "histogram"
           }
          ],
          "histogram2d": [
           {
            "colorbar": {
             "outlinewidth": 0,
             "ticks": ""
            },
            "colorscale": [
             [
              0,
              "#0d0887"
             ],
             [
              0.1111111111111111,
              "#46039f"
             ],
             [
              0.2222222222222222,
              "#7201a8"
             ],
             [
              0.3333333333333333,
              "#9c179e"
             ],
             [
              0.4444444444444444,
              "#bd3786"
             ],
             [
              0.5555555555555556,
              "#d8576b"
             ],
             [
              0.6666666666666666,
              "#ed7953"
             ],
             [
              0.7777777777777778,
              "#fb9f3a"
             ],
             [
              0.8888888888888888,
              "#fdca26"
             ],
             [
              1,
              "#f0f921"
             ]
            ],
            "type": "histogram2d"
           }
          ],
          "histogram2dcontour": [
           {
            "colorbar": {
             "outlinewidth": 0,
             "ticks": ""
            },
            "colorscale": [
             [
              0,
              "#0d0887"
             ],
             [
              0.1111111111111111,
              "#46039f"
             ],
             [
              0.2222222222222222,
              "#7201a8"
             ],
             [
              0.3333333333333333,
              "#9c179e"
             ],
             [
              0.4444444444444444,
              "#bd3786"
             ],
             [
              0.5555555555555556,
              "#d8576b"
             ],
             [
              0.6666666666666666,
              "#ed7953"
             ],
             [
              0.7777777777777778,
              "#fb9f3a"
             ],
             [
              0.8888888888888888,
              "#fdca26"
             ],
             [
              1,
              "#f0f921"
             ]
            ],
            "type": "histogram2dcontour"
           }
          ],
          "mesh3d": [
           {
            "colorbar": {
             "outlinewidth": 0,
             "ticks": ""
            },
            "type": "mesh3d"
           }
          ],
          "parcoords": [
           {
            "line": {
             "colorbar": {
              "outlinewidth": 0,
              "ticks": ""
             }
            },
            "type": "parcoords"
           }
          ],
          "pie": [
           {
            "automargin": true,
            "type": "pie"
           }
          ],
          "scatter": [
           {
            "marker": {
             "colorbar": {
              "outlinewidth": 0,
              "ticks": ""
             }
            },
            "type": "scatter"
           }
          ],
          "scatter3d": [
           {
            "line": {
             "colorbar": {
              "outlinewidth": 0,
              "ticks": ""
             }
            },
            "marker": {
             "colorbar": {
              "outlinewidth": 0,
              "ticks": ""
             }
            },
            "type": "scatter3d"
           }
          ],
          "scattercarpet": [
           {
            "marker": {
             "colorbar": {
              "outlinewidth": 0,
              "ticks": ""
             }
            },
            "type": "scattercarpet"
           }
          ],
          "scattergeo": [
           {
            "marker": {
             "colorbar": {
              "outlinewidth": 0,
              "ticks": ""
             }
            },
            "type": "scattergeo"
           }
          ],
          "scattergl": [
           {
            "marker": {
             "colorbar": {
              "outlinewidth": 0,
              "ticks": ""
             }
            },
            "type": "scattergl"
           }
          ],
          "scattermapbox": [
           {
            "marker": {
             "colorbar": {
              "outlinewidth": 0,
              "ticks": ""
             }
            },
            "type": "scattermapbox"
           }
          ],
          "scatterpolar": [
           {
            "marker": {
             "colorbar": {
              "outlinewidth": 0,
              "ticks": ""
             }
            },
            "type": "scatterpolar"
           }
          ],
          "scatterpolargl": [
           {
            "marker": {
             "colorbar": {
              "outlinewidth": 0,
              "ticks": ""
             }
            },
            "type": "scatterpolargl"
           }
          ],
          "scatterternary": [
           {
            "marker": {
             "colorbar": {
              "outlinewidth": 0,
              "ticks": ""
             }
            },
            "type": "scatterternary"
           }
          ],
          "surface": [
           {
            "colorbar": {
             "outlinewidth": 0,
             "ticks": ""
            },
            "colorscale": [
             [
              0,
              "#0d0887"
             ],
             [
              0.1111111111111111,
              "#46039f"
             ],
             [
              0.2222222222222222,
              "#7201a8"
             ],
             [
              0.3333333333333333,
              "#9c179e"
             ],
             [
              0.4444444444444444,
              "#bd3786"
             ],
             [
              0.5555555555555556,
              "#d8576b"
             ],
             [
              0.6666666666666666,
              "#ed7953"
             ],
             [
              0.7777777777777778,
              "#fb9f3a"
             ],
             [
              0.8888888888888888,
              "#fdca26"
             ],
             [
              1,
              "#f0f921"
             ]
            ],
            "type": "surface"
           }
          ],
          "table": [
           {
            "cells": {
             "fill": {
              "color": "#EBF0F8"
             },
             "line": {
              "color": "white"
             }
            },
            "header": {
             "fill": {
              "color": "#C8D4E3"
             },
             "line": {
              "color": "white"
             }
            },
            "type": "table"
           }
          ]
         },
         "layout": {
          "annotationdefaults": {
           "arrowcolor": "#2a3f5f",
           "arrowhead": 0,
           "arrowwidth": 1
          },
          "autotypenumbers": "strict",
          "coloraxis": {
           "colorbar": {
            "outlinewidth": 0,
            "ticks": ""
           }
          },
          "colorscale": {
           "diverging": [
            [
             0,
             "#8e0152"
            ],
            [
             0.1,
             "#c51b7d"
            ],
            [
             0.2,
             "#de77ae"
            ],
            [
             0.3,
             "#f1b6da"
            ],
            [
             0.4,
             "#fde0ef"
            ],
            [
             0.5,
             "#f7f7f7"
            ],
            [
             0.6,
             "#e6f5d0"
            ],
            [
             0.7,
             "#b8e186"
            ],
            [
             0.8,
             "#7fbc41"
            ],
            [
             0.9,
             "#4d9221"
            ],
            [
             1,
             "#276419"
            ]
           ],
           "sequential": [
            [
             0,
             "#0d0887"
            ],
            [
             0.1111111111111111,
             "#46039f"
            ],
            [
             0.2222222222222222,
             "#7201a8"
            ],
            [
             0.3333333333333333,
             "#9c179e"
            ],
            [
             0.4444444444444444,
             "#bd3786"
            ],
            [
             0.5555555555555556,
             "#d8576b"
            ],
            [
             0.6666666666666666,
             "#ed7953"
            ],
            [
             0.7777777777777778,
             "#fb9f3a"
            ],
            [
             0.8888888888888888,
             "#fdca26"
            ],
            [
             1,
             "#f0f921"
            ]
           ],
           "sequentialminus": [
            [
             0,
             "#0d0887"
            ],
            [
             0.1111111111111111,
             "#46039f"
            ],
            [
             0.2222222222222222,
             "#7201a8"
            ],
            [
             0.3333333333333333,
             "#9c179e"
            ],
            [
             0.4444444444444444,
             "#bd3786"
            ],
            [
             0.5555555555555556,
             "#d8576b"
            ],
            [
             0.6666666666666666,
             "#ed7953"
            ],
            [
             0.7777777777777778,
             "#fb9f3a"
            ],
            [
             0.8888888888888888,
             "#fdca26"
            ],
            [
             1,
             "#f0f921"
            ]
           ]
          },
          "colorway": [
           "#636efa",
           "#EF553B",
           "#00cc96",
           "#ab63fa",
           "#FFA15A",
           "#19d3f3",
           "#FF6692",
           "#B6E880",
           "#FF97FF",
           "#FECB52"
          ],
          "font": {
           "color": "#2a3f5f"
          },
          "geo": {
           "bgcolor": "white",
           "lakecolor": "white",
           "landcolor": "#E5ECF6",
           "showlakes": true,
           "showland": true,
           "subunitcolor": "white"
          },
          "hoverlabel": {
           "align": "left"
          },
          "hovermode": "closest",
          "mapbox": {
           "style": "light"
          },
          "paper_bgcolor": "white",
          "plot_bgcolor": "#E5ECF6",
          "polar": {
           "angularaxis": {
            "gridcolor": "white",
            "linecolor": "white",
            "ticks": ""
           },
           "bgcolor": "#E5ECF6",
           "radialaxis": {
            "gridcolor": "white",
            "linecolor": "white",
            "ticks": ""
           }
          },
          "scene": {
           "xaxis": {
            "backgroundcolor": "#E5ECF6",
            "gridcolor": "white",
            "gridwidth": 2,
            "linecolor": "white",
            "showbackground": true,
            "ticks": "",
            "zerolinecolor": "white"
           },
           "yaxis": {
            "backgroundcolor": "#E5ECF6",
            "gridcolor": "white",
            "gridwidth": 2,
            "linecolor": "white",
            "showbackground": true,
            "ticks": "",
            "zerolinecolor": "white"
           },
           "zaxis": {
            "backgroundcolor": "#E5ECF6",
            "gridcolor": "white",
            "gridwidth": 2,
            "linecolor": "white",
            "showbackground": true,
            "ticks": "",
            "zerolinecolor": "white"
           }
          },
          "shapedefaults": {
           "line": {
            "color": "#2a3f5f"
           }
          },
          "ternary": {
           "aaxis": {
            "gridcolor": "white",
            "linecolor": "white",
            "ticks": ""
           },
           "baxis": {
            "gridcolor": "white",
            "linecolor": "white",
            "ticks": ""
           },
           "bgcolor": "#E5ECF6",
           "caxis": {
            "gridcolor": "white",
            "linecolor": "white",
            "ticks": ""
           }
          },
          "title": {
           "x": 0.05
          },
          "xaxis": {
           "automargin": true,
           "gridcolor": "white",
           "linecolor": "white",
           "ticks": "",
           "title": {
            "standoff": 15
           },
           "zerolinecolor": "white",
           "zerolinewidth": 2
          },
          "yaxis": {
           "automargin": true,
           "gridcolor": "white",
           "linecolor": "white",
           "ticks": "",
           "title": {
            "standoff": 15
           },
           "zerolinecolor": "white",
           "zerolinewidth": 2
          }
         }
        },
        "title": {
         "text": "AAPLE Prices (09.2020 - 09.2021)"
        },
        "xaxis": {
         "title": {
          "text": "Date"
         }
        },
        "yaxis": {
         "title": {
          "text": "Prices ($)"
         }
        }
       }
      },
      "text/html": [
       "<div>                            <div id=\"4a0e09a7-5ef7-4ffe-b3c8-2fbf0cc7df2a\" class=\"plotly-graph-div\" style=\"height:525px; width:100%;\"></div>            <script type=\"text/javascript\">                require([\"plotly\"], function(Plotly) {                    window.PLOTLYENV=window.PLOTLYENV || {};                                    if (document.getElementById(\"4a0e09a7-5ef7-4ffe-b3c8-2fbf0cc7df2a\")) {                    Plotly.newPlot(                        \"4a0e09a7-5ef7-4ffe-b3c8-2fbf0cc7df2a\",                        [{\"close\":[112.82,117.32,113.489998,112.0,115.360001,115.540001,112.129997,110.339996,106.839996,110.08000200000001,111.809998,107.120003,108.220001,112.279999,114.959999,114.089996,115.809998,116.790001,113.019997,116.5,113.160004,115.08000200000001,114.970001,116.970001,124.400002,121.099998,121.190002,120.709999,119.019997,115.980003,117.510002,116.870003,115.75,115.040001,115.050003,116.599998,111.199997,115.32,108.860001,108.769997,110.440002,114.949997,119.029999,118.690002,116.32,115.970001,119.489998,119.209999,119.260002,120.300003,119.389999,118.029999,118.639999,117.339996,113.849998,115.16999799999999,116.029999,116.589996,119.050003,122.720001,123.08000200000001,122.940002,122.25,123.75,124.379997,121.779999,123.239998,122.410004,121.779999,127.879997,127.809998,128.699997,126.660004,128.229996,131.880005,130.96000700000002,131.970001,136.690002,134.869995,133.720001,132.690002,129.41000400000001,131.009995,126.599998,130.919998,132.050003,128.979996,128.800003,130.889999,128.91000400000001,127.139999,127.83000200000001,132.029999,136.869995,139.070007,142.919998,143.16000400000001,142.059998,137.08999599999999,131.96000700000002,134.139999,134.990005,133.940002,137.389999,136.759995,136.91000400000001,136.009995,135.389999,135.130005,135.369995,133.190002,130.83999599999999,129.71000700000002,129.869995,126.0,125.860001,125.349998,120.989998,121.260002,127.790001,125.120003,122.059998,120.129997,121.41999799999999,116.360001,121.089996,119.980003,121.959999,121.029999,123.989998,125.57,124.760002,120.529999,119.989998,123.389999,122.540001,120.089996,120.589996,121.209999,121.389999,119.900002,122.150002,123.0,125.900002,126.209999,127.900002,130.360001,133.0,131.240005,134.429993,132.029999,134.5,134.16000400000001,134.83999599999999,133.110001,133.5,131.940002,134.320007,134.720001,134.389999,133.580002,133.479996,131.46000700000002,132.53999299999998,127.849998,128.100006,129.740005,130.21000700000002,126.849998,125.910004,122.769997,124.970001,127.449997,126.269997,124.849998,124.690002,127.309998,125.43,127.099998,126.900002,126.849998,125.279999,124.610001,124.279999,125.059998,123.540001,125.889999,125.900002,126.739998,127.129997,126.110001,127.349998,130.479996,129.639999,130.149994,131.78999299999998,130.46000700000002,132.300003,133.979996,133.699997,133.41000400000001,133.110001,134.779999,136.330002,136.96000700000002,137.270004,139.96000700000002,142.020004,144.570007,143.240005,145.110001,144.5,145.639999,149.149994,148.479996,146.389999,142.449997,146.149994,145.399994,146.800003,148.559998,148.990005,146.770004,144.979996,145.639999,145.860001,145.520004,147.360001,146.949997,147.059998,146.139999,146.08999599999999,145.600006,145.860001,148.889999,149.100006,151.119995,150.190002,146.360001,146.699997,148.190002,149.71000700000002,149.619995,148.360001,147.53999299999998,148.600006,153.119995,151.830002,152.509995,153.649994,154.300003,156.690002],\"high\":[118.989998,119.139999,120.5,115.230003,115.93,118.83000200000001,116.0,112.199997,110.879997,110.190002,112.860001,112.110001,110.25,112.440002,115.32,115.309998,117.260002,117.720001,115.370003,116.650002,116.120003,115.550003,116.400002,117.0,125.18,125.389999,123.029999,121.199997,121.550003,120.41999799999999,118.980003,118.709999,118.040001,116.550003,116.550003,117.279999,115.43,116.93,111.989998,110.68,111.489998,115.589996,119.620003,119.199997,121.989998,117.589996,119.629997,120.529999,119.66999799999999,120.989998,120.66999799999999,119.82,119.059998,118.769997,117.620003,115.849998,116.75,117.489998,120.970001,123.470001,123.370003,123.779999,122.860001,124.57,124.980003,125.949997,123.870003,122.760002,123.349998,127.900002,128.369995,129.580002,129.100006,128.309998,134.41000400000001,132.429993,133.46000700000002,137.33999599999999,138.78999299999998,135.990005,134.740005,133.610001,131.740005,131.050003,131.630005,132.630005,130.169998,129.690002,131.449997,131.0,130.220001,128.71000700000002,132.490005,139.669998,139.850006,145.08999599999999,144.300003,144.300003,141.990005,136.740005,135.380005,136.309998,135.770004,137.399994,137.419998,136.96000700000002,137.880005,136.990005,136.389999,135.529999,136.009995,132.220001,130.0,130.71000700000002,129.720001,126.709999,125.559998,126.459999,124.849998,127.93,128.720001,125.709999,123.599998,121.940002,121.0,122.059998,122.16999799999999,123.209999,121.16999799999999,124.0,127.220001,125.860001,123.18,121.43,123.870003,124.239998,122.900002,121.660004,121.480003,122.58000200000001,120.400002,123.519997,124.18,126.160004,127.129997,127.91999799999999,130.389999,133.03999299999998,132.850006,134.66000400000001,135.0,135.0,134.669998,135.470001,135.529999,133.75,134.149994,135.119995,135.059998,135.41000400000001,135.020004,137.070007,133.559998,134.070007,131.490005,130.449997,129.75,131.259995,129.53999299999998,126.269997,124.639999,126.150002,127.889999,126.93,126.989998,124.91999799999999,127.720001,128.0,127.940002,128.320007,127.389999,127.639999,125.800003,125.349998,125.239998,124.849998,126.160004,126.32,128.46000700000002,127.75,128.190002,127.440002,130.53999299999998,130.600006,130.889999,132.550003,131.509995,132.41000400000001,134.080002,134.320007,134.639999,133.889999,135.25,136.490005,137.41000400000001,137.330002,140.0,143.149994,144.889999,144.059998,145.649994,146.320007,147.46000700000002,149.570007,150.0,149.759995,144.070007,147.100006,146.130005,148.199997,148.720001,149.830002,149.21000700000002,146.970001,146.550003,146.330002,146.949997,148.03999299999998,147.78999299999998,147.83999599999999,147.110001,146.699997,147.71000700000002,146.720001,149.050003,149.440002,151.190002,151.679993,150.720001,148.0,148.5,150.190002,150.860001,150.320007,149.119995,148.75,153.490005,152.800003,154.979996,154.720001,154.630005,157.259995],\"low\":[112.68,115.260002,112.5,110.0,112.800003,113.610001,112.040001,108.709999,106.089996,103.099998,109.160004,106.769997,105.0,107.66999799999999,112.779999,113.57,113.620003,115.83000200000001,112.220001,113.550003,112.25,114.129997,114.589996,114.91999799999999,119.279999,119.650002,119.620003,118.150002,118.809998,115.660004,115.629997,116.449997,114.589996,114.279999,112.879997,114.540001,111.099998,112.199997,107.720001,107.32,108.730003,112.349998,116.870003,116.129997,116.050003,114.129997,116.440002,118.57,117.870003,118.150002,118.959999,118.0,116.809998,117.290001,113.75,112.589996,115.16999799999999,116.220001,116.809998,120.010002,120.889999,122.209999,121.519997,122.25,123.089996,121.0,120.150002,120.550003,121.540001,124.129997,126.559998,128.03999299999998,126.120003,123.449997,129.649994,130.779999,131.100006,133.509995,134.33999599999999,133.399994,131.720001,126.760002,128.429993,126.379997,127.860001,130.229996,128.5,126.860001,128.490005,128.759995,127.0,126.940002,128.550003,133.58999599999999,135.020004,136.53999299999998,141.369995,140.41000400000001,136.699997,130.21000700000002,130.929993,134.610001,133.610001,134.58999599999999,135.860001,134.919998,135.850006,134.399994,133.770004,133.690002,132.78999299999998,129.470001,127.410004,128.800003,125.599998,118.389999,122.230003,120.540001,121.199997,122.790001,125.010002,121.839996,118.620003,117.57,116.209999,118.790001,119.449997,121.260002,119.160004,120.41999799999999,124.720001,122.339996,120.32,119.68,120.260002,122.139999,120.07,119.0,118.91999799999999,120.730003,118.860001,121.150002,122.489998,123.07,125.650002,125.139999,128.520004,129.470001,130.630005,131.929993,131.66000400000001,133.639999,133.279999,133.33999599999999,131.809998,131.300003,131.41000400000001,132.16000400000001,133.559998,134.110001,133.080002,132.449997,131.070007,131.830002,126.699997,127.970001,127.129997,129.479996,126.809998,122.769997,122.25,124.260002,125.849998,125.16999799999999,124.779999,122.860001,125.099998,125.209999,125.940002,126.32,126.41999799999999,125.08000200000001,124.550003,123.940002,124.050003,123.129997,123.849998,124.83000200000001,126.209999,126.519997,125.940002,126.099998,127.07,129.389999,128.46000700000002,129.649994,130.240005,129.21000700000002,131.619995,133.229996,132.929993,132.809998,133.350006,134.350006,135.869995,135.759995,137.75,140.070007,142.66000400000001,140.669998,142.649994,144.0,143.630005,147.679993,147.08999599999999,145.880005,141.669998,142.96000700000002,144.630005,145.809998,146.919998,147.699997,145.550003,142.53999299999998,144.580002,144.110001,145.25,145.179993,146.279999,146.169998,145.630005,145.520004,145.300003,145.529999,145.83999599999999,148.270004,146.470001,149.08999599999999,146.149994,144.5,146.779999,147.889999,149.149994,147.800003,147.509995,146.830002,148.610001,151.28999299999998,152.33999599999999,152.399994,153.08999599999999,154.389999],\"name\":\"Candlestick\",\"open\":[113.949997,117.260002,120.360001,114.57,114.720001,118.33000200000001,115.230003,109.720001,110.400002,104.540001,112.68,111.620003,105.16999799999999,108.43,115.010002,114.550003,113.790001,117.639999,112.889999,113.910004,115.699997,114.620003,116.25,115.279999,120.059998,125.269997,121.0,118.720001,121.279999,119.959999,116.199997,116.66999799999999,117.449997,116.389999,114.010002,115.489998,115.050003,112.370003,111.059998,109.110001,109.660004,114.139999,117.949997,118.32,120.5,115.550003,117.190002,119.620003,119.440002,118.91999799999999,119.550003,118.610001,117.589996,118.639999,117.18,113.910004,115.550003,116.57,116.970001,121.010002,122.019997,123.519997,122.599998,122.309998,124.370003,124.529999,120.5,122.43,122.599998,124.339996,127.410004,128.899994,128.96000700000002,125.019997,131.610001,132.16000400000001,131.320007,133.990005,138.050003,135.580002,134.080002,133.520004,128.889999,127.720001,128.360001,132.429993,129.190002,128.5,128.759995,130.800003,128.779999,127.779999,128.66000400000001,133.800003,136.279999,143.070007,143.600006,143.429993,139.520004,135.830002,133.75,135.729996,135.759995,136.300003,137.350006,136.029999,136.619995,136.479996,135.899994,134.350006,135.490005,131.25,129.199997,130.240005,128.009995,123.760002,124.940002,124.68,122.589996,123.75,128.41000400000001,124.809998,121.75,120.980003,120.93,119.029999,121.690002,122.540001,120.400002,121.410004,125.699997,124.050003,122.879997,119.900002,120.33000200000001,123.33000200000001,122.82,119.540001,120.349998,121.650002,120.110001,121.650002,123.660004,123.870003,126.5,125.83000200000001,128.949997,129.800003,132.520004,132.440002,134.940002,133.820007,134.300003,133.509995,135.020004,132.360001,133.03999299999998,132.16000400000001,134.830002,135.009995,134.309998,136.470001,131.779999,132.03999299999998,131.190002,129.199997,127.889999,130.850006,129.41000400000001,123.5,123.400002,124.58000200000001,126.25,126.82,126.559998,123.160004,125.230003,127.82,126.010002,127.82,126.959999,126.440002,125.57,125.08000200000001,124.279999,124.68,124.07,126.16999799999999,126.599998,127.209999,127.019997,126.529999,127.82,129.940002,130.369995,129.800003,130.71000700000002,130.300003,132.130005,133.770004,134.449997,133.46000700000002,133.41000400000001,134.800003,136.169998,136.600006,137.899994,140.070007,143.53999299999998,141.580002,142.75,146.21000700000002,144.029999,148.100006,149.240005,148.46000700000002,143.75,143.46000700000002,145.529999,145.940002,147.550003,148.270004,149.119995,144.809998,144.690002,144.380005,146.360001,145.809998,147.270004,146.979996,146.350006,146.199997,146.440002,146.050003,146.190002,148.970001,148.53999299999998,150.229996,149.800003,145.029999,147.440002,148.309998,149.449997,149.809998,148.350006,147.479996,149.0,152.66000400000001,152.830002,153.869995,153.759995,154.970001],\"type\":\"candlestick\",\"x\":[\"2020-09-08T00:00:00\",\"2020-09-09T00:00:00\",\"2020-09-10T00:00:00\",\"2020-09-11T00:00:00\",\"2020-09-14T00:00:00\",\"2020-09-15T00:00:00\",\"2020-09-16T00:00:00\",\"2020-09-17T00:00:00\",\"2020-09-18T00:00:00\",\"2020-09-21T00:00:00\",\"2020-09-22T00:00:00\",\"2020-09-23T00:00:00\",\"2020-09-24T00:00:00\",\"2020-09-25T00:00:00\",\"2020-09-28T00:00:00\",\"2020-09-29T00:00:00\",\"2020-09-30T00:00:00\",\"2020-10-01T00:00:00\",\"2020-10-02T00:00:00\",\"2020-10-05T00:00:00\",\"2020-10-06T00:00:00\",\"2020-10-07T00:00:00\",\"2020-10-08T00:00:00\",\"2020-10-09T00:00:00\",\"2020-10-12T00:00:00\",\"2020-10-13T00:00:00\",\"2020-10-14T00:00:00\",\"2020-10-15T00:00:00\",\"2020-10-16T00:00:00\",\"2020-10-19T00:00:00\",\"2020-10-20T00:00:00\",\"2020-10-21T00:00:00\",\"2020-10-22T00:00:00\",\"2020-10-23T00:00:00\",\"2020-10-26T00:00:00\",\"2020-10-27T00:00:00\",\"2020-10-28T00:00:00\",\"2020-10-29T00:00:00\",\"2020-10-30T00:00:00\",\"2020-11-02T00:00:00\",\"2020-11-03T00:00:00\",\"2020-11-04T00:00:00\",\"2020-11-05T00:00:00\",\"2020-11-06T00:00:00\",\"2020-11-09T00:00:00\",\"2020-11-10T00:00:00\",\"2020-11-11T00:00:00\",\"2020-11-12T00:00:00\",\"2020-11-13T00:00:00\",\"2020-11-16T00:00:00\",\"2020-11-17T00:00:00\",\"2020-11-18T00:00:00\",\"2020-11-19T00:00:00\",\"2020-11-20T00:00:00\",\"2020-11-23T00:00:00\",\"2020-11-24T00:00:00\",\"2020-11-25T00:00:00\",\"2020-11-27T00:00:00\",\"2020-11-30T00:00:00\",\"2020-12-01T00:00:00\",\"2020-12-02T00:00:00\",\"2020-12-03T00:00:00\",\"2020-12-04T00:00:00\",\"2020-12-07T00:00:00\",\"2020-12-08T00:00:00\",\"2020-12-09T00:00:00\",\"2020-12-10T00:00:00\",\"2020-12-11T00:00:00\",\"2020-12-14T00:00:00\",\"2020-12-15T00:00:00\",\"2020-12-16T00:00:00\",\"2020-12-17T00:00:00\",\"2020-12-18T00:00:00\",\"2020-12-21T00:00:00\",\"2020-12-22T00:00:00\",\"2020-12-23T00:00:00\",\"2020-12-24T00:00:00\",\"2020-12-28T00:00:00\",\"2020-12-29T00:00:00\",\"2020-12-30T00:00:00\",\"2020-12-31T00:00:00\",\"2021-01-04T00:00:00\",\"2021-01-05T00:00:00\",\"2021-01-06T00:00:00\",\"2021-01-07T00:00:00\",\"2021-01-08T00:00:00\",\"2021-01-11T00:00:00\",\"2021-01-12T00:00:00\",\"2021-01-13T00:00:00\",\"2021-01-14T00:00:00\",\"2021-01-15T00:00:00\",\"2021-01-19T00:00:00\",\"2021-01-20T00:00:00\",\"2021-01-21T00:00:00\",\"2021-01-22T00:00:00\",\"2021-01-25T00:00:00\",\"2021-01-26T00:00:00\",\"2021-01-27T00:00:00\",\"2021-01-28T00:00:00\",\"2021-01-29T00:00:00\",\"2021-02-01T00:00:00\",\"2021-02-02T00:00:00\",\"2021-02-03T00:00:00\",\"2021-02-04T00:00:00\",\"2021-02-05T00:00:00\",\"2021-02-08T00:00:00\",\"2021-02-09T00:00:00\",\"2021-02-10T00:00:00\",\"2021-02-11T00:00:00\",\"2021-02-12T00:00:00\",\"2021-02-16T00:00:00\",\"2021-02-17T00:00:00\",\"2021-02-18T00:00:00\",\"2021-02-19T00:00:00\",\"2021-02-22T00:00:00\",\"2021-02-23T00:00:00\",\"2021-02-24T00:00:00\",\"2021-02-25T00:00:00\",\"2021-02-26T00:00:00\",\"2021-03-01T00:00:00\",\"2021-03-02T00:00:00\",\"2021-03-03T00:00:00\",\"2021-03-04T00:00:00\",\"2021-03-05T00:00:00\",\"2021-03-08T00:00:00\",\"2021-03-09T00:00:00\",\"2021-03-10T00:00:00\",\"2021-03-11T00:00:00\",\"2021-03-12T00:00:00\",\"2021-03-15T00:00:00\",\"2021-03-16T00:00:00\",\"2021-03-17T00:00:00\",\"2021-03-18T00:00:00\",\"2021-03-19T00:00:00\",\"2021-03-22T00:00:00\",\"2021-03-23T00:00:00\",\"2021-03-24T00:00:00\",\"2021-03-25T00:00:00\",\"2021-03-26T00:00:00\",\"2021-03-29T00:00:00\",\"2021-03-30T00:00:00\",\"2021-03-31T00:00:00\",\"2021-04-01T00:00:00\",\"2021-04-05T00:00:00\",\"2021-04-06T00:00:00\",\"2021-04-07T00:00:00\",\"2021-04-08T00:00:00\",\"2021-04-09T00:00:00\",\"2021-04-12T00:00:00\",\"2021-04-13T00:00:00\",\"2021-04-14T00:00:00\",\"2021-04-15T00:00:00\",\"2021-04-16T00:00:00\",\"2021-04-19T00:00:00\",\"2021-04-20T00:00:00\",\"2021-04-21T00:00:00\",\"2021-04-22T00:00:00\",\"2021-04-23T00:00:00\",\"2021-04-26T00:00:00\",\"2021-04-27T00:00:00\",\"2021-04-28T00:00:00\",\"2021-04-29T00:00:00\",\"2021-04-30T00:00:00\",\"2021-05-03T00:00:00\",\"2021-05-04T00:00:00\",\"2021-05-05T00:00:00\",\"2021-05-06T00:00:00\",\"2021-05-07T00:00:00\",\"2021-05-10T00:00:00\",\"2021-05-11T00:00:00\",\"2021-05-12T00:00:00\",\"2021-05-13T00:00:00\",\"2021-05-14T00:00:00\",\"2021-05-17T00:00:00\",\"2021-05-18T00:00:00\",\"2021-05-19T00:00:00\",\"2021-05-20T00:00:00\",\"2021-05-21T00:00:00\",\"2021-05-24T00:00:00\",\"2021-05-25T00:00:00\",\"2021-05-26T00:00:00\",\"2021-05-27T00:00:00\",\"2021-05-28T00:00:00\",\"2021-06-01T00:00:00\",\"2021-06-02T00:00:00\",\"2021-06-03T00:00:00\",\"2021-06-04T00:00:00\",\"2021-06-07T00:00:00\",\"2021-06-08T00:00:00\",\"2021-06-09T00:00:00\",\"2021-06-10T00:00:00\",\"2021-06-11T00:00:00\",\"2021-06-14T00:00:00\",\"2021-06-15T00:00:00\",\"2021-06-16T00:00:00\",\"2021-06-17T00:00:00\",\"2021-06-18T00:00:00\",\"2021-06-21T00:00:00\",\"2021-06-22T00:00:00\",\"2021-06-23T00:00:00\",\"2021-06-24T00:00:00\",\"2021-06-25T00:00:00\",\"2021-06-28T00:00:00\",\"2021-06-29T00:00:00\",\"2021-06-30T00:00:00\",\"2021-07-01T00:00:00\",\"2021-07-02T00:00:00\",\"2021-07-06T00:00:00\",\"2021-07-07T00:00:00\",\"2021-07-08T00:00:00\",\"2021-07-09T00:00:00\",\"2021-07-12T00:00:00\",\"2021-07-13T00:00:00\",\"2021-07-14T00:00:00\",\"2021-07-15T00:00:00\",\"2021-07-16T00:00:00\",\"2021-07-19T00:00:00\",\"2021-07-20T00:00:00\",\"2021-07-21T00:00:00\",\"2021-07-22T00:00:00\",\"2021-07-23T00:00:00\",\"2021-07-26T00:00:00\",\"2021-07-27T00:00:00\",\"2021-07-28T00:00:00\",\"2021-07-29T00:00:00\",\"2021-07-30T00:00:00\",\"2021-08-02T00:00:00\",\"2021-08-03T00:00:00\",\"2021-08-04T00:00:00\",\"2021-08-05T00:00:00\",\"2021-08-06T00:00:00\",\"2021-08-09T00:00:00\",\"2021-08-10T00:00:00\",\"2021-08-11T00:00:00\",\"2021-08-12T00:00:00\",\"2021-08-13T00:00:00\",\"2021-08-16T00:00:00\",\"2021-08-17T00:00:00\",\"2021-08-18T00:00:00\",\"2021-08-19T00:00:00\",\"2021-08-20T00:00:00\",\"2021-08-23T00:00:00\",\"2021-08-24T00:00:00\",\"2021-08-25T00:00:00\",\"2021-08-26T00:00:00\",\"2021-08-27T00:00:00\",\"2021-08-30T00:00:00\",\"2021-08-31T00:00:00\",\"2021-09-01T00:00:00\",\"2021-09-02T00:00:00\",\"2021-09-03T00:00:00\",\"2021-09-07T00:00:00\"]},{\"line\":{\"color\":\"Blue\"},\"name\":\"Mean Closing\",\"type\":\"scatter\",\"x\":[\"2020-09-08T00:00:00\",\"2020-09-09T00:00:00\",\"2020-09-10T00:00:00\",\"2020-09-11T00:00:00\",\"2020-09-14T00:00:00\",\"2020-09-15T00:00:00\",\"2020-09-16T00:00:00\",\"2020-09-17T00:00:00\",\"2020-09-18T00:00:00\",\"2020-09-21T00:00:00\",\"2020-09-22T00:00:00\",\"2020-09-23T00:00:00\",\"2020-09-24T00:00:00\",\"2020-09-25T00:00:00\",\"2020-09-28T00:00:00\",\"2020-09-29T00:00:00\",\"2020-09-30T00:00:00\",\"2020-10-01T00:00:00\",\"2020-10-02T00:00:00\",\"2020-10-05T00:00:00\",\"2020-10-06T00:00:00\",\"2020-10-07T00:00:00\",\"2020-10-08T00:00:00\",\"2020-10-09T00:00:00\",\"2020-10-12T00:00:00\",\"2020-10-13T00:00:00\",\"2020-10-14T00:00:00\",\"2020-10-15T00:00:00\",\"2020-10-16T00:00:00\",\"2020-10-19T00:00:00\",\"2020-10-20T00:00:00\",\"2020-10-21T00:00:00\",\"2020-10-22T00:00:00\",\"2020-10-23T00:00:00\",\"2020-10-26T00:00:00\",\"2020-10-27T00:00:00\",\"2020-10-28T00:00:00\",\"2020-10-29T00:00:00\",\"2020-10-30T00:00:00\",\"2020-11-02T00:00:00\",\"2020-11-03T00:00:00\",\"2020-11-04T00:00:00\",\"2020-11-05T00:00:00\",\"2020-11-06T00:00:00\",\"2020-11-09T00:00:00\",\"2020-11-10T00:00:00\",\"2020-11-11T00:00:00\",\"2020-11-12T00:00:00\",\"2020-11-13T00:00:00\",\"2020-11-16T00:00:00\",\"2020-11-17T00:00:00\",\"2020-11-18T00:00:00\",\"2020-11-19T00:00:00\",\"2020-11-20T00:00:00\",\"2020-11-23T00:00:00\",\"2020-11-24T00:00:00\",\"2020-11-25T00:00:00\",\"2020-11-27T00:00:00\",\"2020-11-30T00:00:00\",\"2020-12-01T00:00:00\",\"2020-12-02T00:00:00\",\"2020-12-03T00:00:00\",\"2020-12-04T00:00:00\",\"2020-12-07T00:00:00\",\"2020-12-08T00:00:00\",\"2020-12-09T00:00:00\",\"2020-12-10T00:00:00\",\"2020-12-11T00:00:00\",\"2020-12-14T00:00:00\",\"2020-12-15T00:00:00\",\"2020-12-16T00:00:00\",\"2020-12-17T00:00:00\",\"2020-12-18T00:00:00\",\"2020-12-21T00:00:00\",\"2020-12-22T00:00:00\",\"2020-12-23T00:00:00\",\"2020-12-24T00:00:00\",\"2020-12-28T00:00:00\",\"2020-12-29T00:00:00\",\"2020-12-30T00:00:00\",\"2020-12-31T00:00:00\",\"2021-01-04T00:00:00\",\"2021-01-05T00:00:00\",\"2021-01-06T00:00:00\",\"2021-01-07T00:00:00\",\"2021-01-08T00:00:00\",\"2021-01-11T00:00:00\",\"2021-01-12T00:00:00\",\"2021-01-13T00:00:00\",\"2021-01-14T00:00:00\",\"2021-01-15T00:00:00\",\"2021-01-19T00:00:00\",\"2021-01-20T00:00:00\",\"2021-01-21T00:00:00\",\"2021-01-22T00:00:00\",\"2021-01-25T00:00:00\",\"2021-01-26T00:00:00\",\"2021-01-27T00:00:00\",\"2021-01-28T00:00:00\",\"2021-01-29T00:00:00\",\"2021-02-01T00:00:00\",\"2021-02-02T00:00:00\",\"2021-02-03T00:00:00\",\"2021-02-04T00:00:00\",\"2021-02-05T00:00:00\",\"2021-02-08T00:00:00\",\"2021-02-09T00:00:00\",\"2021-02-10T00:00:00\",\"2021-02-11T00:00:00\",\"2021-02-12T00:00:00\",\"2021-02-16T00:00:00\",\"2021-02-17T00:00:00\",\"2021-02-18T00:00:00\",\"2021-02-19T00:00:00\",\"2021-02-22T00:00:00\",\"2021-02-23T00:00:00\",\"2021-02-24T00:00:00\",\"2021-02-25T00:00:00\",\"2021-02-26T00:00:00\",\"2021-03-01T00:00:00\",\"2021-03-02T00:00:00\",\"2021-03-03T00:00:00\",\"2021-03-04T00:00:00\",\"2021-03-05T00:00:00\",\"2021-03-08T00:00:00\",\"2021-03-09T00:00:00\",\"2021-03-10T00:00:00\",\"2021-03-11T00:00:00\",\"2021-03-12T00:00:00\",\"2021-03-15T00:00:00\",\"2021-03-16T00:00:00\",\"2021-03-17T00:00:00\",\"2021-03-18T00:00:00\",\"2021-03-19T00:00:00\",\"2021-03-22T00:00:00\",\"2021-03-23T00:00:00\",\"2021-03-24T00:00:00\",\"2021-03-25T00:00:00\",\"2021-03-26T00:00:00\",\"2021-03-29T00:00:00\",\"2021-03-30T00:00:00\",\"2021-03-31T00:00:00\",\"2021-04-01T00:00:00\",\"2021-04-05T00:00:00\",\"2021-04-06T00:00:00\",\"2021-04-07T00:00:00\",\"2021-04-08T00:00:00\",\"2021-04-09T00:00:00\",\"2021-04-12T00:00:00\",\"2021-04-13T00:00:00\",\"2021-04-14T00:00:00\",\"2021-04-15T00:00:00\",\"2021-04-16T00:00:00\",\"2021-04-19T00:00:00\",\"2021-04-20T00:00:00\",\"2021-04-21T00:00:00\",\"2021-04-22T00:00:00\",\"2021-04-23T00:00:00\",\"2021-04-26T00:00:00\",\"2021-04-27T00:00:00\",\"2021-04-28T00:00:00\",\"2021-04-29T00:00:00\",\"2021-04-30T00:00:00\",\"2021-05-03T00:00:00\",\"2021-05-04T00:00:00\",\"2021-05-05T00:00:00\",\"2021-05-06T00:00:00\",\"2021-05-07T00:00:00\",\"2021-05-10T00:00:00\",\"2021-05-11T00:00:00\",\"2021-05-12T00:00:00\",\"2021-05-13T00:00:00\",\"2021-05-14T00:00:00\",\"2021-05-17T00:00:00\",\"2021-05-18T00:00:00\",\"2021-05-19T00:00:00\",\"2021-05-20T00:00:00\",\"2021-05-21T00:00:00\",\"2021-05-24T00:00:00\",\"2021-05-25T00:00:00\",\"2021-05-26T00:00:00\",\"2021-05-27T00:00:00\",\"2021-05-28T00:00:00\",\"2021-06-01T00:00:00\",\"2021-06-02T00:00:00\",\"2021-06-03T00:00:00\",\"2021-06-04T00:00:00\",\"2021-06-07T00:00:00\",\"2021-06-08T00:00:00\",\"2021-06-09T00:00:00\",\"2021-06-10T00:00:00\",\"2021-06-11T00:00:00\",\"2021-06-14T00:00:00\",\"2021-06-15T00:00:00\",\"2021-06-16T00:00:00\",\"2021-06-17T00:00:00\",\"2021-06-18T00:00:00\",\"2021-06-21T00:00:00\",\"2021-06-22T00:00:00\",\"2021-06-23T00:00:00\",\"2021-06-24T00:00:00\",\"2021-06-25T00:00:00\",\"2021-06-28T00:00:00\",\"2021-06-29T00:00:00\",\"2021-06-30T00:00:00\",\"2021-07-01T00:00:00\",\"2021-07-02T00:00:00\",\"2021-07-06T00:00:00\",\"2021-07-07T00:00:00\",\"2021-07-08T00:00:00\",\"2021-07-09T00:00:00\",\"2021-07-12T00:00:00\",\"2021-07-13T00:00:00\",\"2021-07-14T00:00:00\",\"2021-07-15T00:00:00\",\"2021-07-16T00:00:00\",\"2021-07-19T00:00:00\",\"2021-07-20T00:00:00\",\"2021-07-21T00:00:00\",\"2021-07-22T00:00:00\",\"2021-07-23T00:00:00\",\"2021-07-26T00:00:00\",\"2021-07-27T00:00:00\",\"2021-07-28T00:00:00\",\"2021-07-29T00:00:00\",\"2021-07-30T00:00:00\",\"2021-08-02T00:00:00\",\"2021-08-03T00:00:00\",\"2021-08-04T00:00:00\",\"2021-08-05T00:00:00\",\"2021-08-06T00:00:00\",\"2021-08-09T00:00:00\",\"2021-08-10T00:00:00\",\"2021-08-11T00:00:00\",\"2021-08-12T00:00:00\",\"2021-08-13T00:00:00\",\"2021-08-16T00:00:00\",\"2021-08-17T00:00:00\",\"2021-08-18T00:00:00\",\"2021-08-19T00:00:00\",\"2021-08-20T00:00:00\",\"2021-08-23T00:00:00\",\"2021-08-24T00:00:00\",\"2021-08-25T00:00:00\",\"2021-08-26T00:00:00\",\"2021-08-27T00:00:00\",\"2021-08-30T00:00:00\",\"2021-08-31T00:00:00\",\"2021-09-01T00:00:00\",\"2021-09-02T00:00:00\",\"2021-09-03T00:00:00\",\"2021-09-07T00:00:00\"],\"y\":[112.82,117.32,113.489998,112.0,115.360001,115.540001,112.129997,110.339996,106.839996,110.08000200000001,111.809998,107.120003,108.220001,112.279999,114.959999,114.089996,115.809998,116.790001,113.019997,116.5,113.160004,115.08000200000001,114.970001,116.970001,124.400002,121.099998,121.190002,120.709999,119.019997,115.980003,117.510002,116.870003,115.75,115.040001,115.050003,116.599998,111.199997,115.32,108.860001,108.769997,110.440002,114.949997,119.029999,118.690002,116.32,115.970001,119.489998,119.209999,119.260002,120.300003,119.389999,118.029999,118.639999,117.339996,113.849998,115.16999799999999,116.029999,116.589996,119.050003,122.720001,123.08000200000001,122.940002,122.25,123.75,124.379997,121.779999,123.239998,122.410004,121.779999,127.879997,127.809998,128.699997,126.660004,128.229996,131.880005,130.96000700000002,131.970001,136.690002,134.869995,133.720001,132.690002,129.41000400000001,131.009995,126.599998,130.919998,132.050003,128.979996,128.800003,130.889999,128.91000400000001,127.139999,127.83000200000001,132.029999,136.869995,139.070007,142.919998,143.16000400000001,142.059998,137.08999599999999,131.96000700000002,134.139999,134.990005,133.940002,137.389999,136.759995,136.91000400000001,136.009995,135.389999,135.130005,135.369995,133.190002,130.83999599999999,129.71000700000002,129.869995,126.0,125.860001,125.349998,120.989998,121.260002,127.790001,125.120003,122.059998,120.129997,121.41999799999999,116.360001,121.089996,119.980003,121.959999,121.029999,123.989998,125.57,124.760002,120.529999,119.989998,123.389999,122.540001,120.089996,120.589996,121.209999,121.389999,119.900002,122.150002,123.0,125.900002,126.209999,127.900002,130.360001,133.0,131.240005,134.429993,132.029999,134.5,134.16000400000001,134.83999599999999,133.110001,133.5,131.940002,134.320007,134.720001,134.389999,133.580002,133.479996,131.46000700000002,132.53999299999998,127.849998,128.100006,129.740005,130.21000700000002,126.849998,125.910004,122.769997,124.970001,127.449997,126.269997,124.849998,124.690002,127.309998,125.43,127.099998,126.900002,126.849998,125.279999,124.610001,124.279999,125.059998,123.540001,125.889999,125.900002,126.739998,127.129997,126.110001,127.349998,130.479996,129.639999,130.149994,131.78999299999998,130.46000700000002,132.300003,133.979996,133.699997,133.41000400000001,133.110001,134.779999,136.330002,136.96000700000002,137.270004,139.96000700000002,142.020004,144.570007,143.240005,145.110001,144.5,145.639999,149.149994,148.479996,146.389999,142.449997,146.149994,145.399994,146.800003,148.559998,148.990005,146.770004,144.979996,145.639999,145.860001,145.520004,147.360001,146.949997,147.059998,146.139999,146.08999599999999,145.600006,145.860001,148.889999,149.100006,151.119995,150.190002,146.360001,146.699997,148.190002,149.71000700000002,149.619995,148.360001,147.53999299999998,148.600006,153.119995,151.830002,152.509995,153.649994,154.300003,156.690002]}],                        {\"template\":{\"data\":{\"bar\":[{\"error_x\":{\"color\":\"#2a3f5f\"},\"error_y\":{\"color\":\"#2a3f5f\"},\"marker\":{\"line\":{\"color\":\"#E5ECF6\",\"width\":0.5},\"pattern\":{\"fillmode\":\"overlay\",\"size\":10,\"solidity\":0.2}},\"type\":\"bar\"}],\"barpolar\":[{\"marker\":{\"line\":{\"color\":\"#E5ECF6\",\"width\":0.5},\"pattern\":{\"fillmode\":\"overlay\",\"size\":10,\"solidity\":0.2}},\"type\":\"barpolar\"}],\"carpet\":[{\"aaxis\":{\"endlinecolor\":\"#2a3f5f\",\"gridcolor\":\"white\",\"linecolor\":\"white\",\"minorgridcolor\":\"white\",\"startlinecolor\":\"#2a3f5f\"},\"baxis\":{\"endlinecolor\":\"#2a3f5f\",\"gridcolor\":\"white\",\"linecolor\":\"white\",\"minorgridcolor\":\"white\",\"startlinecolor\":\"#2a3f5f\"},\"type\":\"carpet\"}],\"choropleth\":[{\"colorbar\":{\"outlinewidth\":0,\"ticks\":\"\"},\"type\":\"choropleth\"}],\"contour\":[{\"colorbar\":{\"outlinewidth\":0,\"ticks\":\"\"},\"colorscale\":[[0.0,\"#0d0887\"],[0.1111111111111111,\"#46039f\"],[0.2222222222222222,\"#7201a8\"],[0.3333333333333333,\"#9c179e\"],[0.4444444444444444,\"#bd3786\"],[0.5555555555555556,\"#d8576b\"],[0.6666666666666666,\"#ed7953\"],[0.7777777777777778,\"#fb9f3a\"],[0.8888888888888888,\"#fdca26\"],[1.0,\"#f0f921\"]],\"type\":\"contour\"}],\"contourcarpet\":[{\"colorbar\":{\"outlinewidth\":0,\"ticks\":\"\"},\"type\":\"contourcarpet\"}],\"heatmap\":[{\"colorbar\":{\"outlinewidth\":0,\"ticks\":\"\"},\"colorscale\":[[0.0,\"#0d0887\"],[0.1111111111111111,\"#46039f\"],[0.2222222222222222,\"#7201a8\"],[0.3333333333333333,\"#9c179e\"],[0.4444444444444444,\"#bd3786\"],[0.5555555555555556,\"#d8576b\"],[0.6666666666666666,\"#ed7953\"],[0.7777777777777778,\"#fb9f3a\"],[0.8888888888888888,\"#fdca26\"],[1.0,\"#f0f921\"]],\"type\":\"heatmap\"}],\"heatmapgl\":[{\"colorbar\":{\"outlinewidth\":0,\"ticks\":\"\"},\"colorscale\":[[0.0,\"#0d0887\"],[0.1111111111111111,\"#46039f\"],[0.2222222222222222,\"#7201a8\"],[0.3333333333333333,\"#9c179e\"],[0.4444444444444444,\"#bd3786\"],[0.5555555555555556,\"#d8576b\"],[0.6666666666666666,\"#ed7953\"],[0.7777777777777778,\"#fb9f3a\"],[0.8888888888888888,\"#fdca26\"],[1.0,\"#f0f921\"]],\"type\":\"heatmapgl\"}],\"histogram\":[{\"marker\":{\"pattern\":{\"fillmode\":\"overlay\",\"size\":10,\"solidity\":0.2}},\"type\":\"histogram\"}],\"histogram2d\":[{\"colorbar\":{\"outlinewidth\":0,\"ticks\":\"\"},\"colorscale\":[[0.0,\"#0d0887\"],[0.1111111111111111,\"#46039f\"],[0.2222222222222222,\"#7201a8\"],[0.3333333333333333,\"#9c179e\"],[0.4444444444444444,\"#bd3786\"],[0.5555555555555556,\"#d8576b\"],[0.6666666666666666,\"#ed7953\"],[0.7777777777777778,\"#fb9f3a\"],[0.8888888888888888,\"#fdca26\"],[1.0,\"#f0f921\"]],\"type\":\"histogram2d\"}],\"histogram2dcontour\":[{\"colorbar\":{\"outlinewidth\":0,\"ticks\":\"\"},\"colorscale\":[[0.0,\"#0d0887\"],[0.1111111111111111,\"#46039f\"],[0.2222222222222222,\"#7201a8\"],[0.3333333333333333,\"#9c179e\"],[0.4444444444444444,\"#bd3786\"],[0.5555555555555556,\"#d8576b\"],[0.6666666666666666,\"#ed7953\"],[0.7777777777777778,\"#fb9f3a\"],[0.8888888888888888,\"#fdca26\"],[1.0,\"#f0f921\"]],\"type\":\"histogram2dcontour\"}],\"mesh3d\":[{\"colorbar\":{\"outlinewidth\":0,\"ticks\":\"\"},\"type\":\"mesh3d\"}],\"parcoords\":[{\"line\":{\"colorbar\":{\"outlinewidth\":0,\"ticks\":\"\"}},\"type\":\"parcoords\"}],\"pie\":[{\"automargin\":true,\"type\":\"pie\"}],\"scatter\":[{\"marker\":{\"colorbar\":{\"outlinewidth\":0,\"ticks\":\"\"}},\"type\":\"scatter\"}],\"scatter3d\":[{\"line\":{\"colorbar\":{\"outlinewidth\":0,\"ticks\":\"\"}},\"marker\":{\"colorbar\":{\"outlinewidth\":0,\"ticks\":\"\"}},\"type\":\"scatter3d\"}],\"scattercarpet\":[{\"marker\":{\"colorbar\":{\"outlinewidth\":0,\"ticks\":\"\"}},\"type\":\"scattercarpet\"}],\"scattergeo\":[{\"marker\":{\"colorbar\":{\"outlinewidth\":0,\"ticks\":\"\"}},\"type\":\"scattergeo\"}],\"scattergl\":[{\"marker\":{\"colorbar\":{\"outlinewidth\":0,\"ticks\":\"\"}},\"type\":\"scattergl\"}],\"scattermapbox\":[{\"marker\":{\"colorbar\":{\"outlinewidth\":0,\"ticks\":\"\"}},\"type\":\"scattermapbox\"}],\"scatterpolar\":[{\"marker\":{\"colorbar\":{\"outlinewidth\":0,\"ticks\":\"\"}},\"type\":\"scatterpolar\"}],\"scatterpolargl\":[{\"marker\":{\"colorbar\":{\"outlinewidth\":0,\"ticks\":\"\"}},\"type\":\"scatterpolargl\"}],\"scatterternary\":[{\"marker\":{\"colorbar\":{\"outlinewidth\":0,\"ticks\":\"\"}},\"type\":\"scatterternary\"}],\"surface\":[{\"colorbar\":{\"outlinewidth\":0,\"ticks\":\"\"},\"colorscale\":[[0.0,\"#0d0887\"],[0.1111111111111111,\"#46039f\"],[0.2222222222222222,\"#7201a8\"],[0.3333333333333333,\"#9c179e\"],[0.4444444444444444,\"#bd3786\"],[0.5555555555555556,\"#d8576b\"],[0.6666666666666666,\"#ed7953\"],[0.7777777777777778,\"#fb9f3a\"],[0.8888888888888888,\"#fdca26\"],[1.0,\"#f0f921\"]],\"type\":\"surface\"}],\"table\":[{\"cells\":{\"fill\":{\"color\":\"#EBF0F8\"},\"line\":{\"color\":\"white\"}},\"header\":{\"fill\":{\"color\":\"#C8D4E3\"},\"line\":{\"color\":\"white\"}},\"type\":\"table\"}]},\"layout\":{\"annotationdefaults\":{\"arrowcolor\":\"#2a3f5f\",\"arrowhead\":0,\"arrowwidth\":1},\"autotypenumbers\":\"strict\",\"coloraxis\":{\"colorbar\":{\"outlinewidth\":0,\"ticks\":\"\"}},\"colorscale\":{\"diverging\":[[0,\"#8e0152\"],[0.1,\"#c51b7d\"],[0.2,\"#de77ae\"],[0.3,\"#f1b6da\"],[0.4,\"#fde0ef\"],[0.5,\"#f7f7f7\"],[0.6,\"#e6f5d0\"],[0.7,\"#b8e186\"],[0.8,\"#7fbc41\"],[0.9,\"#4d9221\"],[1,\"#276419\"]],\"sequential\":[[0.0,\"#0d0887\"],[0.1111111111111111,\"#46039f\"],[0.2222222222222222,\"#7201a8\"],[0.3333333333333333,\"#9c179e\"],[0.4444444444444444,\"#bd3786\"],[0.5555555555555556,\"#d8576b\"],[0.6666666666666666,\"#ed7953\"],[0.7777777777777778,\"#fb9f3a\"],[0.8888888888888888,\"#fdca26\"],[1.0,\"#f0f921\"]],\"sequentialminus\":[[0.0,\"#0d0887\"],[0.1111111111111111,\"#46039f\"],[0.2222222222222222,\"#7201a8\"],[0.3333333333333333,\"#9c179e\"],[0.4444444444444444,\"#bd3786\"],[0.5555555555555556,\"#d8576b\"],[0.6666666666666666,\"#ed7953\"],[0.7777777777777778,\"#fb9f3a\"],[0.8888888888888888,\"#fdca26\"],[1.0,\"#f0f921\"]]},\"colorway\":[\"#636efa\",\"#EF553B\",\"#00cc96\",\"#ab63fa\",\"#FFA15A\",\"#19d3f3\",\"#FF6692\",\"#B6E880\",\"#FF97FF\",\"#FECB52\"],\"font\":{\"color\":\"#2a3f5f\"},\"geo\":{\"bgcolor\":\"white\",\"lakecolor\":\"white\",\"landcolor\":\"#E5ECF6\",\"showlakes\":true,\"showland\":true,\"subunitcolor\":\"white\"},\"hoverlabel\":{\"align\":\"left\"},\"hovermode\":\"closest\",\"mapbox\":{\"style\":\"light\"},\"paper_bgcolor\":\"white\",\"plot_bgcolor\":\"#E5ECF6\",\"polar\":{\"angularaxis\":{\"gridcolor\":\"white\",\"linecolor\":\"white\",\"ticks\":\"\"},\"bgcolor\":\"#E5ECF6\",\"radialaxis\":{\"gridcolor\":\"white\",\"linecolor\":\"white\",\"ticks\":\"\"}},\"scene\":{\"xaxis\":{\"backgroundcolor\":\"#E5ECF6\",\"gridcolor\":\"white\",\"gridwidth\":2,\"linecolor\":\"white\",\"showbackground\":true,\"ticks\":\"\",\"zerolinecolor\":\"white\"},\"yaxis\":{\"backgroundcolor\":\"#E5ECF6\",\"gridcolor\":\"white\",\"gridwidth\":2,\"linecolor\":\"white\",\"showbackground\":true,\"ticks\":\"\",\"zerolinecolor\":\"white\"},\"zaxis\":{\"backgroundcolor\":\"#E5ECF6\",\"gridcolor\":\"white\",\"gridwidth\":2,\"linecolor\":\"white\",\"showbackground\":true,\"ticks\":\"\",\"zerolinecolor\":\"white\"}},\"shapedefaults\":{\"line\":{\"color\":\"#2a3f5f\"}},\"ternary\":{\"aaxis\":{\"gridcolor\":\"white\",\"linecolor\":\"white\",\"ticks\":\"\"},\"baxis\":{\"gridcolor\":\"white\",\"linecolor\":\"white\",\"ticks\":\"\"},\"bgcolor\":\"#E5ECF6\",\"caxis\":{\"gridcolor\":\"white\",\"linecolor\":\"white\",\"ticks\":\"\"}},\"title\":{\"x\":0.05},\"xaxis\":{\"automargin\":true,\"gridcolor\":\"white\",\"linecolor\":\"white\",\"ticks\":\"\",\"title\":{\"standoff\":15},\"zerolinecolor\":\"white\",\"zerolinewidth\":2},\"yaxis\":{\"automargin\":true,\"gridcolor\":\"white\",\"linecolor\":\"white\",\"ticks\":\"\",\"title\":{\"standoff\":15},\"zerolinecolor\":\"white\",\"zerolinewidth\":2}}},\"title\":{\"text\":\"AAPLE Prices (09.2020 - 09.2021)\"},\"xaxis\":{\"title\":{\"text\":\"Date\"}},\"yaxis\":{\"title\":{\"text\":\"Prices ($)\"}}},                        {\"responsive\": true}                    ).then(function(){\n",
       "                            \n",
       "var gd = document.getElementById('4a0e09a7-5ef7-4ffe-b3c8-2fbf0cc7df2a');\n",
       "var x = new MutationObserver(function (mutations, observer) {{\n",
       "        var display = window.getComputedStyle(gd).display;\n",
       "        if (!display || display === 'none') {{\n",
       "            console.log([gd, 'removed!']);\n",
       "            Plotly.purge(gd);\n",
       "            observer.disconnect();\n",
       "        }}\n",
       "}});\n",
       "\n",
       "// Listen for the removal of the full notebook cells\n",
       "var notebookContainer = gd.closest('#notebook-container');\n",
       "if (notebookContainer) {{\n",
       "    x.observe(notebookContainer, {childList: true});\n",
       "}}\n",
       "\n",
       "// Listen for the clearing of the current output cell\n",
       "var outputEl = gd.closest('.output');\n",
       "if (outputEl) {{\n",
       "    x.observe(outputEl, {childList: true});\n",
       "}}\n",
       "\n",
       "                        })                };                });            </script>        </div>"
      ]
     },
     "metadata": {},
     "output_type": "display_data"
    }
   ],
   "source": [
    "!pip install plotly\n",
    "import plotly.graph_objects as go\n",
    "import plotly.express as px\n",
    "\n",
    "fig = go.Figure(data=[go.Candlestick(x=df.index,\n",
    "                open=df['Open'],\n",
    "                high=df['High'],\n",
    "                low=df['Low'],\n",
    "                close=df['Close'], name=\"Candlestick\"),\n",
    "                go.Scatter(x = df_new.index, y = df_new.values, line=dict(color='Blue'), name='Mean Closing')])\n",
    "\n",
    "fig.update_layout(\n",
    "    title='AAPLE Prices (09.2020 - 09.2021)',\n",
    "    xaxis_title = 'Date',\n",
    "    yaxis_title='Prices ($)'\n",
    ")\n",
    "\n",
    "fig.show()"
   ]
  },
  {
   "cell_type": "code",
   "execution_count": 18,
   "metadata": {},
   "outputs": [
    {
     "data": {
      "application/vnd.plotly.v1+json": {
       "config": {
        "plotlyServerURL": "https://plot.ly"
       },
       "data": [
        {
         "close": [
          112.82,
          117.32,
          113.489998,
          112,
          115.360001,
          115.540001,
          112.129997,
          110.339996,
          106.839996,
          110.08000200000001,
          111.809998,
          107.120003,
          108.220001,
          112.279999,
          114.959999,
          114.089996,
          115.809998,
          116.790001,
          113.019997,
          116.5,
          113.160004,
          115.08000200000001,
          114.970001,
          116.970001,
          124.400002,
          121.099998,
          121.190002,
          120.709999,
          119.019997,
          115.980003,
          117.510002,
          116.870003,
          115.75,
          115.040001,
          115.050003,
          116.599998,
          111.199997,
          115.32,
          108.860001,
          108.769997,
          110.440002,
          114.949997,
          119.029999,
          118.690002,
          116.32,
          115.970001,
          119.489998,
          119.209999,
          119.260002,
          120.300003,
          119.389999,
          118.029999,
          118.639999,
          117.339996,
          113.849998,
          115.16999799999999,
          116.029999,
          116.589996,
          119.050003,
          122.720001,
          123.08000200000001,
          122.940002,
          122.25,
          123.75,
          124.379997,
          121.779999,
          123.239998,
          122.410004,
          121.779999,
          127.879997,
          127.809998,
          128.699997,
          126.660004,
          128.229996,
          131.880005,
          130.96000700000002,
          131.970001,
          136.690002,
          134.869995,
          133.720001,
          132.690002,
          129.41000400000001,
          131.009995,
          126.599998,
          130.919998,
          132.050003,
          128.979996,
          128.800003,
          130.889999,
          128.91000400000001,
          127.139999,
          127.83000200000001,
          132.029999,
          136.869995,
          139.070007,
          142.919998,
          143.16000400000001,
          142.059998,
          137.08999599999999,
          131.96000700000002,
          134.139999,
          134.990005,
          133.940002,
          137.389999,
          136.759995,
          136.91000400000001,
          136.009995,
          135.389999,
          135.130005,
          135.369995,
          133.190002,
          130.83999599999999,
          129.71000700000002,
          129.869995,
          126,
          125.860001,
          125.349998,
          120.989998,
          121.260002,
          127.790001,
          125.120003,
          122.059998,
          120.129997,
          121.41999799999999,
          116.360001,
          121.089996,
          119.980003,
          121.959999,
          121.029999,
          123.989998,
          125.57,
          124.760002,
          120.529999,
          119.989998,
          123.389999,
          122.540001,
          120.089996,
          120.589996,
          121.209999,
          121.389999,
          119.900002,
          122.150002,
          123,
          125.900002,
          126.209999,
          127.900002,
          130.360001,
          133,
          131.240005,
          134.429993,
          132.029999,
          134.5,
          134.16000400000001,
          134.83999599999999,
          133.110001,
          133.5,
          131.940002,
          134.320007,
          134.720001,
          134.389999,
          133.580002,
          133.479996,
          131.46000700000002,
          132.53999299999998,
          127.849998,
          128.100006,
          129.740005,
          130.21000700000002,
          126.849998,
          125.910004,
          122.769997,
          124.970001,
          127.449997,
          126.269997,
          124.849998,
          124.690002,
          127.309998,
          125.43,
          127.099998,
          126.900002,
          126.849998,
          125.279999,
          124.610001,
          124.279999,
          125.059998,
          123.540001,
          125.889999,
          125.900002,
          126.739998,
          127.129997,
          126.110001,
          127.349998,
          130.479996,
          129.639999,
          130.149994,
          131.78999299999998,
          130.46000700000002,
          132.300003,
          133.979996,
          133.699997,
          133.41000400000001,
          133.110001,
          134.779999,
          136.330002,
          136.96000700000002,
          137.270004,
          139.96000700000002,
          142.020004,
          144.570007,
          143.240005,
          145.110001,
          144.5,
          145.639999,
          149.149994,
          148.479996,
          146.389999,
          142.449997,
          146.149994,
          145.399994,
          146.800003,
          148.559998,
          148.990005,
          146.770004,
          144.979996,
          145.639999,
          145.860001,
          145.520004,
          147.360001,
          146.949997,
          147.059998,
          146.139999,
          146.08999599999999,
          145.600006,
          145.860001,
          148.889999,
          149.100006,
          151.119995,
          150.190002,
          146.360001,
          146.699997,
          148.190002,
          149.71000700000002,
          149.619995,
          148.360001,
          147.53999299999998,
          148.600006,
          153.119995,
          151.830002,
          152.509995,
          153.649994,
          154.300003,
          156.690002
         ],
         "high": [
          118.989998,
          119.139999,
          120.5,
          115.230003,
          115.93,
          118.83000200000001,
          116,
          112.199997,
          110.879997,
          110.190002,
          112.860001,
          112.110001,
          110.25,
          112.440002,
          115.32,
          115.309998,
          117.260002,
          117.720001,
          115.370003,
          116.650002,
          116.120003,
          115.550003,
          116.400002,
          117,
          125.18,
          125.389999,
          123.029999,
          121.199997,
          121.550003,
          120.41999799999999,
          118.980003,
          118.709999,
          118.040001,
          116.550003,
          116.550003,
          117.279999,
          115.43,
          116.93,
          111.989998,
          110.68,
          111.489998,
          115.589996,
          119.620003,
          119.199997,
          121.989998,
          117.589996,
          119.629997,
          120.529999,
          119.66999799999999,
          120.989998,
          120.66999799999999,
          119.82,
          119.059998,
          118.769997,
          117.620003,
          115.849998,
          116.75,
          117.489998,
          120.970001,
          123.470001,
          123.370003,
          123.779999,
          122.860001,
          124.57,
          124.980003,
          125.949997,
          123.870003,
          122.760002,
          123.349998,
          127.900002,
          128.369995,
          129.580002,
          129.100006,
          128.309998,
          134.41000400000001,
          132.429993,
          133.46000700000002,
          137.33999599999999,
          138.78999299999998,
          135.990005,
          134.740005,
          133.610001,
          131.740005,
          131.050003,
          131.630005,
          132.630005,
          130.169998,
          129.690002,
          131.449997,
          131,
          130.220001,
          128.71000700000002,
          132.490005,
          139.669998,
          139.850006,
          145.08999599999999,
          144.300003,
          144.300003,
          141.990005,
          136.740005,
          135.380005,
          136.309998,
          135.770004,
          137.399994,
          137.419998,
          136.96000700000002,
          137.880005,
          136.990005,
          136.389999,
          135.529999,
          136.009995,
          132.220001,
          130,
          130.71000700000002,
          129.720001,
          126.709999,
          125.559998,
          126.459999,
          124.849998,
          127.93,
          128.720001,
          125.709999,
          123.599998,
          121.940002,
          121,
          122.059998,
          122.16999799999999,
          123.209999,
          121.16999799999999,
          124,
          127.220001,
          125.860001,
          123.18,
          121.43,
          123.870003,
          124.239998,
          122.900002,
          121.660004,
          121.480003,
          122.58000200000001,
          120.400002,
          123.519997,
          124.18,
          126.160004,
          127.129997,
          127.91999799999999,
          130.389999,
          133.03999299999998,
          132.850006,
          134.66000400000001,
          135,
          135,
          134.669998,
          135.470001,
          135.529999,
          133.75,
          134.149994,
          135.119995,
          135.059998,
          135.41000400000001,
          135.020004,
          137.070007,
          133.559998,
          134.070007,
          131.490005,
          130.449997,
          129.75,
          131.259995,
          129.53999299999998,
          126.269997,
          124.639999,
          126.150002,
          127.889999,
          126.93,
          126.989998,
          124.91999799999999,
          127.720001,
          128,
          127.940002,
          128.320007,
          127.389999,
          127.639999,
          125.800003,
          125.349998,
          125.239998,
          124.849998,
          126.160004,
          126.32,
          128.46000700000002,
          127.75,
          128.190002,
          127.440002,
          130.53999299999998,
          130.600006,
          130.889999,
          132.550003,
          131.509995,
          132.41000400000001,
          134.080002,
          134.320007,
          134.639999,
          133.889999,
          135.25,
          136.490005,
          137.41000400000001,
          137.330002,
          140,
          143.149994,
          144.889999,
          144.059998,
          145.649994,
          146.320007,
          147.46000700000002,
          149.570007,
          150,
          149.759995,
          144.070007,
          147.100006,
          146.130005,
          148.199997,
          148.720001,
          149.830002,
          149.21000700000002,
          146.970001,
          146.550003,
          146.330002,
          146.949997,
          148.03999299999998,
          147.78999299999998,
          147.83999599999999,
          147.110001,
          146.699997,
          147.71000700000002,
          146.720001,
          149.050003,
          149.440002,
          151.190002,
          151.679993,
          150.720001,
          148,
          148.5,
          150.190002,
          150.860001,
          150.320007,
          149.119995,
          148.75,
          153.490005,
          152.800003,
          154.979996,
          154.720001,
          154.630005,
          157.259995
         ],
         "low": [
          112.68,
          115.260002,
          112.5,
          110,
          112.800003,
          113.610001,
          112.040001,
          108.709999,
          106.089996,
          103.099998,
          109.160004,
          106.769997,
          105,
          107.66999799999999,
          112.779999,
          113.57,
          113.620003,
          115.83000200000001,
          112.220001,
          113.550003,
          112.25,
          114.129997,
          114.589996,
          114.91999799999999,
          119.279999,
          119.650002,
          119.620003,
          118.150002,
          118.809998,
          115.660004,
          115.629997,
          116.449997,
          114.589996,
          114.279999,
          112.879997,
          114.540001,
          111.099998,
          112.199997,
          107.720001,
          107.32,
          108.730003,
          112.349998,
          116.870003,
          116.129997,
          116.050003,
          114.129997,
          116.440002,
          118.57,
          117.870003,
          118.150002,
          118.959999,
          118,
          116.809998,
          117.290001,
          113.75,
          112.589996,
          115.16999799999999,
          116.220001,
          116.809998,
          120.010002,
          120.889999,
          122.209999,
          121.519997,
          122.25,
          123.089996,
          121,
          120.150002,
          120.550003,
          121.540001,
          124.129997,
          126.559998,
          128.03999299999998,
          126.120003,
          123.449997,
          129.649994,
          130.779999,
          131.100006,
          133.509995,
          134.33999599999999,
          133.399994,
          131.720001,
          126.760002,
          128.429993,
          126.379997,
          127.860001,
          130.229996,
          128.5,
          126.860001,
          128.490005,
          128.759995,
          127,
          126.940002,
          128.550003,
          133.58999599999999,
          135.020004,
          136.53999299999998,
          141.369995,
          140.41000400000001,
          136.699997,
          130.21000700000002,
          130.929993,
          134.610001,
          133.610001,
          134.58999599999999,
          135.860001,
          134.919998,
          135.850006,
          134.399994,
          133.770004,
          133.690002,
          132.78999299999998,
          129.470001,
          127.410004,
          128.800003,
          125.599998,
          118.389999,
          122.230003,
          120.540001,
          121.199997,
          122.790001,
          125.010002,
          121.839996,
          118.620003,
          117.57,
          116.209999,
          118.790001,
          119.449997,
          121.260002,
          119.160004,
          120.41999799999999,
          124.720001,
          122.339996,
          120.32,
          119.68,
          120.260002,
          122.139999,
          120.07,
          119,
          118.91999799999999,
          120.730003,
          118.860001,
          121.150002,
          122.489998,
          123.07,
          125.650002,
          125.139999,
          128.520004,
          129.470001,
          130.630005,
          131.929993,
          131.66000400000001,
          133.639999,
          133.279999,
          133.33999599999999,
          131.809998,
          131.300003,
          131.41000400000001,
          132.16000400000001,
          133.559998,
          134.110001,
          133.080002,
          132.449997,
          131.070007,
          131.830002,
          126.699997,
          127.970001,
          127.129997,
          129.479996,
          126.809998,
          122.769997,
          122.25,
          124.260002,
          125.849998,
          125.16999799999999,
          124.779999,
          122.860001,
          125.099998,
          125.209999,
          125.940002,
          126.32,
          126.41999799999999,
          125.08000200000001,
          124.550003,
          123.940002,
          124.050003,
          123.129997,
          123.849998,
          124.83000200000001,
          126.209999,
          126.519997,
          125.940002,
          126.099998,
          127.07,
          129.389999,
          128.46000700000002,
          129.649994,
          130.240005,
          129.21000700000002,
          131.619995,
          133.229996,
          132.929993,
          132.809998,
          133.350006,
          134.350006,
          135.869995,
          135.759995,
          137.75,
          140.070007,
          142.66000400000001,
          140.669998,
          142.649994,
          144,
          143.630005,
          147.679993,
          147.08999599999999,
          145.880005,
          141.669998,
          142.96000700000002,
          144.630005,
          145.809998,
          146.919998,
          147.699997,
          145.550003,
          142.53999299999998,
          144.580002,
          144.110001,
          145.25,
          145.179993,
          146.279999,
          146.169998,
          145.630005,
          145.520004,
          145.300003,
          145.529999,
          145.83999599999999,
          148.270004,
          146.470001,
          149.08999599999999,
          146.149994,
          144.5,
          146.779999,
          147.889999,
          149.149994,
          147.800003,
          147.509995,
          146.830002,
          148.610001,
          151.28999299999998,
          152.33999599999999,
          152.399994,
          153.08999599999999,
          154.389999
         ],
         "open": [
          113.949997,
          117.260002,
          120.360001,
          114.57,
          114.720001,
          118.33000200000001,
          115.230003,
          109.720001,
          110.400002,
          104.540001,
          112.68,
          111.620003,
          105.16999799999999,
          108.43,
          115.010002,
          114.550003,
          113.790001,
          117.639999,
          112.889999,
          113.910004,
          115.699997,
          114.620003,
          116.25,
          115.279999,
          120.059998,
          125.269997,
          121,
          118.720001,
          121.279999,
          119.959999,
          116.199997,
          116.66999799999999,
          117.449997,
          116.389999,
          114.010002,
          115.489998,
          115.050003,
          112.370003,
          111.059998,
          109.110001,
          109.660004,
          114.139999,
          117.949997,
          118.32,
          120.5,
          115.550003,
          117.190002,
          119.620003,
          119.440002,
          118.91999799999999,
          119.550003,
          118.610001,
          117.589996,
          118.639999,
          117.18,
          113.910004,
          115.550003,
          116.57,
          116.970001,
          121.010002,
          122.019997,
          123.519997,
          122.599998,
          122.309998,
          124.370003,
          124.529999,
          120.5,
          122.43,
          122.599998,
          124.339996,
          127.410004,
          128.899994,
          128.96000700000002,
          125.019997,
          131.610001,
          132.16000400000001,
          131.320007,
          133.990005,
          138.050003,
          135.580002,
          134.080002,
          133.520004,
          128.889999,
          127.720001,
          128.360001,
          132.429993,
          129.190002,
          128.5,
          128.759995,
          130.800003,
          128.779999,
          127.779999,
          128.66000400000001,
          133.800003,
          136.279999,
          143.070007,
          143.600006,
          143.429993,
          139.520004,
          135.830002,
          133.75,
          135.729996,
          135.759995,
          136.300003,
          137.350006,
          136.029999,
          136.619995,
          136.479996,
          135.899994,
          134.350006,
          135.490005,
          131.25,
          129.199997,
          130.240005,
          128.009995,
          123.760002,
          124.940002,
          124.68,
          122.589996,
          123.75,
          128.41000400000001,
          124.809998,
          121.75,
          120.980003,
          120.93,
          119.029999,
          121.690002,
          122.540001,
          120.400002,
          121.410004,
          125.699997,
          124.050003,
          122.879997,
          119.900002,
          120.33000200000001,
          123.33000200000001,
          122.82,
          119.540001,
          120.349998,
          121.650002,
          120.110001,
          121.650002,
          123.660004,
          123.870003,
          126.5,
          125.83000200000001,
          128.949997,
          129.800003,
          132.520004,
          132.440002,
          134.940002,
          133.820007,
          134.300003,
          133.509995,
          135.020004,
          132.360001,
          133.03999299999998,
          132.16000400000001,
          134.830002,
          135.009995,
          134.309998,
          136.470001,
          131.779999,
          132.03999299999998,
          131.190002,
          129.199997,
          127.889999,
          130.850006,
          129.41000400000001,
          123.5,
          123.400002,
          124.58000200000001,
          126.25,
          126.82,
          126.559998,
          123.160004,
          125.230003,
          127.82,
          126.010002,
          127.82,
          126.959999,
          126.440002,
          125.57,
          125.08000200000001,
          124.279999,
          124.68,
          124.07,
          126.16999799999999,
          126.599998,
          127.209999,
          127.019997,
          126.529999,
          127.82,
          129.940002,
          130.369995,
          129.800003,
          130.71000700000002,
          130.300003,
          132.130005,
          133.770004,
          134.449997,
          133.46000700000002,
          133.41000400000001,
          134.800003,
          136.169998,
          136.600006,
          137.899994,
          140.070007,
          143.53999299999998,
          141.580002,
          142.75,
          146.21000700000002,
          144.029999,
          148.100006,
          149.240005,
          148.46000700000002,
          143.75,
          143.46000700000002,
          145.529999,
          145.940002,
          147.550003,
          148.270004,
          149.119995,
          144.809998,
          144.690002,
          144.380005,
          146.360001,
          145.809998,
          147.270004,
          146.979996,
          146.350006,
          146.199997,
          146.440002,
          146.050003,
          146.190002,
          148.970001,
          148.53999299999998,
          150.229996,
          149.800003,
          145.029999,
          147.440002,
          148.309998,
          149.449997,
          149.809998,
          148.350006,
          147.479996,
          149,
          152.66000400000001,
          152.830002,
          153.869995,
          153.759995,
          154.970001
         ],
         "type": "candlestick",
         "x": [
          "2020-09-08T00:00:00",
          "2020-09-09T00:00:00",
          "2020-09-10T00:00:00",
          "2020-09-11T00:00:00",
          "2020-09-14T00:00:00",
          "2020-09-15T00:00:00",
          "2020-09-16T00:00:00",
          "2020-09-17T00:00:00",
          "2020-09-18T00:00:00",
          "2020-09-21T00:00:00",
          "2020-09-22T00:00:00",
          "2020-09-23T00:00:00",
          "2020-09-24T00:00:00",
          "2020-09-25T00:00:00",
          "2020-09-28T00:00:00",
          "2020-09-29T00:00:00",
          "2020-09-30T00:00:00",
          "2020-10-01T00:00:00",
          "2020-10-02T00:00:00",
          "2020-10-05T00:00:00",
          "2020-10-06T00:00:00",
          "2020-10-07T00:00:00",
          "2020-10-08T00:00:00",
          "2020-10-09T00:00:00",
          "2020-10-12T00:00:00",
          "2020-10-13T00:00:00",
          "2020-10-14T00:00:00",
          "2020-10-15T00:00:00",
          "2020-10-16T00:00:00",
          "2020-10-19T00:00:00",
          "2020-10-20T00:00:00",
          "2020-10-21T00:00:00",
          "2020-10-22T00:00:00",
          "2020-10-23T00:00:00",
          "2020-10-26T00:00:00",
          "2020-10-27T00:00:00",
          "2020-10-28T00:00:00",
          "2020-10-29T00:00:00",
          "2020-10-30T00:00:00",
          "2020-11-02T00:00:00",
          "2020-11-03T00:00:00",
          "2020-11-04T00:00:00",
          "2020-11-05T00:00:00",
          "2020-11-06T00:00:00",
          "2020-11-09T00:00:00",
          "2020-11-10T00:00:00",
          "2020-11-11T00:00:00",
          "2020-11-12T00:00:00",
          "2020-11-13T00:00:00",
          "2020-11-16T00:00:00",
          "2020-11-17T00:00:00",
          "2020-11-18T00:00:00",
          "2020-11-19T00:00:00",
          "2020-11-20T00:00:00",
          "2020-11-23T00:00:00",
          "2020-11-24T00:00:00",
          "2020-11-25T00:00:00",
          "2020-11-27T00:00:00",
          "2020-11-30T00:00:00",
          "2020-12-01T00:00:00",
          "2020-12-02T00:00:00",
          "2020-12-03T00:00:00",
          "2020-12-04T00:00:00",
          "2020-12-07T00:00:00",
          "2020-12-08T00:00:00",
          "2020-12-09T00:00:00",
          "2020-12-10T00:00:00",
          "2020-12-11T00:00:00",
          "2020-12-14T00:00:00",
          "2020-12-15T00:00:00",
          "2020-12-16T00:00:00",
          "2020-12-17T00:00:00",
          "2020-12-18T00:00:00",
          "2020-12-21T00:00:00",
          "2020-12-22T00:00:00",
          "2020-12-23T00:00:00",
          "2020-12-24T00:00:00",
          "2020-12-28T00:00:00",
          "2020-12-29T00:00:00",
          "2020-12-30T00:00:00",
          "2020-12-31T00:00:00",
          "2021-01-04T00:00:00",
          "2021-01-05T00:00:00",
          "2021-01-06T00:00:00",
          "2021-01-07T00:00:00",
          "2021-01-08T00:00:00",
          "2021-01-11T00:00:00",
          "2021-01-12T00:00:00",
          "2021-01-13T00:00:00",
          "2021-01-14T00:00:00",
          "2021-01-15T00:00:00",
          "2021-01-19T00:00:00",
          "2021-01-20T00:00:00",
          "2021-01-21T00:00:00",
          "2021-01-22T00:00:00",
          "2021-01-25T00:00:00",
          "2021-01-26T00:00:00",
          "2021-01-27T00:00:00",
          "2021-01-28T00:00:00",
          "2021-01-29T00:00:00",
          "2021-02-01T00:00:00",
          "2021-02-02T00:00:00",
          "2021-02-03T00:00:00",
          "2021-02-04T00:00:00",
          "2021-02-05T00:00:00",
          "2021-02-08T00:00:00",
          "2021-02-09T00:00:00",
          "2021-02-10T00:00:00",
          "2021-02-11T00:00:00",
          "2021-02-12T00:00:00",
          "2021-02-16T00:00:00",
          "2021-02-17T00:00:00",
          "2021-02-18T00:00:00",
          "2021-02-19T00:00:00",
          "2021-02-22T00:00:00",
          "2021-02-23T00:00:00",
          "2021-02-24T00:00:00",
          "2021-02-25T00:00:00",
          "2021-02-26T00:00:00",
          "2021-03-01T00:00:00",
          "2021-03-02T00:00:00",
          "2021-03-03T00:00:00",
          "2021-03-04T00:00:00",
          "2021-03-05T00:00:00",
          "2021-03-08T00:00:00",
          "2021-03-09T00:00:00",
          "2021-03-10T00:00:00",
          "2021-03-11T00:00:00",
          "2021-03-12T00:00:00",
          "2021-03-15T00:00:00",
          "2021-03-16T00:00:00",
          "2021-03-17T00:00:00",
          "2021-03-18T00:00:00",
          "2021-03-19T00:00:00",
          "2021-03-22T00:00:00",
          "2021-03-23T00:00:00",
          "2021-03-24T00:00:00",
          "2021-03-25T00:00:00",
          "2021-03-26T00:00:00",
          "2021-03-29T00:00:00",
          "2021-03-30T00:00:00",
          "2021-03-31T00:00:00",
          "2021-04-01T00:00:00",
          "2021-04-05T00:00:00",
          "2021-04-06T00:00:00",
          "2021-04-07T00:00:00",
          "2021-04-08T00:00:00",
          "2021-04-09T00:00:00",
          "2021-04-12T00:00:00",
          "2021-04-13T00:00:00",
          "2021-04-14T00:00:00",
          "2021-04-15T00:00:00",
          "2021-04-16T00:00:00",
          "2021-04-19T00:00:00",
          "2021-04-20T00:00:00",
          "2021-04-21T00:00:00",
          "2021-04-22T00:00:00",
          "2021-04-23T00:00:00",
          "2021-04-26T00:00:00",
          "2021-04-27T00:00:00",
          "2021-04-28T00:00:00",
          "2021-04-29T00:00:00",
          "2021-04-30T00:00:00",
          "2021-05-03T00:00:00",
          "2021-05-04T00:00:00",
          "2021-05-05T00:00:00",
          "2021-05-06T00:00:00",
          "2021-05-07T00:00:00",
          "2021-05-10T00:00:00",
          "2021-05-11T00:00:00",
          "2021-05-12T00:00:00",
          "2021-05-13T00:00:00",
          "2021-05-14T00:00:00",
          "2021-05-17T00:00:00",
          "2021-05-18T00:00:00",
          "2021-05-19T00:00:00",
          "2021-05-20T00:00:00",
          "2021-05-21T00:00:00",
          "2021-05-24T00:00:00",
          "2021-05-25T00:00:00",
          "2021-05-26T00:00:00",
          "2021-05-27T00:00:00",
          "2021-05-28T00:00:00",
          "2021-06-01T00:00:00",
          "2021-06-02T00:00:00",
          "2021-06-03T00:00:00",
          "2021-06-04T00:00:00",
          "2021-06-07T00:00:00",
          "2021-06-08T00:00:00",
          "2021-06-09T00:00:00",
          "2021-06-10T00:00:00",
          "2021-06-11T00:00:00",
          "2021-06-14T00:00:00",
          "2021-06-15T00:00:00",
          "2021-06-16T00:00:00",
          "2021-06-17T00:00:00",
          "2021-06-18T00:00:00",
          "2021-06-21T00:00:00",
          "2021-06-22T00:00:00",
          "2021-06-23T00:00:00",
          "2021-06-24T00:00:00",
          "2021-06-25T00:00:00",
          "2021-06-28T00:00:00",
          "2021-06-29T00:00:00",
          "2021-06-30T00:00:00",
          "2021-07-01T00:00:00",
          "2021-07-02T00:00:00",
          "2021-07-06T00:00:00",
          "2021-07-07T00:00:00",
          "2021-07-08T00:00:00",
          "2021-07-09T00:00:00",
          "2021-07-12T00:00:00",
          "2021-07-13T00:00:00",
          "2021-07-14T00:00:00",
          "2021-07-15T00:00:00",
          "2021-07-16T00:00:00",
          "2021-07-19T00:00:00",
          "2021-07-20T00:00:00",
          "2021-07-21T00:00:00",
          "2021-07-22T00:00:00",
          "2021-07-23T00:00:00",
          "2021-07-26T00:00:00",
          "2021-07-27T00:00:00",
          "2021-07-28T00:00:00",
          "2021-07-29T00:00:00",
          "2021-07-30T00:00:00",
          "2021-08-02T00:00:00",
          "2021-08-03T00:00:00",
          "2021-08-04T00:00:00",
          "2021-08-05T00:00:00",
          "2021-08-06T00:00:00",
          "2021-08-09T00:00:00",
          "2021-08-10T00:00:00",
          "2021-08-11T00:00:00",
          "2021-08-12T00:00:00",
          "2021-08-13T00:00:00",
          "2021-08-16T00:00:00",
          "2021-08-17T00:00:00",
          "2021-08-18T00:00:00",
          "2021-08-19T00:00:00",
          "2021-08-20T00:00:00",
          "2021-08-23T00:00:00",
          "2021-08-24T00:00:00",
          "2021-08-25T00:00:00",
          "2021-08-26T00:00:00",
          "2021-08-27T00:00:00",
          "2021-08-30T00:00:00",
          "2021-08-31T00:00:00",
          "2021-09-01T00:00:00",
          "2021-09-02T00:00:00",
          "2021-09-03T00:00:00",
          "2021-09-07T00:00:00"
         ]
        }
       ],
       "layout": {
        "template": {
         "data": {
          "bar": [
           {
            "error_x": {
             "color": "#2a3f5f"
            },
            "error_y": {
             "color": "#2a3f5f"
            },
            "marker": {
             "line": {
              "color": "#E5ECF6",
              "width": 0.5
             },
             "pattern": {
              "fillmode": "overlay",
              "size": 10,
              "solidity": 0.2
             }
            },
            "type": "bar"
           }
          ],
          "barpolar": [
           {
            "marker": {
             "line": {
              "color": "#E5ECF6",
              "width": 0.5
             },
             "pattern": {
              "fillmode": "overlay",
              "size": 10,
              "solidity": 0.2
             }
            },
            "type": "barpolar"
           }
          ],
          "carpet": [
           {
            "aaxis": {
             "endlinecolor": "#2a3f5f",
             "gridcolor": "white",
             "linecolor": "white",
             "minorgridcolor": "white",
             "startlinecolor": "#2a3f5f"
            },
            "baxis": {
             "endlinecolor": "#2a3f5f",
             "gridcolor": "white",
             "linecolor": "white",
             "minorgridcolor": "white",
             "startlinecolor": "#2a3f5f"
            },
            "type": "carpet"
           }
          ],
          "choropleth": [
           {
            "colorbar": {
             "outlinewidth": 0,
             "ticks": ""
            },
            "type": "choropleth"
           }
          ],
          "contour": [
           {
            "colorbar": {
             "outlinewidth": 0,
             "ticks": ""
            },
            "colorscale": [
             [
              0,
              "#0d0887"
             ],
             [
              0.1111111111111111,
              "#46039f"
             ],
             [
              0.2222222222222222,
              "#7201a8"
             ],
             [
              0.3333333333333333,
              "#9c179e"
             ],
             [
              0.4444444444444444,
              "#bd3786"
             ],
             [
              0.5555555555555556,
              "#d8576b"
             ],
             [
              0.6666666666666666,
              "#ed7953"
             ],
             [
              0.7777777777777778,
              "#fb9f3a"
             ],
             [
              0.8888888888888888,
              "#fdca26"
             ],
             [
              1,
              "#f0f921"
             ]
            ],
            "type": "contour"
           }
          ],
          "contourcarpet": [
           {
            "colorbar": {
             "outlinewidth": 0,
             "ticks": ""
            },
            "type": "contourcarpet"
           }
          ],
          "heatmap": [
           {
            "colorbar": {
             "outlinewidth": 0,
             "ticks": ""
            },
            "colorscale": [
             [
              0,
              "#0d0887"
             ],
             [
              0.1111111111111111,
              "#46039f"
             ],
             [
              0.2222222222222222,
              "#7201a8"
             ],
             [
              0.3333333333333333,
              "#9c179e"
             ],
             [
              0.4444444444444444,
              "#bd3786"
             ],
             [
              0.5555555555555556,
              "#d8576b"
             ],
             [
              0.6666666666666666,
              "#ed7953"
             ],
             [
              0.7777777777777778,
              "#fb9f3a"
             ],
             [
              0.8888888888888888,
              "#fdca26"
             ],
             [
              1,
              "#f0f921"
             ]
            ],
            "type": "heatmap"
           }
          ],
          "heatmapgl": [
           {
            "colorbar": {
             "outlinewidth": 0,
             "ticks": ""
            },
            "colorscale": [
             [
              0,
              "#0d0887"
             ],
             [
              0.1111111111111111,
              "#46039f"
             ],
             [
              0.2222222222222222,
              "#7201a8"
             ],
             [
              0.3333333333333333,
              "#9c179e"
             ],
             [
              0.4444444444444444,
              "#bd3786"
             ],
             [
              0.5555555555555556,
              "#d8576b"
             ],
             [
              0.6666666666666666,
              "#ed7953"
             ],
             [
              0.7777777777777778,
              "#fb9f3a"
             ],
             [
              0.8888888888888888,
              "#fdca26"
             ],
             [
              1,
              "#f0f921"
             ]
            ],
            "type": "heatmapgl"
           }
          ],
          "histogram": [
           {
            "marker": {
             "pattern": {
              "fillmode": "overlay",
              "size": 10,
              "solidity": 0.2
             }
            },
            "type": "histogram"
           }
          ],
          "histogram2d": [
           {
            "colorbar": {
             "outlinewidth": 0,
             "ticks": ""
            },
            "colorscale": [
             [
              0,
              "#0d0887"
             ],
             [
              0.1111111111111111,
              "#46039f"
             ],
             [
              0.2222222222222222,
              "#7201a8"
             ],
             [
              0.3333333333333333,
              "#9c179e"
             ],
             [
              0.4444444444444444,
              "#bd3786"
             ],
             [
              0.5555555555555556,
              "#d8576b"
             ],
             [
              0.6666666666666666,
              "#ed7953"
             ],
             [
              0.7777777777777778,
              "#fb9f3a"
             ],
             [
              0.8888888888888888,
              "#fdca26"
             ],
             [
              1,
              "#f0f921"
             ]
            ],
            "type": "histogram2d"
           }
          ],
          "histogram2dcontour": [
           {
            "colorbar": {
             "outlinewidth": 0,
             "ticks": ""
            },
            "colorscale": [
             [
              0,
              "#0d0887"
             ],
             [
              0.1111111111111111,
              "#46039f"
             ],
             [
              0.2222222222222222,
              "#7201a8"
             ],
             [
              0.3333333333333333,
              "#9c179e"
             ],
             [
              0.4444444444444444,
              "#bd3786"
             ],
             [
              0.5555555555555556,
              "#d8576b"
             ],
             [
              0.6666666666666666,
              "#ed7953"
             ],
             [
              0.7777777777777778,
              "#fb9f3a"
             ],
             [
              0.8888888888888888,
              "#fdca26"
             ],
             [
              1,
              "#f0f921"
             ]
            ],
            "type": "histogram2dcontour"
           }
          ],
          "mesh3d": [
           {
            "colorbar": {
             "outlinewidth": 0,
             "ticks": ""
            },
            "type": "mesh3d"
           }
          ],
          "parcoords": [
           {
            "line": {
             "colorbar": {
              "outlinewidth": 0,
              "ticks": ""
             }
            },
            "type": "parcoords"
           }
          ],
          "pie": [
           {
            "automargin": true,
            "type": "pie"
           }
          ],
          "scatter": [
           {
            "marker": {
             "colorbar": {
              "outlinewidth": 0,
              "ticks": ""
             }
            },
            "type": "scatter"
           }
          ],
          "scatter3d": [
           {
            "line": {
             "colorbar": {
              "outlinewidth": 0,
              "ticks": ""
             }
            },
            "marker": {
             "colorbar": {
              "outlinewidth": 0,
              "ticks": ""
             }
            },
            "type": "scatter3d"
           }
          ],
          "scattercarpet": [
           {
            "marker": {
             "colorbar": {
              "outlinewidth": 0,
              "ticks": ""
             }
            },
            "type": "scattercarpet"
           }
          ],
          "scattergeo": [
           {
            "marker": {
             "colorbar": {
              "outlinewidth": 0,
              "ticks": ""
             }
            },
            "type": "scattergeo"
           }
          ],
          "scattergl": [
           {
            "marker": {
             "colorbar": {
              "outlinewidth": 0,
              "ticks": ""
             }
            },
            "type": "scattergl"
           }
          ],
          "scattermapbox": [
           {
            "marker": {
             "colorbar": {
              "outlinewidth": 0,
              "ticks": ""
             }
            },
            "type": "scattermapbox"
           }
          ],
          "scatterpolar": [
           {
            "marker": {
             "colorbar": {
              "outlinewidth": 0,
              "ticks": ""
             }
            },
            "type": "scatterpolar"
           }
          ],
          "scatterpolargl": [
           {
            "marker": {
             "colorbar": {
              "outlinewidth": 0,
              "ticks": ""
             }
            },
            "type": "scatterpolargl"
           }
          ],
          "scatterternary": [
           {
            "marker": {
             "colorbar": {
              "outlinewidth": 0,
              "ticks": ""
             }
            },
            "type": "scatterternary"
           }
          ],
          "surface": [
           {
            "colorbar": {
             "outlinewidth": 0,
             "ticks": ""
            },
            "colorscale": [
             [
              0,
              "#0d0887"
             ],
             [
              0.1111111111111111,
              "#46039f"
             ],
             [
              0.2222222222222222,
              "#7201a8"
             ],
             [
              0.3333333333333333,
              "#9c179e"
             ],
             [
              0.4444444444444444,
              "#bd3786"
             ],
             [
              0.5555555555555556,
              "#d8576b"
             ],
             [
              0.6666666666666666,
              "#ed7953"
             ],
             [
              0.7777777777777778,
              "#fb9f3a"
             ],
             [
              0.8888888888888888,
              "#fdca26"
             ],
             [
              1,
              "#f0f921"
             ]
            ],
            "type": "surface"
           }
          ],
          "table": [
           {
            "cells": {
             "fill": {
              "color": "#EBF0F8"
             },
             "line": {
              "color": "white"
             }
            },
            "header": {
             "fill": {
              "color": "#C8D4E3"
             },
             "line": {
              "color": "white"
             }
            },
            "type": "table"
           }
          ]
         },
         "layout": {
          "annotationdefaults": {
           "arrowcolor": "#2a3f5f",
           "arrowhead": 0,
           "arrowwidth": 1
          },
          "autotypenumbers": "strict",
          "coloraxis": {
           "colorbar": {
            "outlinewidth": 0,
            "ticks": ""
           }
          },
          "colorscale": {
           "diverging": [
            [
             0,
             "#8e0152"
            ],
            [
             0.1,
             "#c51b7d"
            ],
            [
             0.2,
             "#de77ae"
            ],
            [
             0.3,
             "#f1b6da"
            ],
            [
             0.4,
             "#fde0ef"
            ],
            [
             0.5,
             "#f7f7f7"
            ],
            [
             0.6,
             "#e6f5d0"
            ],
            [
             0.7,
             "#b8e186"
            ],
            [
             0.8,
             "#7fbc41"
            ],
            [
             0.9,
             "#4d9221"
            ],
            [
             1,
             "#276419"
            ]
           ],
           "sequential": [
            [
             0,
             "#0d0887"
            ],
            [
             0.1111111111111111,
             "#46039f"
            ],
            [
             0.2222222222222222,
             "#7201a8"
            ],
            [
             0.3333333333333333,
             "#9c179e"
            ],
            [
             0.4444444444444444,
             "#bd3786"
            ],
            [
             0.5555555555555556,
             "#d8576b"
            ],
            [
             0.6666666666666666,
             "#ed7953"
            ],
            [
             0.7777777777777778,
             "#fb9f3a"
            ],
            [
             0.8888888888888888,
             "#fdca26"
            ],
            [
             1,
             "#f0f921"
            ]
           ],
           "sequentialminus": [
            [
             0,
             "#0d0887"
            ],
            [
             0.1111111111111111,
             "#46039f"
            ],
            [
             0.2222222222222222,
             "#7201a8"
            ],
            [
             0.3333333333333333,
             "#9c179e"
            ],
            [
             0.4444444444444444,
             "#bd3786"
            ],
            [
             0.5555555555555556,
             "#d8576b"
            ],
            [
             0.6666666666666666,
             "#ed7953"
            ],
            [
             0.7777777777777778,
             "#fb9f3a"
            ],
            [
             0.8888888888888888,
             "#fdca26"
            ],
            [
             1,
             "#f0f921"
            ]
           ]
          },
          "colorway": [
           "#636efa",
           "#EF553B",
           "#00cc96",
           "#ab63fa",
           "#FFA15A",
           "#19d3f3",
           "#FF6692",
           "#B6E880",
           "#FF97FF",
           "#FECB52"
          ],
          "font": {
           "color": "#2a3f5f"
          },
          "geo": {
           "bgcolor": "white",
           "lakecolor": "white",
           "landcolor": "#E5ECF6",
           "showlakes": true,
           "showland": true,
           "subunitcolor": "white"
          },
          "hoverlabel": {
           "align": "left"
          },
          "hovermode": "closest",
          "mapbox": {
           "style": "light"
          },
          "paper_bgcolor": "white",
          "plot_bgcolor": "#E5ECF6",
          "polar": {
           "angularaxis": {
            "gridcolor": "white",
            "linecolor": "white",
            "ticks": ""
           },
           "bgcolor": "#E5ECF6",
           "radialaxis": {
            "gridcolor": "white",
            "linecolor": "white",
            "ticks": ""
           }
          },
          "scene": {
           "xaxis": {
            "backgroundcolor": "#E5ECF6",
            "gridcolor": "white",
            "gridwidth": 2,
            "linecolor": "white",
            "showbackground": true,
            "ticks": "",
            "zerolinecolor": "white"
           },
           "yaxis": {
            "backgroundcolor": "#E5ECF6",
            "gridcolor": "white",
            "gridwidth": 2,
            "linecolor": "white",
            "showbackground": true,
            "ticks": "",
            "zerolinecolor": "white"
           },
           "zaxis": {
            "backgroundcolor": "#E5ECF6",
            "gridcolor": "white",
            "gridwidth": 2,
            "linecolor": "white",
            "showbackground": true,
            "ticks": "",
            "zerolinecolor": "white"
           }
          },
          "shapedefaults": {
           "line": {
            "color": "#2a3f5f"
           }
          },
          "ternary": {
           "aaxis": {
            "gridcolor": "white",
            "linecolor": "white",
            "ticks": ""
           },
           "baxis": {
            "gridcolor": "white",
            "linecolor": "white",
            "ticks": ""
           },
           "bgcolor": "#E5ECF6",
           "caxis": {
            "gridcolor": "white",
            "linecolor": "white",
            "ticks": ""
           }
          },
          "title": {
           "x": 0.05
          },
          "xaxis": {
           "automargin": true,
           "gridcolor": "white",
           "linecolor": "white",
           "ticks": "",
           "title": {
            "standoff": 15
           },
           "zerolinecolor": "white",
           "zerolinewidth": 2
          },
          "yaxis": {
           "automargin": true,
           "gridcolor": "white",
           "linecolor": "white",
           "ticks": "",
           "title": {
            "standoff": 15
           },
           "zerolinecolor": "white",
           "zerolinewidth": 2
          }
         }
        },
        "title": {
         "text": "AAPLE Prices (09.2020 - 09.2021)"
        },
        "xaxis": {
         "title": {
          "text": "Date"
         }
        },
        "yaxis": {
         "title": {
          "text": "Prices ($)"
         }
        }
       }
      },
      "text/html": [
       "<div>                            <div id=\"832c521a-e5b9-4b94-9273-b1e3ff3b20a8\" class=\"plotly-graph-div\" style=\"height:525px; width:100%;\"></div>            <script type=\"text/javascript\">                require([\"plotly\"], function(Plotly) {                    window.PLOTLYENV=window.PLOTLYENV || {};                                    if (document.getElementById(\"832c521a-e5b9-4b94-9273-b1e3ff3b20a8\")) {                    Plotly.newPlot(                        \"832c521a-e5b9-4b94-9273-b1e3ff3b20a8\",                        [{\"close\":[112.82,117.32,113.489998,112.0,115.360001,115.540001,112.129997,110.339996,106.839996,110.08000200000001,111.809998,107.120003,108.220001,112.279999,114.959999,114.089996,115.809998,116.790001,113.019997,116.5,113.160004,115.08000200000001,114.970001,116.970001,124.400002,121.099998,121.190002,120.709999,119.019997,115.980003,117.510002,116.870003,115.75,115.040001,115.050003,116.599998,111.199997,115.32,108.860001,108.769997,110.440002,114.949997,119.029999,118.690002,116.32,115.970001,119.489998,119.209999,119.260002,120.300003,119.389999,118.029999,118.639999,117.339996,113.849998,115.16999799999999,116.029999,116.589996,119.050003,122.720001,123.08000200000001,122.940002,122.25,123.75,124.379997,121.779999,123.239998,122.410004,121.779999,127.879997,127.809998,128.699997,126.660004,128.229996,131.880005,130.96000700000002,131.970001,136.690002,134.869995,133.720001,132.690002,129.41000400000001,131.009995,126.599998,130.919998,132.050003,128.979996,128.800003,130.889999,128.91000400000001,127.139999,127.83000200000001,132.029999,136.869995,139.070007,142.919998,143.16000400000001,142.059998,137.08999599999999,131.96000700000002,134.139999,134.990005,133.940002,137.389999,136.759995,136.91000400000001,136.009995,135.389999,135.130005,135.369995,133.190002,130.83999599999999,129.71000700000002,129.869995,126.0,125.860001,125.349998,120.989998,121.260002,127.790001,125.120003,122.059998,120.129997,121.41999799999999,116.360001,121.089996,119.980003,121.959999,121.029999,123.989998,125.57,124.760002,120.529999,119.989998,123.389999,122.540001,120.089996,120.589996,121.209999,121.389999,119.900002,122.150002,123.0,125.900002,126.209999,127.900002,130.360001,133.0,131.240005,134.429993,132.029999,134.5,134.16000400000001,134.83999599999999,133.110001,133.5,131.940002,134.320007,134.720001,134.389999,133.580002,133.479996,131.46000700000002,132.53999299999998,127.849998,128.100006,129.740005,130.21000700000002,126.849998,125.910004,122.769997,124.970001,127.449997,126.269997,124.849998,124.690002,127.309998,125.43,127.099998,126.900002,126.849998,125.279999,124.610001,124.279999,125.059998,123.540001,125.889999,125.900002,126.739998,127.129997,126.110001,127.349998,130.479996,129.639999,130.149994,131.78999299999998,130.46000700000002,132.300003,133.979996,133.699997,133.41000400000001,133.110001,134.779999,136.330002,136.96000700000002,137.270004,139.96000700000002,142.020004,144.570007,143.240005,145.110001,144.5,145.639999,149.149994,148.479996,146.389999,142.449997,146.149994,145.399994,146.800003,148.559998,148.990005,146.770004,144.979996,145.639999,145.860001,145.520004,147.360001,146.949997,147.059998,146.139999,146.08999599999999,145.600006,145.860001,148.889999,149.100006,151.119995,150.190002,146.360001,146.699997,148.190002,149.71000700000002,149.619995,148.360001,147.53999299999998,148.600006,153.119995,151.830002,152.509995,153.649994,154.300003,156.690002],\"high\":[118.989998,119.139999,120.5,115.230003,115.93,118.83000200000001,116.0,112.199997,110.879997,110.190002,112.860001,112.110001,110.25,112.440002,115.32,115.309998,117.260002,117.720001,115.370003,116.650002,116.120003,115.550003,116.400002,117.0,125.18,125.389999,123.029999,121.199997,121.550003,120.41999799999999,118.980003,118.709999,118.040001,116.550003,116.550003,117.279999,115.43,116.93,111.989998,110.68,111.489998,115.589996,119.620003,119.199997,121.989998,117.589996,119.629997,120.529999,119.66999799999999,120.989998,120.66999799999999,119.82,119.059998,118.769997,117.620003,115.849998,116.75,117.489998,120.970001,123.470001,123.370003,123.779999,122.860001,124.57,124.980003,125.949997,123.870003,122.760002,123.349998,127.900002,128.369995,129.580002,129.100006,128.309998,134.41000400000001,132.429993,133.46000700000002,137.33999599999999,138.78999299999998,135.990005,134.740005,133.610001,131.740005,131.050003,131.630005,132.630005,130.169998,129.690002,131.449997,131.0,130.220001,128.71000700000002,132.490005,139.669998,139.850006,145.08999599999999,144.300003,144.300003,141.990005,136.740005,135.380005,136.309998,135.770004,137.399994,137.419998,136.96000700000002,137.880005,136.990005,136.389999,135.529999,136.009995,132.220001,130.0,130.71000700000002,129.720001,126.709999,125.559998,126.459999,124.849998,127.93,128.720001,125.709999,123.599998,121.940002,121.0,122.059998,122.16999799999999,123.209999,121.16999799999999,124.0,127.220001,125.860001,123.18,121.43,123.870003,124.239998,122.900002,121.660004,121.480003,122.58000200000001,120.400002,123.519997,124.18,126.160004,127.129997,127.91999799999999,130.389999,133.03999299999998,132.850006,134.66000400000001,135.0,135.0,134.669998,135.470001,135.529999,133.75,134.149994,135.119995,135.059998,135.41000400000001,135.020004,137.070007,133.559998,134.070007,131.490005,130.449997,129.75,131.259995,129.53999299999998,126.269997,124.639999,126.150002,127.889999,126.93,126.989998,124.91999799999999,127.720001,128.0,127.940002,128.320007,127.389999,127.639999,125.800003,125.349998,125.239998,124.849998,126.160004,126.32,128.46000700000002,127.75,128.190002,127.440002,130.53999299999998,130.600006,130.889999,132.550003,131.509995,132.41000400000001,134.080002,134.320007,134.639999,133.889999,135.25,136.490005,137.41000400000001,137.330002,140.0,143.149994,144.889999,144.059998,145.649994,146.320007,147.46000700000002,149.570007,150.0,149.759995,144.070007,147.100006,146.130005,148.199997,148.720001,149.830002,149.21000700000002,146.970001,146.550003,146.330002,146.949997,148.03999299999998,147.78999299999998,147.83999599999999,147.110001,146.699997,147.71000700000002,146.720001,149.050003,149.440002,151.190002,151.679993,150.720001,148.0,148.5,150.190002,150.860001,150.320007,149.119995,148.75,153.490005,152.800003,154.979996,154.720001,154.630005,157.259995],\"low\":[112.68,115.260002,112.5,110.0,112.800003,113.610001,112.040001,108.709999,106.089996,103.099998,109.160004,106.769997,105.0,107.66999799999999,112.779999,113.57,113.620003,115.83000200000001,112.220001,113.550003,112.25,114.129997,114.589996,114.91999799999999,119.279999,119.650002,119.620003,118.150002,118.809998,115.660004,115.629997,116.449997,114.589996,114.279999,112.879997,114.540001,111.099998,112.199997,107.720001,107.32,108.730003,112.349998,116.870003,116.129997,116.050003,114.129997,116.440002,118.57,117.870003,118.150002,118.959999,118.0,116.809998,117.290001,113.75,112.589996,115.16999799999999,116.220001,116.809998,120.010002,120.889999,122.209999,121.519997,122.25,123.089996,121.0,120.150002,120.550003,121.540001,124.129997,126.559998,128.03999299999998,126.120003,123.449997,129.649994,130.779999,131.100006,133.509995,134.33999599999999,133.399994,131.720001,126.760002,128.429993,126.379997,127.860001,130.229996,128.5,126.860001,128.490005,128.759995,127.0,126.940002,128.550003,133.58999599999999,135.020004,136.53999299999998,141.369995,140.41000400000001,136.699997,130.21000700000002,130.929993,134.610001,133.610001,134.58999599999999,135.860001,134.919998,135.850006,134.399994,133.770004,133.690002,132.78999299999998,129.470001,127.410004,128.800003,125.599998,118.389999,122.230003,120.540001,121.199997,122.790001,125.010002,121.839996,118.620003,117.57,116.209999,118.790001,119.449997,121.260002,119.160004,120.41999799999999,124.720001,122.339996,120.32,119.68,120.260002,122.139999,120.07,119.0,118.91999799999999,120.730003,118.860001,121.150002,122.489998,123.07,125.650002,125.139999,128.520004,129.470001,130.630005,131.929993,131.66000400000001,133.639999,133.279999,133.33999599999999,131.809998,131.300003,131.41000400000001,132.16000400000001,133.559998,134.110001,133.080002,132.449997,131.070007,131.830002,126.699997,127.970001,127.129997,129.479996,126.809998,122.769997,122.25,124.260002,125.849998,125.16999799999999,124.779999,122.860001,125.099998,125.209999,125.940002,126.32,126.41999799999999,125.08000200000001,124.550003,123.940002,124.050003,123.129997,123.849998,124.83000200000001,126.209999,126.519997,125.940002,126.099998,127.07,129.389999,128.46000700000002,129.649994,130.240005,129.21000700000002,131.619995,133.229996,132.929993,132.809998,133.350006,134.350006,135.869995,135.759995,137.75,140.070007,142.66000400000001,140.669998,142.649994,144.0,143.630005,147.679993,147.08999599999999,145.880005,141.669998,142.96000700000002,144.630005,145.809998,146.919998,147.699997,145.550003,142.53999299999998,144.580002,144.110001,145.25,145.179993,146.279999,146.169998,145.630005,145.520004,145.300003,145.529999,145.83999599999999,148.270004,146.470001,149.08999599999999,146.149994,144.5,146.779999,147.889999,149.149994,147.800003,147.509995,146.830002,148.610001,151.28999299999998,152.33999599999999,152.399994,153.08999599999999,154.389999],\"open\":[113.949997,117.260002,120.360001,114.57,114.720001,118.33000200000001,115.230003,109.720001,110.400002,104.540001,112.68,111.620003,105.16999799999999,108.43,115.010002,114.550003,113.790001,117.639999,112.889999,113.910004,115.699997,114.620003,116.25,115.279999,120.059998,125.269997,121.0,118.720001,121.279999,119.959999,116.199997,116.66999799999999,117.449997,116.389999,114.010002,115.489998,115.050003,112.370003,111.059998,109.110001,109.660004,114.139999,117.949997,118.32,120.5,115.550003,117.190002,119.620003,119.440002,118.91999799999999,119.550003,118.610001,117.589996,118.639999,117.18,113.910004,115.550003,116.57,116.970001,121.010002,122.019997,123.519997,122.599998,122.309998,124.370003,124.529999,120.5,122.43,122.599998,124.339996,127.410004,128.899994,128.96000700000002,125.019997,131.610001,132.16000400000001,131.320007,133.990005,138.050003,135.580002,134.080002,133.520004,128.889999,127.720001,128.360001,132.429993,129.190002,128.5,128.759995,130.800003,128.779999,127.779999,128.66000400000001,133.800003,136.279999,143.070007,143.600006,143.429993,139.520004,135.830002,133.75,135.729996,135.759995,136.300003,137.350006,136.029999,136.619995,136.479996,135.899994,134.350006,135.490005,131.25,129.199997,130.240005,128.009995,123.760002,124.940002,124.68,122.589996,123.75,128.41000400000001,124.809998,121.75,120.980003,120.93,119.029999,121.690002,122.540001,120.400002,121.410004,125.699997,124.050003,122.879997,119.900002,120.33000200000001,123.33000200000001,122.82,119.540001,120.349998,121.650002,120.110001,121.650002,123.660004,123.870003,126.5,125.83000200000001,128.949997,129.800003,132.520004,132.440002,134.940002,133.820007,134.300003,133.509995,135.020004,132.360001,133.03999299999998,132.16000400000001,134.830002,135.009995,134.309998,136.470001,131.779999,132.03999299999998,131.190002,129.199997,127.889999,130.850006,129.41000400000001,123.5,123.400002,124.58000200000001,126.25,126.82,126.559998,123.160004,125.230003,127.82,126.010002,127.82,126.959999,126.440002,125.57,125.08000200000001,124.279999,124.68,124.07,126.16999799999999,126.599998,127.209999,127.019997,126.529999,127.82,129.940002,130.369995,129.800003,130.71000700000002,130.300003,132.130005,133.770004,134.449997,133.46000700000002,133.41000400000001,134.800003,136.169998,136.600006,137.899994,140.070007,143.53999299999998,141.580002,142.75,146.21000700000002,144.029999,148.100006,149.240005,148.46000700000002,143.75,143.46000700000002,145.529999,145.940002,147.550003,148.270004,149.119995,144.809998,144.690002,144.380005,146.360001,145.809998,147.270004,146.979996,146.350006,146.199997,146.440002,146.050003,146.190002,148.970001,148.53999299999998,150.229996,149.800003,145.029999,147.440002,148.309998,149.449997,149.809998,148.350006,147.479996,149.0,152.66000400000001,152.830002,153.869995,153.759995,154.970001],\"type\":\"candlestick\",\"x\":[\"2020-09-08T00:00:00\",\"2020-09-09T00:00:00\",\"2020-09-10T00:00:00\",\"2020-09-11T00:00:00\",\"2020-09-14T00:00:00\",\"2020-09-15T00:00:00\",\"2020-09-16T00:00:00\",\"2020-09-17T00:00:00\",\"2020-09-18T00:00:00\",\"2020-09-21T00:00:00\",\"2020-09-22T00:00:00\",\"2020-09-23T00:00:00\",\"2020-09-24T00:00:00\",\"2020-09-25T00:00:00\",\"2020-09-28T00:00:00\",\"2020-09-29T00:00:00\",\"2020-09-30T00:00:00\",\"2020-10-01T00:00:00\",\"2020-10-02T00:00:00\",\"2020-10-05T00:00:00\",\"2020-10-06T00:00:00\",\"2020-10-07T00:00:00\",\"2020-10-08T00:00:00\",\"2020-10-09T00:00:00\",\"2020-10-12T00:00:00\",\"2020-10-13T00:00:00\",\"2020-10-14T00:00:00\",\"2020-10-15T00:00:00\",\"2020-10-16T00:00:00\",\"2020-10-19T00:00:00\",\"2020-10-20T00:00:00\",\"2020-10-21T00:00:00\",\"2020-10-22T00:00:00\",\"2020-10-23T00:00:00\",\"2020-10-26T00:00:00\",\"2020-10-27T00:00:00\",\"2020-10-28T00:00:00\",\"2020-10-29T00:00:00\",\"2020-10-30T00:00:00\",\"2020-11-02T00:00:00\",\"2020-11-03T00:00:00\",\"2020-11-04T00:00:00\",\"2020-11-05T00:00:00\",\"2020-11-06T00:00:00\",\"2020-11-09T00:00:00\",\"2020-11-10T00:00:00\",\"2020-11-11T00:00:00\",\"2020-11-12T00:00:00\",\"2020-11-13T00:00:00\",\"2020-11-16T00:00:00\",\"2020-11-17T00:00:00\",\"2020-11-18T00:00:00\",\"2020-11-19T00:00:00\",\"2020-11-20T00:00:00\",\"2020-11-23T00:00:00\",\"2020-11-24T00:00:00\",\"2020-11-25T00:00:00\",\"2020-11-27T00:00:00\",\"2020-11-30T00:00:00\",\"2020-12-01T00:00:00\",\"2020-12-02T00:00:00\",\"2020-12-03T00:00:00\",\"2020-12-04T00:00:00\",\"2020-12-07T00:00:00\",\"2020-12-08T00:00:00\",\"2020-12-09T00:00:00\",\"2020-12-10T00:00:00\",\"2020-12-11T00:00:00\",\"2020-12-14T00:00:00\",\"2020-12-15T00:00:00\",\"2020-12-16T00:00:00\",\"2020-12-17T00:00:00\",\"2020-12-18T00:00:00\",\"2020-12-21T00:00:00\",\"2020-12-22T00:00:00\",\"2020-12-23T00:00:00\",\"2020-12-24T00:00:00\",\"2020-12-28T00:00:00\",\"2020-12-29T00:00:00\",\"2020-12-30T00:00:00\",\"2020-12-31T00:00:00\",\"2021-01-04T00:00:00\",\"2021-01-05T00:00:00\",\"2021-01-06T00:00:00\",\"2021-01-07T00:00:00\",\"2021-01-08T00:00:00\",\"2021-01-11T00:00:00\",\"2021-01-12T00:00:00\",\"2021-01-13T00:00:00\",\"2021-01-14T00:00:00\",\"2021-01-15T00:00:00\",\"2021-01-19T00:00:00\",\"2021-01-20T00:00:00\",\"2021-01-21T00:00:00\",\"2021-01-22T00:00:00\",\"2021-01-25T00:00:00\",\"2021-01-26T00:00:00\",\"2021-01-27T00:00:00\",\"2021-01-28T00:00:00\",\"2021-01-29T00:00:00\",\"2021-02-01T00:00:00\",\"2021-02-02T00:00:00\",\"2021-02-03T00:00:00\",\"2021-02-04T00:00:00\",\"2021-02-05T00:00:00\",\"2021-02-08T00:00:00\",\"2021-02-09T00:00:00\",\"2021-02-10T00:00:00\",\"2021-02-11T00:00:00\",\"2021-02-12T00:00:00\",\"2021-02-16T00:00:00\",\"2021-02-17T00:00:00\",\"2021-02-18T00:00:00\",\"2021-02-19T00:00:00\",\"2021-02-22T00:00:00\",\"2021-02-23T00:00:00\",\"2021-02-24T00:00:00\",\"2021-02-25T00:00:00\",\"2021-02-26T00:00:00\",\"2021-03-01T00:00:00\",\"2021-03-02T00:00:00\",\"2021-03-03T00:00:00\",\"2021-03-04T00:00:00\",\"2021-03-05T00:00:00\",\"2021-03-08T00:00:00\",\"2021-03-09T00:00:00\",\"2021-03-10T00:00:00\",\"2021-03-11T00:00:00\",\"2021-03-12T00:00:00\",\"2021-03-15T00:00:00\",\"2021-03-16T00:00:00\",\"2021-03-17T00:00:00\",\"2021-03-18T00:00:00\",\"2021-03-19T00:00:00\",\"2021-03-22T00:00:00\",\"2021-03-23T00:00:00\",\"2021-03-24T00:00:00\",\"2021-03-25T00:00:00\",\"2021-03-26T00:00:00\",\"2021-03-29T00:00:00\",\"2021-03-30T00:00:00\",\"2021-03-31T00:00:00\",\"2021-04-01T00:00:00\",\"2021-04-05T00:00:00\",\"2021-04-06T00:00:00\",\"2021-04-07T00:00:00\",\"2021-04-08T00:00:00\",\"2021-04-09T00:00:00\",\"2021-04-12T00:00:00\",\"2021-04-13T00:00:00\",\"2021-04-14T00:00:00\",\"2021-04-15T00:00:00\",\"2021-04-16T00:00:00\",\"2021-04-19T00:00:00\",\"2021-04-20T00:00:00\",\"2021-04-21T00:00:00\",\"2021-04-22T00:00:00\",\"2021-04-23T00:00:00\",\"2021-04-26T00:00:00\",\"2021-04-27T00:00:00\",\"2021-04-28T00:00:00\",\"2021-04-29T00:00:00\",\"2021-04-30T00:00:00\",\"2021-05-03T00:00:00\",\"2021-05-04T00:00:00\",\"2021-05-05T00:00:00\",\"2021-05-06T00:00:00\",\"2021-05-07T00:00:00\",\"2021-05-10T00:00:00\",\"2021-05-11T00:00:00\",\"2021-05-12T00:00:00\",\"2021-05-13T00:00:00\",\"2021-05-14T00:00:00\",\"2021-05-17T00:00:00\",\"2021-05-18T00:00:00\",\"2021-05-19T00:00:00\",\"2021-05-20T00:00:00\",\"2021-05-21T00:00:00\",\"2021-05-24T00:00:00\",\"2021-05-25T00:00:00\",\"2021-05-26T00:00:00\",\"2021-05-27T00:00:00\",\"2021-05-28T00:00:00\",\"2021-06-01T00:00:00\",\"2021-06-02T00:00:00\",\"2021-06-03T00:00:00\",\"2021-06-04T00:00:00\",\"2021-06-07T00:00:00\",\"2021-06-08T00:00:00\",\"2021-06-09T00:00:00\",\"2021-06-10T00:00:00\",\"2021-06-11T00:00:00\",\"2021-06-14T00:00:00\",\"2021-06-15T00:00:00\",\"2021-06-16T00:00:00\",\"2021-06-17T00:00:00\",\"2021-06-18T00:00:00\",\"2021-06-21T00:00:00\",\"2021-06-22T00:00:00\",\"2021-06-23T00:00:00\",\"2021-06-24T00:00:00\",\"2021-06-25T00:00:00\",\"2021-06-28T00:00:00\",\"2021-06-29T00:00:00\",\"2021-06-30T00:00:00\",\"2021-07-01T00:00:00\",\"2021-07-02T00:00:00\",\"2021-07-06T00:00:00\",\"2021-07-07T00:00:00\",\"2021-07-08T00:00:00\",\"2021-07-09T00:00:00\",\"2021-07-12T00:00:00\",\"2021-07-13T00:00:00\",\"2021-07-14T00:00:00\",\"2021-07-15T00:00:00\",\"2021-07-16T00:00:00\",\"2021-07-19T00:00:00\",\"2021-07-20T00:00:00\",\"2021-07-21T00:00:00\",\"2021-07-22T00:00:00\",\"2021-07-23T00:00:00\",\"2021-07-26T00:00:00\",\"2021-07-27T00:00:00\",\"2021-07-28T00:00:00\",\"2021-07-29T00:00:00\",\"2021-07-30T00:00:00\",\"2021-08-02T00:00:00\",\"2021-08-03T00:00:00\",\"2021-08-04T00:00:00\",\"2021-08-05T00:00:00\",\"2021-08-06T00:00:00\",\"2021-08-09T00:00:00\",\"2021-08-10T00:00:00\",\"2021-08-11T00:00:00\",\"2021-08-12T00:00:00\",\"2021-08-13T00:00:00\",\"2021-08-16T00:00:00\",\"2021-08-17T00:00:00\",\"2021-08-18T00:00:00\",\"2021-08-19T00:00:00\",\"2021-08-20T00:00:00\",\"2021-08-23T00:00:00\",\"2021-08-24T00:00:00\",\"2021-08-25T00:00:00\",\"2021-08-26T00:00:00\",\"2021-08-27T00:00:00\",\"2021-08-30T00:00:00\",\"2021-08-31T00:00:00\",\"2021-09-01T00:00:00\",\"2021-09-02T00:00:00\",\"2021-09-03T00:00:00\",\"2021-09-07T00:00:00\"]}],                        {\"template\":{\"data\":{\"bar\":[{\"error_x\":{\"color\":\"#2a3f5f\"},\"error_y\":{\"color\":\"#2a3f5f\"},\"marker\":{\"line\":{\"color\":\"#E5ECF6\",\"width\":0.5},\"pattern\":{\"fillmode\":\"overlay\",\"size\":10,\"solidity\":0.2}},\"type\":\"bar\"}],\"barpolar\":[{\"marker\":{\"line\":{\"color\":\"#E5ECF6\",\"width\":0.5},\"pattern\":{\"fillmode\":\"overlay\",\"size\":10,\"solidity\":0.2}},\"type\":\"barpolar\"}],\"carpet\":[{\"aaxis\":{\"endlinecolor\":\"#2a3f5f\",\"gridcolor\":\"white\",\"linecolor\":\"white\",\"minorgridcolor\":\"white\",\"startlinecolor\":\"#2a3f5f\"},\"baxis\":{\"endlinecolor\":\"#2a3f5f\",\"gridcolor\":\"white\",\"linecolor\":\"white\",\"minorgridcolor\":\"white\",\"startlinecolor\":\"#2a3f5f\"},\"type\":\"carpet\"}],\"choropleth\":[{\"colorbar\":{\"outlinewidth\":0,\"ticks\":\"\"},\"type\":\"choropleth\"}],\"contour\":[{\"colorbar\":{\"outlinewidth\":0,\"ticks\":\"\"},\"colorscale\":[[0.0,\"#0d0887\"],[0.1111111111111111,\"#46039f\"],[0.2222222222222222,\"#7201a8\"],[0.3333333333333333,\"#9c179e\"],[0.4444444444444444,\"#bd3786\"],[0.5555555555555556,\"#d8576b\"],[0.6666666666666666,\"#ed7953\"],[0.7777777777777778,\"#fb9f3a\"],[0.8888888888888888,\"#fdca26\"],[1.0,\"#f0f921\"]],\"type\":\"contour\"}],\"contourcarpet\":[{\"colorbar\":{\"outlinewidth\":0,\"ticks\":\"\"},\"type\":\"contourcarpet\"}],\"heatmap\":[{\"colorbar\":{\"outlinewidth\":0,\"ticks\":\"\"},\"colorscale\":[[0.0,\"#0d0887\"],[0.1111111111111111,\"#46039f\"],[0.2222222222222222,\"#7201a8\"],[0.3333333333333333,\"#9c179e\"],[0.4444444444444444,\"#bd3786\"],[0.5555555555555556,\"#d8576b\"],[0.6666666666666666,\"#ed7953\"],[0.7777777777777778,\"#fb9f3a\"],[0.8888888888888888,\"#fdca26\"],[1.0,\"#f0f921\"]],\"type\":\"heatmap\"}],\"heatmapgl\":[{\"colorbar\":{\"outlinewidth\":0,\"ticks\":\"\"},\"colorscale\":[[0.0,\"#0d0887\"],[0.1111111111111111,\"#46039f\"],[0.2222222222222222,\"#7201a8\"],[0.3333333333333333,\"#9c179e\"],[0.4444444444444444,\"#bd3786\"],[0.5555555555555556,\"#d8576b\"],[0.6666666666666666,\"#ed7953\"],[0.7777777777777778,\"#fb9f3a\"],[0.8888888888888888,\"#fdca26\"],[1.0,\"#f0f921\"]],\"type\":\"heatmapgl\"}],\"histogram\":[{\"marker\":{\"pattern\":{\"fillmode\":\"overlay\",\"size\":10,\"solidity\":0.2}},\"type\":\"histogram\"}],\"histogram2d\":[{\"colorbar\":{\"outlinewidth\":0,\"ticks\":\"\"},\"colorscale\":[[0.0,\"#0d0887\"],[0.1111111111111111,\"#46039f\"],[0.2222222222222222,\"#7201a8\"],[0.3333333333333333,\"#9c179e\"],[0.4444444444444444,\"#bd3786\"],[0.5555555555555556,\"#d8576b\"],[0.6666666666666666,\"#ed7953\"],[0.7777777777777778,\"#fb9f3a\"],[0.8888888888888888,\"#fdca26\"],[1.0,\"#f0f921\"]],\"type\":\"histogram2d\"}],\"histogram2dcontour\":[{\"colorbar\":{\"outlinewidth\":0,\"ticks\":\"\"},\"colorscale\":[[0.0,\"#0d0887\"],[0.1111111111111111,\"#46039f\"],[0.2222222222222222,\"#7201a8\"],[0.3333333333333333,\"#9c179e\"],[0.4444444444444444,\"#bd3786\"],[0.5555555555555556,\"#d8576b\"],[0.6666666666666666,\"#ed7953\"],[0.7777777777777778,\"#fb9f3a\"],[0.8888888888888888,\"#fdca26\"],[1.0,\"#f0f921\"]],\"type\":\"histogram2dcontour\"}],\"mesh3d\":[{\"colorbar\":{\"outlinewidth\":0,\"ticks\":\"\"},\"type\":\"mesh3d\"}],\"parcoords\":[{\"line\":{\"colorbar\":{\"outlinewidth\":0,\"ticks\":\"\"}},\"type\":\"parcoords\"}],\"pie\":[{\"automargin\":true,\"type\":\"pie\"}],\"scatter\":[{\"marker\":{\"colorbar\":{\"outlinewidth\":0,\"ticks\":\"\"}},\"type\":\"scatter\"}],\"scatter3d\":[{\"line\":{\"colorbar\":{\"outlinewidth\":0,\"ticks\":\"\"}},\"marker\":{\"colorbar\":{\"outlinewidth\":0,\"ticks\":\"\"}},\"type\":\"scatter3d\"}],\"scattercarpet\":[{\"marker\":{\"colorbar\":{\"outlinewidth\":0,\"ticks\":\"\"}},\"type\":\"scattercarpet\"}],\"scattergeo\":[{\"marker\":{\"colorbar\":{\"outlinewidth\":0,\"ticks\":\"\"}},\"type\":\"scattergeo\"}],\"scattergl\":[{\"marker\":{\"colorbar\":{\"outlinewidth\":0,\"ticks\":\"\"}},\"type\":\"scattergl\"}],\"scattermapbox\":[{\"marker\":{\"colorbar\":{\"outlinewidth\":0,\"ticks\":\"\"}},\"type\":\"scattermapbox\"}],\"scatterpolar\":[{\"marker\":{\"colorbar\":{\"outlinewidth\":0,\"ticks\":\"\"}},\"type\":\"scatterpolar\"}],\"scatterpolargl\":[{\"marker\":{\"colorbar\":{\"outlinewidth\":0,\"ticks\":\"\"}},\"type\":\"scatterpolargl\"}],\"scatterternary\":[{\"marker\":{\"colorbar\":{\"outlinewidth\":0,\"ticks\":\"\"}},\"type\":\"scatterternary\"}],\"surface\":[{\"colorbar\":{\"outlinewidth\":0,\"ticks\":\"\"},\"colorscale\":[[0.0,\"#0d0887\"],[0.1111111111111111,\"#46039f\"],[0.2222222222222222,\"#7201a8\"],[0.3333333333333333,\"#9c179e\"],[0.4444444444444444,\"#bd3786\"],[0.5555555555555556,\"#d8576b\"],[0.6666666666666666,\"#ed7953\"],[0.7777777777777778,\"#fb9f3a\"],[0.8888888888888888,\"#fdca26\"],[1.0,\"#f0f921\"]],\"type\":\"surface\"}],\"table\":[{\"cells\":{\"fill\":{\"color\":\"#EBF0F8\"},\"line\":{\"color\":\"white\"}},\"header\":{\"fill\":{\"color\":\"#C8D4E3\"},\"line\":{\"color\":\"white\"}},\"type\":\"table\"}]},\"layout\":{\"annotationdefaults\":{\"arrowcolor\":\"#2a3f5f\",\"arrowhead\":0,\"arrowwidth\":1},\"autotypenumbers\":\"strict\",\"coloraxis\":{\"colorbar\":{\"outlinewidth\":0,\"ticks\":\"\"}},\"colorscale\":{\"diverging\":[[0,\"#8e0152\"],[0.1,\"#c51b7d\"],[0.2,\"#de77ae\"],[0.3,\"#f1b6da\"],[0.4,\"#fde0ef\"],[0.5,\"#f7f7f7\"],[0.6,\"#e6f5d0\"],[0.7,\"#b8e186\"],[0.8,\"#7fbc41\"],[0.9,\"#4d9221\"],[1,\"#276419\"]],\"sequential\":[[0.0,\"#0d0887\"],[0.1111111111111111,\"#46039f\"],[0.2222222222222222,\"#7201a8\"],[0.3333333333333333,\"#9c179e\"],[0.4444444444444444,\"#bd3786\"],[0.5555555555555556,\"#d8576b\"],[0.6666666666666666,\"#ed7953\"],[0.7777777777777778,\"#fb9f3a\"],[0.8888888888888888,\"#fdca26\"],[1.0,\"#f0f921\"]],\"sequentialminus\":[[0.0,\"#0d0887\"],[0.1111111111111111,\"#46039f\"],[0.2222222222222222,\"#7201a8\"],[0.3333333333333333,\"#9c179e\"],[0.4444444444444444,\"#bd3786\"],[0.5555555555555556,\"#d8576b\"],[0.6666666666666666,\"#ed7953\"],[0.7777777777777778,\"#fb9f3a\"],[0.8888888888888888,\"#fdca26\"],[1.0,\"#f0f921\"]]},\"colorway\":[\"#636efa\",\"#EF553B\",\"#00cc96\",\"#ab63fa\",\"#FFA15A\",\"#19d3f3\",\"#FF6692\",\"#B6E880\",\"#FF97FF\",\"#FECB52\"],\"font\":{\"color\":\"#2a3f5f\"},\"geo\":{\"bgcolor\":\"white\",\"lakecolor\":\"white\",\"landcolor\":\"#E5ECF6\",\"showlakes\":true,\"showland\":true,\"subunitcolor\":\"white\"},\"hoverlabel\":{\"align\":\"left\"},\"hovermode\":\"closest\",\"mapbox\":{\"style\":\"light\"},\"paper_bgcolor\":\"white\",\"plot_bgcolor\":\"#E5ECF6\",\"polar\":{\"angularaxis\":{\"gridcolor\":\"white\",\"linecolor\":\"white\",\"ticks\":\"\"},\"bgcolor\":\"#E5ECF6\",\"radialaxis\":{\"gridcolor\":\"white\",\"linecolor\":\"white\",\"ticks\":\"\"}},\"scene\":{\"xaxis\":{\"backgroundcolor\":\"#E5ECF6\",\"gridcolor\":\"white\",\"gridwidth\":2,\"linecolor\":\"white\",\"showbackground\":true,\"ticks\":\"\",\"zerolinecolor\":\"white\"},\"yaxis\":{\"backgroundcolor\":\"#E5ECF6\",\"gridcolor\":\"white\",\"gridwidth\":2,\"linecolor\":\"white\",\"showbackground\":true,\"ticks\":\"\",\"zerolinecolor\":\"white\"},\"zaxis\":{\"backgroundcolor\":\"#E5ECF6\",\"gridcolor\":\"white\",\"gridwidth\":2,\"linecolor\":\"white\",\"showbackground\":true,\"ticks\":\"\",\"zerolinecolor\":\"white\"}},\"shapedefaults\":{\"line\":{\"color\":\"#2a3f5f\"}},\"ternary\":{\"aaxis\":{\"gridcolor\":\"white\",\"linecolor\":\"white\",\"ticks\":\"\"},\"baxis\":{\"gridcolor\":\"white\",\"linecolor\":\"white\",\"ticks\":\"\"},\"bgcolor\":\"#E5ECF6\",\"caxis\":{\"gridcolor\":\"white\",\"linecolor\":\"white\",\"ticks\":\"\"}},\"title\":{\"x\":0.05},\"xaxis\":{\"automargin\":true,\"gridcolor\":\"white\",\"linecolor\":\"white\",\"ticks\":\"\",\"title\":{\"standoff\":15},\"zerolinecolor\":\"white\",\"zerolinewidth\":2},\"yaxis\":{\"automargin\":true,\"gridcolor\":\"white\",\"linecolor\":\"white\",\"ticks\":\"\",\"title\":{\"standoff\":15},\"zerolinecolor\":\"white\",\"zerolinewidth\":2}}},\"title\":{\"text\":\"AAPLE Prices (09.2020 - 09.2021)\"},\"xaxis\":{\"title\":{\"text\":\"Date\"}},\"yaxis\":{\"title\":{\"text\":\"Prices ($)\"}}},                        {\"responsive\": true}                    ).then(function(){\n",
       "                            \n",
       "var gd = document.getElementById('832c521a-e5b9-4b94-9273-b1e3ff3b20a8');\n",
       "var x = new MutationObserver(function (mutations, observer) {{\n",
       "        var display = window.getComputedStyle(gd).display;\n",
       "        if (!display || display === 'none') {{\n",
       "            console.log([gd, 'removed!']);\n",
       "            Plotly.purge(gd);\n",
       "            observer.disconnect();\n",
       "        }}\n",
       "}});\n",
       "\n",
       "// Listen for the removal of the full notebook cells\n",
       "var notebookContainer = gd.closest('#notebook-container');\n",
       "if (notebookContainer) {{\n",
       "    x.observe(notebookContainer, {childList: true});\n",
       "}}\n",
       "\n",
       "// Listen for the clearing of the current output cell\n",
       "var outputEl = gd.closest('.output');\n",
       "if (outputEl) {{\n",
       "    x.observe(outputEl, {childList: true});\n",
       "}}\n",
       "\n",
       "                        })                };                });            </script>        </div>"
      ]
     },
     "metadata": {},
     "output_type": "display_data"
    }
   ],
   "source": [
    "import plotly.graph_objects as go\n",
    "import plotly.express as px\n",
    "\n",
    "fig = go.Figure(data=[go.Candlestick(x=df.index,\n",
    "                open=df['Open'],\n",
    "                high=df['High'],\n",
    "                low=df['Low'],\n",
    "                close=df['Close']),\n",
    "                ])\n",
    "\n",
    "fig.update_layout(\n",
    "    title='AAPLE Prices (09.2020 - 09.2021)',\n",
    "    xaxis_title = 'Date',\n",
    "    yaxis_title='Prices ($)'\n",
    ")\n",
    "\n",
    "fig.show()"
   ]
  },
  {
   "cell_type": "code",
   "execution_count": null,
   "metadata": {},
   "outputs": [],
   "source": []
  }
 ],
 "metadata": {
  "kernelspec": {
   "display_name": "Python 3",
   "language": "python",
   "name": "python3"
  },
  "language_info": {
   "codemirror_mode": {
    "name": "ipython",
    "version": 3
   },
   "file_extension": ".py",
   "mimetype": "text/x-python",
   "name": "python",
   "nbconvert_exporter": "python",
   "pygments_lexer": "ipython3",
   "version": "3.6.4"
  }
 },
 "nbformat": 4,
 "nbformat_minor": 2
}
